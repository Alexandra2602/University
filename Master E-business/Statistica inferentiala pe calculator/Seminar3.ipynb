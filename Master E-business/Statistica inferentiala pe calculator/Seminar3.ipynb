{
 "cells": [
  {
   "cell_type": "markdown",
   "id": "8fdad4a6-30f1-412b-8446-0a4bb42a94f1",
   "metadata": {},
   "source": [
    "## Seminar 3"
   ]
  },
  {
   "cell_type": "code",
   "execution_count": 1,
   "id": "d6d760c5-adda-49ae-bd14-63d2569891dd",
   "metadata": {},
   "outputs": [
    {
     "name": "stdout",
     "output_type": "stream",
     "text": [
      "Hello world!\n"
     ]
    }
   ],
   "source": [
    "print(\"Hello world!\")"
   ]
  },
  {
   "cell_type": "code",
   "execution_count": 3,
   "id": "c1fc3047-0c70-4d7e-bcdf-ad08e4084d65",
   "metadata": {},
   "outputs": [],
   "source": [
    "import numpy as np"
   ]
  },
  {
   "cell_type": "code",
   "execution_count": 4,
   "id": "6b4024b9-05d2-4aa9-84b6-a8a2cec8f6ee",
   "metadata": {},
   "outputs": [],
   "source": [
    "b=[1,2,3]"
   ]
  },
  {
   "cell_type": "code",
   "execution_count": 5,
   "id": "e0c7b2f4-4953-4f89-806a-3f5ffccaa2aa",
   "metadata": {},
   "outputs": [
    {
     "data": {
      "text/plain": [
       "\u001b[1;31mType:\u001b[0m        list\n",
       "\u001b[1;31mString form:\u001b[0m [1, 2, 3]\n",
       "\u001b[1;31mLength:\u001b[0m      3\n",
       "\u001b[1;31mDocstring:\u001b[0m  \n",
       "Built-in mutable sequence.\n",
       "\n",
       "If no argument is given, the constructor creates a new empty list.\n",
       "The argument must be an iterable if specified.\n"
      ]
     },
     "metadata": {},
     "output_type": "display_data"
    }
   ],
   "source": [
    "b?"
   ]
  },
  {
   "cell_type": "code",
   "execution_count": 6,
   "id": "29bea6ba-452b-4129-b3c8-3abc482b726c",
   "metadata": {},
   "outputs": [
    {
     "data": {
      "text/plain": [
       "[1, 2, 3]"
      ]
     },
     "execution_count": 6,
     "metadata": {},
     "output_type": "execute_result"
    }
   ],
   "source": [
    "b"
   ]
  },
  {
   "cell_type": "code",
   "execution_count": 7,
   "id": "f85a8843-ed2b-4c34-b000-f495f5159005",
   "metadata": {},
   "outputs": [
    {
     "data": {
      "text/plain": [
       "\u001b[1;31mType:\u001b[0m        list\n",
       "\u001b[1;31mString form:\u001b[0m [1, 2, 3]\n",
       "\u001b[1;31mLength:\u001b[0m      3\n",
       "\u001b[1;31mDocstring:\u001b[0m  \n",
       "Built-in mutable sequence.\n",
       "\n",
       "If no argument is given, the constructor creates a new empty list.\n",
       "The argument must be an iterable if specified.\n"
      ]
     },
     "metadata": {},
     "output_type": "display_data"
    }
   ],
   "source": [
    "?b"
   ]
  },
  {
   "cell_type": "code",
   "execution_count": 8,
   "id": "cbd11951-4685-40ab-bdda-bbf814b92bba",
   "metadata": {},
   "outputs": [
    {
     "data": {
      "text/plain": [
       "\u001b[1;31mDocstring:\u001b[0m\n",
       "print(value, ..., sep=' ', end='\\n', file=sys.stdout, flush=False)\n",
       "\n",
       "Prints the values to a stream, or to sys.stdout by default.\n",
       "Optional keyword arguments:\n",
       "file:  a file-like object (stream); defaults to the current sys.stdout.\n",
       "sep:   string inserted between values, default a space.\n",
       "end:   string appended after the last value, default a newline.\n",
       "flush: whether to forcibly flush the stream.\n",
       "\u001b[1;31mType:\u001b[0m      builtin_function_or_method\n"
      ]
     },
     "metadata": {},
     "output_type": "display_data"
    }
   ],
   "source": [
    "print?"
   ]
  },
  {
   "cell_type": "code",
   "execution_count": 13,
   "id": "c344517b-a27b-4698-870f-f10aed51e1ef",
   "metadata": {},
   "outputs": [],
   "source": [
    "def suma(a,b):\n",
    "    \"\"\"\n",
    "    functia calculeaza suma lui a si b\n",
    "    params: a: primul numar\n",
    "    params: b: al doilea numar\n",
    "    \"\"\"\n",
    "    return a+b"
   ]
  },
  {
   "cell_type": "code",
   "execution_count": 14,
   "id": "d92c3b7e-6ae9-4d88-9935-9af56d235331",
   "metadata": {},
   "outputs": [
    {
     "data": {
      "text/plain": [
       "15"
      ]
     },
     "execution_count": 14,
     "metadata": {},
     "output_type": "execute_result"
    }
   ],
   "source": [
    "suma(7,8)"
   ]
  },
  {
   "cell_type": "code",
   "execution_count": 16,
   "id": "d19c8daa-2535-449c-a27b-f2f43c0ab58f",
   "metadata": {},
   "outputs": [
    {
     "data": {
      "text/plain": [
       "5"
      ]
     },
     "execution_count": 16,
     "metadata": {},
     "output_type": "execute_result"
    }
   ],
   "source": [
    "suma(2,3)"
   ]
  },
  {
   "cell_type": "code",
   "execution_count": 17,
   "id": "583467a5-ca66-4498-be81-bffcf8ea9dbb",
   "metadata": {},
   "outputs": [
    {
     "data": {
      "text/plain": [
       "\u001b[1;31mSignature:\u001b[0m \u001b[0msuma\u001b[0m\u001b[1;33m(\u001b[0m\u001b[0ma\u001b[0m\u001b[1;33m,\u001b[0m \u001b[0mb\u001b[0m\u001b[1;33m)\u001b[0m\u001b[1;33m\u001b[0m\u001b[1;33m\u001b[0m\u001b[0m\n",
       "\u001b[1;31mDocstring:\u001b[0m\n",
       "functia calculeaza suma lui a si b\n",
       "params: a: primul numar\n",
       "params: b: al doilea numar\n",
       "\u001b[1;31mFile:\u001b[0m      c:\\users\\maria\\appdata\\local\\temp\\ipykernel_14332\\3504595087.py\n",
       "\u001b[1;31mType:\u001b[0m      function\n"
      ]
     },
     "metadata": {},
     "output_type": "display_data"
    }
   ],
   "source": [
    "suma?"
   ]
  },
  {
   "cell_type": "code",
   "execution_count": 19,
   "id": "131fc6fa-0f70-41a5-b17c-42d238642522",
   "metadata": {},
   "outputs": [
    {
     "data": {
      "text/plain": [
       "10"
      ]
     },
     "execution_count": 19,
     "metadata": {},
     "output_type": "execute_result"
    }
   ],
   "source": [
    "a=4\n",
    "# a=5\n",
    "suma(a,6)"
   ]
  },
  {
   "cell_type": "code",
   "execution_count": 20,
   "id": "6545d6f2-4a7d-4201-81e0-2d3ee58cdaae",
   "metadata": {},
   "outputs": [
    {
     "data": {
      "text/plain": [
       "\u001b[1;31mSignature:\u001b[0m \u001b[0msuma\u001b[0m\u001b[1;33m(\u001b[0m\u001b[0ma\u001b[0m\u001b[1;33m,\u001b[0m \u001b[0mb\u001b[0m\u001b[1;33m)\u001b[0m\u001b[1;33m\u001b[0m\u001b[1;33m\u001b[0m\u001b[0m\n",
       "\u001b[1;31mSource:\u001b[0m   \n",
       "\u001b[1;32mdef\u001b[0m \u001b[0msuma\u001b[0m\u001b[1;33m(\u001b[0m\u001b[0ma\u001b[0m\u001b[1;33m,\u001b[0m\u001b[0mb\u001b[0m\u001b[1;33m)\u001b[0m\u001b[1;33m:\u001b[0m\u001b[1;33m\n",
       "\u001b[0m    \u001b[1;34m\"\"\"\n",
       "    functia calculeaza suma lui a si b\n",
       "    params: a: primul numar\n",
       "    params: b: al doilea numar\n",
       "    \"\"\"\u001b[0m\u001b[1;33m\n",
       "\u001b[0m    \u001b[1;32mreturn\u001b[0m \u001b[0ma\u001b[0m\u001b[1;33m+\u001b[0m\u001b[0mb\u001b[0m\u001b[1;33m\u001b[0m\u001b[1;33m\u001b[0m\u001b[0m\n",
       "\u001b[1;31mFile:\u001b[0m      c:\\users\\maria\\appdata\\local\\temp\\ipykernel_14332\\3504595087.py\n",
       "\u001b[1;31mType:\u001b[0m      function\n"
      ]
     },
     "metadata": {},
     "output_type": "display_data"
    }
   ],
   "source": [
    "suma??"
   ]
  },
  {
   "cell_type": "code",
   "execution_count": 21,
   "id": "7a066bf3-2734-4791-a17e-16db65780777",
   "metadata": {},
   "outputs": [
    {
     "name": "stdout",
     "output_type": "stream",
     "text": [
      "a\t b\t np\t suma\t \n"
     ]
    }
   ],
   "source": [
    "%who"
   ]
  },
  {
   "cell_type": "code",
   "execution_count": 22,
   "id": "f306bc2e-6fd4-44e3-8821-2d67463ad5b7",
   "metadata": {},
   "outputs": [
    {
     "name": "stdout",
     "output_type": "stream",
     "text": [
      "Variable   Type        Data/Info\n",
      "--------------------------------\n",
      "a          int         4\n",
      "b          list        n=3\n",
      "np         module      <module 'numpy' from 'C:\\<...>ges\\\\numpy\\\\__init__.py'>\n",
      "suma       function    <function suma at 0x0000022295EFF4C0>\n"
     ]
    }
   ],
   "source": [
    "%whos"
   ]
  },
  {
   "cell_type": "code",
   "execution_count": 23,
   "id": "4ba86393-c8d4-4ec6-8f18-f750e55aa0bb",
   "metadata": {},
   "outputs": [
    {
     "data": {
      "text/plain": [
       "'C:\\\\Users\\\\maria\\\\OneDrive\\\\Desktop\\\\MASTER\\\\AN1\\\\SEM1\\\\Statistica inferentiala pe calculator\\\\Lab'"
      ]
     },
     "execution_count": 23,
     "metadata": {},
     "output_type": "execute_result"
    }
   ],
   "source": [
    "%pwd"
   ]
  },
  {
   "cell_type": "code",
   "execution_count": 26,
   "id": "c2e464e1-4a80-4536-b553-2c1e99645d21",
   "metadata": {},
   "outputs": [
    {
     "name": "stdout",
     "output_type": "stream",
     "text": [
      "250 ns ± 2.94 ns per loop (mean ± std. dev. of 7 runs, 1,000,000 loops each)\n"
     ]
    }
   ],
   "source": [
    "%timeit suma(1,2)"
   ]
  },
  {
   "cell_type": "markdown",
   "id": "d0d59f85-3f15-4552-9f6f-834f4e0b6e06",
   "metadata": {},
   "source": [
    "## python"
   ]
  },
  {
   "cell_type": "code",
   "execution_count": 28,
   "id": "60fb47f8-5464-4528-96a5-9ad439458d81",
   "metadata": {},
   "outputs": [],
   "source": [
    "a=[1,2,3]"
   ]
  },
  {
   "cell_type": "code",
   "execution_count": 29,
   "id": "9e97caea-fd43-4737-a1d6-53b525d63eee",
   "metadata": {},
   "outputs": [],
   "source": [
    "b=a"
   ]
  },
  {
   "cell_type": "code",
   "execution_count": 30,
   "id": "6fab8982-dd8b-4e1c-92eb-da6ad2d1f9bc",
   "metadata": {},
   "outputs": [
    {
     "data": {
      "text/plain": [
       "[1, 2, 3]"
      ]
     },
     "execution_count": 30,
     "metadata": {},
     "output_type": "execute_result"
    }
   ],
   "source": [
    "b"
   ]
  },
  {
   "cell_type": "code",
   "execution_count": 31,
   "id": "a828248b-b75f-48cb-8135-186017b108f0",
   "metadata": {},
   "outputs": [
    {
     "data": {
      "text/plain": [
       "[1, 2, 3]"
      ]
     },
     "execution_count": 31,
     "metadata": {},
     "output_type": "execute_result"
    }
   ],
   "source": [
    "a"
   ]
  },
  {
   "cell_type": "code",
   "execution_count": 32,
   "id": "1ba16193-9d5c-4650-934f-bc7e77354d1d",
   "metadata": {},
   "outputs": [],
   "source": [
    "a.append(5)"
   ]
  },
  {
   "cell_type": "code",
   "execution_count": 33,
   "id": "12a639d7-5694-46e8-b1aa-a9c7e2b528bb",
   "metadata": {},
   "outputs": [
    {
     "data": {
      "text/plain": [
       "[1, 2, 3, 5]"
      ]
     },
     "execution_count": 33,
     "metadata": {},
     "output_type": "execute_result"
    }
   ],
   "source": [
    "a"
   ]
  },
  {
   "cell_type": "code",
   "execution_count": 34,
   "id": "57617f7c-2096-4d67-8203-57415ae42817",
   "metadata": {},
   "outputs": [
    {
     "data": {
      "text/plain": [
       "[1, 2, 3, 5]"
      ]
     },
     "execution_count": 34,
     "metadata": {},
     "output_type": "execute_result"
    }
   ],
   "source": [
    "b"
   ]
  },
  {
   "cell_type": "code",
   "execution_count": 35,
   "id": "46f9192c-ef7a-49ee-a2ca-c3f8c5109303",
   "metadata": {},
   "outputs": [],
   "source": [
    "c=a.copy()"
   ]
  },
  {
   "cell_type": "code",
   "execution_count": 36,
   "id": "9d5d1b00-3a02-4e14-8a16-8fce543889af",
   "metadata": {},
   "outputs": [
    {
     "data": {
      "text/plain": [
       "[1, 2, 3, 5]"
      ]
     },
     "execution_count": 36,
     "metadata": {},
     "output_type": "execute_result"
    }
   ],
   "source": [
    "c"
   ]
  },
  {
   "cell_type": "code",
   "execution_count": 38,
   "id": "6e4b0060-591f-4aa6-98a7-20162c2cae5b",
   "metadata": {},
   "outputs": [],
   "source": [
    "a[0]=1000"
   ]
  },
  {
   "cell_type": "code",
   "execution_count": 39,
   "id": "079604c0-b745-4316-8e7c-8f72f0099ab5",
   "metadata": {},
   "outputs": [
    {
     "data": {
      "text/plain": [
       "[1000, 2, 3, 5]"
      ]
     },
     "execution_count": 39,
     "metadata": {},
     "output_type": "execute_result"
    }
   ],
   "source": [
    "a"
   ]
  },
  {
   "cell_type": "code",
   "execution_count": 40,
   "id": "6cf88a43-20d8-41ac-b349-f8e713fa229d",
   "metadata": {},
   "outputs": [
    {
     "data": {
      "text/plain": [
       "[1000, 2, 3, 5]"
      ]
     },
     "execution_count": 40,
     "metadata": {},
     "output_type": "execute_result"
    }
   ],
   "source": [
    "b"
   ]
  },
  {
   "cell_type": "code",
   "execution_count": 41,
   "id": "f8577474-72a3-425f-800d-508530ae6703",
   "metadata": {},
   "outputs": [
    {
     "data": {
      "text/plain": [
       "[1, 2, 3, 5]"
      ]
     },
     "execution_count": 41,
     "metadata": {},
     "output_type": "execute_result"
    }
   ],
   "source": [
    "c"
   ]
  },
  {
   "cell_type": "code",
   "execution_count": 42,
   "id": "b74773aa-d4ba-4291-8e99-84528955f92e",
   "metadata": {},
   "outputs": [],
   "source": [
    "n=10333333628882718721772732631736936378909876543332618927656463"
   ]
  },
  {
   "cell_type": "code",
   "execution_count": 43,
   "id": "3dad0d0d-fde5-4dd0-b217-81ff7b750720",
   "metadata": {},
   "outputs": [
    {
     "data": {
      "text/plain": [
       "10333333628882718721772732631736936378909876543332618927656463"
      ]
     },
     "execution_count": 43,
     "metadata": {},
     "output_type": "execute_result"
    }
   ],
   "source": [
    "n"
   ]
  },
  {
   "cell_type": "code",
   "execution_count": 44,
   "id": "e3a048d5-5077-4e76-94a5-684574cfca1d",
   "metadata": {},
   "outputs": [
    {
     "data": {
      "text/plain": [
       "5.166666814441359e+60"
      ]
     },
     "execution_count": 44,
     "metadata": {},
     "output_type": "execute_result"
    }
   ],
   "source": [
    "n/2"
   ]
  },
  {
   "cell_type": "code",
   "execution_count": 45,
   "id": "02d71d98-dbf2-4466-bcf6-a3c3fd4a13cc",
   "metadata": {},
   "outputs": [
    {
     "data": {
      "text/plain": [
       "1.6666666666666667"
      ]
     },
     "execution_count": 45,
     "metadata": {},
     "output_type": "execute_result"
    }
   ],
   "source": [
    "5/3"
   ]
  },
  {
   "cell_type": "code",
   "execution_count": 46,
   "id": "4ee0ce98-1cce-4e1a-8c13-b082cb8b8a07",
   "metadata": {},
   "outputs": [
    {
     "data": {
      "text/plain": [
       "1"
      ]
     },
     "execution_count": 46,
     "metadata": {},
     "output_type": "execute_result"
    }
   ],
   "source": [
    "5//3"
   ]
  },
  {
   "cell_type": "code",
   "execution_count": 47,
   "id": "59a008db-d1e5-453b-ac57-b52a0d4d509b",
   "metadata": {},
   "outputs": [
    {
     "data": {
      "text/plain": [
       "8"
      ]
     },
     "execution_count": 47,
     "metadata": {},
     "output_type": "execute_result"
    }
   ],
   "source": [
    "2**3"
   ]
  },
  {
   "cell_type": "code",
   "execution_count": 48,
   "id": "e60da494-fd3c-4891-a210-ce6fab6dfd58",
   "metadata": {},
   "outputs": [],
   "source": [
    "a='ceva text'"
   ]
  },
  {
   "cell_type": "code",
   "execution_count": 49,
   "id": "3428c726-32b6-4863-83f0-a8bd935ca0c5",
   "metadata": {},
   "outputs": [
    {
     "data": {
      "text/plain": [
       "'ceva text'"
      ]
     },
     "execution_count": 49,
     "metadata": {},
     "output_type": "execute_result"
    }
   ],
   "source": [
    "a"
   ]
  },
  {
   "cell_type": "code",
   "execution_count": 50,
   "id": "dfb0f967-8b06-43dd-bf29-da44bee636e9",
   "metadata": {},
   "outputs": [
    {
     "name": "stdout",
     "output_type": "stream",
     "text": [
      "ceva text\n"
     ]
    }
   ],
   "source": [
    "print(a)"
   ]
  },
  {
   "cell_type": "code",
   "execution_count": 51,
   "id": "9c5a6cfe-0541-4398-9ad3-f3985249240d",
   "metadata": {},
   "outputs": [
    {
     "name": "stdout",
     "output_type": "stream",
     "text": [
      "ceva text [1000, 2, 3, 5]\n"
     ]
    }
   ],
   "source": [
    "print(a,b)"
   ]
  },
  {
   "cell_type": "code",
   "execution_count": 53,
   "id": "be111c63-e5b9-4351-8b35-746a54830eab",
   "metadata": {},
   "outputs": [
    {
     "name": "stdout",
     "output_type": "stream",
     "text": [
      "ceva text [1000, 2, 3, 5] [1, 2, 3, 5]\n"
     ]
    }
   ],
   "source": [
    "print(a,b,c)"
   ]
  },
  {
   "cell_type": "code",
   "execution_count": 55,
   "id": "8c938002-c19c-4d88-8d24-3ea9712e94e8",
   "metadata": {},
   "outputs": [
    {
     "name": "stdout",
     "output_type": "stream",
     "text": [
      "ceva text alt text\n"
     ]
    }
   ],
   "source": [
    "print(a+' alt text')"
   ]
  },
  {
   "cell_type": "code",
   "execution_count": 57,
   "id": "5c99ec93-a0e6-4003-a086-5ca7a40bc33c",
   "metadata": {},
   "outputs": [
    {
     "name": "stdout",
     "output_type": "stream",
     "text": [
      "text care contine pe a=23444\n"
     ]
    }
   ],
   "source": [
    "a=23444\n",
    "print(f'text care contine pe a={a}')"
   ]
  },
  {
   "cell_type": "code",
   "execution_count": 58,
   "id": "688b8524-67a2-4428-852b-6a2a471acf69",
   "metadata": {},
   "outputs": [],
   "source": [
    "a='ceva text'"
   ]
  },
  {
   "cell_type": "code",
   "execution_count": 59,
   "id": "3feb6709-a9df-4c32-a2f3-119fdc559585",
   "metadata": {},
   "outputs": [
    {
     "data": {
      "text/plain": [
       "'e'"
      ]
     },
     "execution_count": 59,
     "metadata": {},
     "output_type": "execute_result"
    }
   ],
   "source": [
    "a[1]"
   ]
  },
  {
   "cell_type": "code",
   "execution_count": 60,
   "id": "ce01a77e-823e-4640-8997-5b7efbfe8c67",
   "metadata": {},
   "outputs": [
    {
     "ename": "TypeError",
     "evalue": "'str' object does not support item assignment",
     "output_type": "error",
     "traceback": [
      "\u001b[1;31m---------------------------------------------------------------------------\u001b[0m",
      "\u001b[1;31mTypeError\u001b[0m                                 Traceback (most recent call last)",
      "Input \u001b[1;32mIn [60]\u001b[0m, in \u001b[0;36m<cell line: 1>\u001b[1;34m()\u001b[0m\n\u001b[1;32m----> 1\u001b[0m a[\u001b[38;5;241m1\u001b[39m]\u001b[38;5;241m=\u001b[39m\u001b[38;5;124m'\u001b[39m\u001b[38;5;124mr\u001b[39m\u001b[38;5;124m'\u001b[39m\n",
      "\u001b[1;31mTypeError\u001b[0m: 'str' object does not support item assignment"
     ]
    }
   ],
   "source": [
    "a[1]='r'"
   ]
  },
  {
   "cell_type": "code",
   "execution_count": 61,
   "id": "e2e44c9d-f830-4bf0-b1d5-3513ae598064",
   "metadata": {},
   "outputs": [
    {
     "name": "stdout",
     "output_type": "stream",
     "text": [
      "a=4 e mai mic decat 10\n"
     ]
    }
   ],
   "source": [
    "a=4\n",
    "if a<10:\n",
    "  print(f'a={a} e mai mic decat 10')\n",
    "else:\n",
    "    print ('nu e')"
   ]
  },
  {
   "cell_type": "code",
   "execution_count": 63,
   "id": "0861a4be-8345-4d94-b3fe-9376b72b5486",
   "metadata": {},
   "outputs": [
    {
     "name": "stdout",
     "output_type": "stream",
     "text": [
      "a=4 e mai mic decat 10\n"
     ]
    }
   ],
   "source": [
    "print(f'a={a} e mai mic decat 10') if a<10 else print('nu e')"
   ]
  },
  {
   "cell_type": "code",
   "execution_count": 69,
   "id": "c4e77e71-e1fb-42d8-a338-2a703c71a863",
   "metadata": {},
   "outputs": [],
   "source": [
    "a=25\n",
    "if a<10:\n",
    "    b=a*5\n",
    "elif a<20:\n",
    "    b=a*10\n",
    "else:\n",
    "    b=a*15"
   ]
  },
  {
   "cell_type": "code",
   "execution_count": 70,
   "id": "781064aa-3ff9-456c-83c3-ab78be98bee9",
   "metadata": {},
   "outputs": [
    {
     "name": "stdout",
     "output_type": "stream",
     "text": [
      "375\n"
     ]
    }
   ],
   "source": [
    "print(b)"
   ]
  },
  {
   "cell_type": "code",
   "execution_count": 71,
   "id": "fd56d07e-f5c6-4697-bf1a-9f29bf5053ee",
   "metadata": {},
   "outputs": [
    {
     "data": {
      "text/plain": [
       "[1, 2, 3, 5]"
      ]
     },
     "execution_count": 71,
     "metadata": {},
     "output_type": "execute_result"
    }
   ],
   "source": [
    "c"
   ]
  },
  {
   "cell_type": "code",
   "execution_count": 72,
   "id": "65d3865f-d9a3-467f-9401-818474309431",
   "metadata": {},
   "outputs": [
    {
     "name": "stdout",
     "output_type": "stream",
     "text": [
      "1\n",
      "2\n",
      "3\n",
      "5\n"
     ]
    }
   ],
   "source": [
    "for el in c:\n",
    "    print(el)"
   ]
  },
  {
   "cell_type": "code",
   "execution_count": 74,
   "id": "a2b7a937-123f-49fd-a55e-6a9d55d0cd66",
   "metadata": {},
   "outputs": [
    {
     "name": "stdout",
     "output_type": "stream",
     "text": [
      "0 1\n",
      "1 2\n",
      "2 3\n",
      "3 5\n"
     ]
    }
   ],
   "source": [
    "for index, el in enumerate(c):\n",
    "    print(index,el)"
   ]
  },
  {
   "cell_type": "code",
   "execution_count": 77,
   "id": "f4403120-fb4e-437b-b851-9b83f3ec1949",
   "metadata": {},
   "outputs": [
    {
     "data": {
      "text/plain": [
       "[2, 3, 4, 5, 6, 7, 8, 9]"
      ]
     },
     "execution_count": 77,
     "metadata": {},
     "output_type": "execute_result"
    }
   ],
   "source": [
    "list(range(2,10))"
   ]
  },
  {
   "cell_type": "code",
   "execution_count": 78,
   "id": "5e215830-de3d-4299-9398-0862be908559",
   "metadata": {},
   "outputs": [
    {
     "name": "stdout",
     "output_type": "stream",
     "text": [
      "0 0\n",
      "1 1\n",
      "2 4\n",
      "3 9\n",
      "4 16\n",
      "5 25\n",
      "6 36\n",
      "7 49\n",
      "8 64\n",
      "9 81\n"
     ]
    }
   ],
   "source": [
    "for i in range(10):\n",
    "    print(i, i**2)"
   ]
  },
  {
   "cell_type": "code",
   "execution_count": 79,
   "id": "6e3c3874-afbc-4008-8465-281baf238fef",
   "metadata": {},
   "outputs": [
    {
     "name": "stdout",
     "output_type": "stream",
     "text": [
      "0 0\n",
      "1 1\n",
      "2 4\n",
      "3 9\n",
      "4 16\n",
      "5 25\n",
      "6 36\n",
      "7 49\n",
      "8 64\n",
      "9 81\n"
     ]
    }
   ],
   "source": [
    "for i in range(10): print(i, i**2)"
   ]
  },
  {
   "cell_type": "code",
   "execution_count": 80,
   "id": "8471ee0c-9c63-4418-9152-dd184ba92e74",
   "metadata": {},
   "outputs": [
    {
     "name": "stdout",
     "output_type": "stream",
     "text": [
      "0 0\n",
      "1 1\n",
      "2 4\n",
      "3 9\n",
      "4 16\n",
      "5 125\n",
      "6 216\n",
      "7 343\n",
      "8 512\n",
      "9 729\n"
     ]
    }
   ],
   "source": [
    "for i in range(10):\n",
    "    if i<5:\n",
    "        print(i,i**2)\n",
    "    else:\n",
    "        print(i,i**3)"
   ]
  },
  {
   "cell_type": "code",
   "execution_count": 81,
   "id": "04a2a6bc-1511-4c4f-afc3-01da8efd0564",
   "metadata": {},
   "outputs": [
    {
     "name": "stdout",
     "output_type": "stream",
     "text": [
      "0 0\n",
      "1 1\n",
      "2 4\n",
      "3 9\n",
      "4 16\n",
      "5 125\n",
      "6 216\n",
      "7 343\n",
      "8 512\n",
      "9 729\n"
     ]
    }
   ],
   "source": [
    "for i in range(10): print(i,i**2) if i<5 else print(i,i**3)"
   ]
  },
  {
   "cell_type": "markdown",
   "id": "ab9a463a-b8a6-4a35-b6cd-178dffd643d0",
   "metadata": {},
   "source": [
    "## numpy"
   ]
  },
  {
   "cell_type": "code",
   "execution_count": 1,
   "id": "51bb12a4-7e07-4403-8e75-de26e56e7f25",
   "metadata": {},
   "outputs": [],
   "source": [
    "import numpy as np"
   ]
  },
  {
   "cell_type": "code",
   "execution_count": 2,
   "id": "3d92f5d7-bcdc-464c-b90e-1fef895bbcce",
   "metadata": {},
   "outputs": [],
   "source": [
    "a=[1,2,3]"
   ]
  },
  {
   "cell_type": "code",
   "execution_count": 3,
   "id": "55bf3647-47e1-4b86-8a66-fece06eefe67",
   "metadata": {},
   "outputs": [
    {
     "data": {
      "text/plain": [
       "list"
      ]
     },
     "execution_count": 3,
     "metadata": {},
     "output_type": "execute_result"
    }
   ],
   "source": [
    "type(a)\n"
   ]
  },
  {
   "cell_type": "code",
   "execution_count": 4,
   "id": "1da4cf35-17dd-4e89-bb1b-d84e65a7f279",
   "metadata": {},
   "outputs": [],
   "source": [
    "a=np.array(a)"
   ]
  },
  {
   "cell_type": "code",
   "execution_count": 5,
   "id": "3ae2ff7c-5710-41a0-8f9e-ea3184518813",
   "metadata": {},
   "outputs": [
    {
     "data": {
      "text/plain": [
       "array([1, 2, 3])"
      ]
     },
     "execution_count": 5,
     "metadata": {},
     "output_type": "execute_result"
    }
   ],
   "source": [
    "a"
   ]
  },
  {
   "cell_type": "code",
   "execution_count": 6,
   "id": "49351656-1e70-414e-8280-43872ca95b65",
   "metadata": {},
   "outputs": [
    {
     "data": {
      "text/plain": [
       "numpy.ndarray"
      ]
     },
     "execution_count": 6,
     "metadata": {},
     "output_type": "execute_result"
    }
   ],
   "source": [
    "type(a)"
   ]
  },
  {
   "cell_type": "code",
   "execution_count": 7,
   "id": "f2e0364b-20cc-4ed0-937c-1bd1445ae3b7",
   "metadata": {},
   "outputs": [],
   "source": [
    "b=[[1,2,3],[4,5]]"
   ]
  },
  {
   "cell_type": "code",
   "execution_count": 8,
   "id": "bed422b0-c767-4a0a-a163-268067c2d371",
   "metadata": {},
   "outputs": [
    {
     "data": {
      "text/plain": [
       "[[1, 2, 3], [4, 5]]"
      ]
     },
     "execution_count": 8,
     "metadata": {},
     "output_type": "execute_result"
    }
   ],
   "source": [
    "b"
   ]
  },
  {
   "cell_type": "code",
   "execution_count": 9,
   "id": "f88a847d-5617-4f83-98c2-f59cd4746e8c",
   "metadata": {},
   "outputs": [],
   "source": [
    "c=[[1,2,3],[4,5,6]]"
   ]
  },
  {
   "cell_type": "code",
   "execution_count": 10,
   "id": "595658ca-ac4e-4f4f-9a5d-8b2f56c89076",
   "metadata": {},
   "outputs": [],
   "source": [
    "c=np.array(c)"
   ]
  },
  {
   "cell_type": "code",
   "execution_count": 11,
   "id": "5de5ba39-7415-4220-9f22-00e1a1972ccb",
   "metadata": {},
   "outputs": [
    {
     "data": {
      "text/plain": [
       "array([[1, 2, 3],\n",
       "       [4, 5, 6]])"
      ]
     },
     "execution_count": 11,
     "metadata": {},
     "output_type": "execute_result"
    }
   ],
   "source": [
    "c"
   ]
  },
  {
   "cell_type": "code",
   "execution_count": 12,
   "id": "45ced5ea-9139-4506-97dc-9605c0887feb",
   "metadata": {},
   "outputs": [
    {
     "name": "stderr",
     "output_type": "stream",
     "text": [
      "C:\\Users\\maria\\AppData\\Local\\Temp\\ipykernel_17136\\1349102842.py:1: VisibleDeprecationWarning: Creating an ndarray from ragged nested sequences (which is a list-or-tuple of lists-or-tuples-or ndarrays with different lengths or shapes) is deprecated. If you meant to do this, you must specify 'dtype=object' when creating the ndarray.\n",
      "  b=np.array(b)\n"
     ]
    }
   ],
   "source": [
    "b=np.array(b)"
   ]
  },
  {
   "cell_type": "code",
   "execution_count": 99,
   "id": "76f1da32-7577-4a12-97f8-969c3a6d3f33",
   "metadata": {},
   "outputs": [
    {
     "data": {
      "text/plain": [
       "(3,)"
      ]
     },
     "execution_count": 99,
     "metadata": {},
     "output_type": "execute_result"
    }
   ],
   "source": [
    "a.shape"
   ]
  },
  {
   "cell_type": "code",
   "execution_count": 100,
   "id": "1ed736ee-640a-46b5-a712-b77e5c0de86a",
   "metadata": {},
   "outputs": [
    {
     "data": {
      "text/plain": [
       "(2, 3)"
      ]
     },
     "execution_count": 100,
     "metadata": {},
     "output_type": "execute_result"
    }
   ],
   "source": [
    "c.shape"
   ]
  },
  {
   "cell_type": "code",
   "execution_count": 101,
   "id": "31727b49-7c4c-46fa-a03b-0b69e087a640",
   "metadata": {},
   "outputs": [],
   "source": [
    "linii=c.shape[0]"
   ]
  },
  {
   "cell_type": "code",
   "execution_count": 102,
   "id": "d83cdb35-f4b3-48b7-a468-7c7980811105",
   "metadata": {},
   "outputs": [
    {
     "data": {
      "text/plain": [
       "2"
      ]
     },
     "execution_count": 102,
     "metadata": {},
     "output_type": "execute_result"
    }
   ],
   "source": [
    "linii"
   ]
  },
  {
   "cell_type": "code",
   "execution_count": 103,
   "id": "23ada9b9-8745-48b0-96a8-e09ddc3f8c03",
   "metadata": {},
   "outputs": [
    {
     "data": {
      "text/plain": [
       "3"
      ]
     },
     "execution_count": 103,
     "metadata": {},
     "output_type": "execute_result"
    }
   ],
   "source": [
    "coloane=c.shape[1]\n",
    "coloane"
   ]
  },
  {
   "cell_type": "code",
   "execution_count": 104,
   "id": "1895056d-2572-4bb7-8d67-963bfd8751e0",
   "metadata": {},
   "outputs": [
    {
     "data": {
      "text/plain": [
       "1"
      ]
     },
     "execution_count": 104,
     "metadata": {},
     "output_type": "execute_result"
    }
   ],
   "source": [
    "a.ndim"
   ]
  },
  {
   "cell_type": "code",
   "execution_count": 105,
   "id": "05c28d1a-7e08-4f01-a101-0abf32b2055c",
   "metadata": {},
   "outputs": [
    {
     "data": {
      "text/plain": [
       "2"
      ]
     },
     "execution_count": 105,
     "metadata": {},
     "output_type": "execute_result"
    }
   ],
   "source": [
    "c.ndim"
   ]
  },
  {
   "cell_type": "code",
   "execution_count": 106,
   "id": "ba82e80b-cdfa-4095-943b-9cd95a170247",
   "metadata": {},
   "outputs": [
    {
     "data": {
      "text/plain": [
       "dtype('int32')"
      ]
     },
     "execution_count": 106,
     "metadata": {},
     "output_type": "execute_result"
    }
   ],
   "source": [
    "a.dtype"
   ]
  },
  {
   "cell_type": "code",
   "execution_count": 107,
   "id": "7acd4c03-b5b5-4a6f-97f7-9c61be1f43da",
   "metadata": {},
   "outputs": [],
   "source": [
    "d=np.array([1.3, 4, 6])"
   ]
  },
  {
   "cell_type": "code",
   "execution_count": 108,
   "id": "24272b65-0a9f-475f-8fde-2ea3104192e0",
   "metadata": {},
   "outputs": [
    {
     "data": {
      "text/plain": [
       "dtype('float64')"
      ]
     },
     "execution_count": 108,
     "metadata": {},
     "output_type": "execute_result"
    }
   ],
   "source": [
    "d.dtype"
   ]
  },
  {
   "cell_type": "code",
   "execution_count": 109,
   "id": "8619842f-faa2-4368-8728-4dcf50001787",
   "metadata": {},
   "outputs": [
    {
     "data": {
      "text/plain": [
       "array([[1, 2, 3],\n",
       "       [4, 5, 6]])"
      ]
     },
     "execution_count": 109,
     "metadata": {},
     "output_type": "execute_result"
    }
   ],
   "source": [
    "c"
   ]
  },
  {
   "cell_type": "code",
   "execution_count": 110,
   "id": "f67bc6e8-122d-425e-a62d-553c26a0e398",
   "metadata": {},
   "outputs": [
    {
     "data": {
      "text/plain": [
       "array([1, 2, 3])"
      ]
     },
     "execution_count": 110,
     "metadata": {},
     "output_type": "execute_result"
    }
   ],
   "source": [
    "a"
   ]
  },
  {
   "cell_type": "code",
   "execution_count": 111,
   "id": "da899db0-ff1b-4fd3-b118-345c0e52d3b7",
   "metadata": {},
   "outputs": [
    {
     "data": {
      "text/plain": [
       "2"
      ]
     },
     "execution_count": 111,
     "metadata": {},
     "output_type": "execute_result"
    }
   ],
   "source": [
    "a[1]"
   ]
  },
  {
   "cell_type": "code",
   "execution_count": 112,
   "id": "11459106-4066-4f4d-b090-e8ff34f83a97",
   "metadata": {},
   "outputs": [
    {
     "data": {
      "text/plain": [
       "array([4, 5, 6])"
      ]
     },
     "execution_count": 112,
     "metadata": {},
     "output_type": "execute_result"
    }
   ],
   "source": [
    "c[1]"
   ]
  },
  {
   "cell_type": "code",
   "execution_count": 113,
   "id": "23d5688f-021d-4353-afbe-e8c939e9c8f6",
   "metadata": {},
   "outputs": [
    {
     "data": {
      "text/plain": [
       "array([2, 3])"
      ]
     },
     "execution_count": 113,
     "metadata": {},
     "output_type": "execute_result"
    }
   ],
   "source": [
    "a[1:]"
   ]
  },
  {
   "cell_type": "code",
   "execution_count": 114,
   "id": "d00ecb0d-4d32-439a-b2d3-a5a9c7c6e08f",
   "metadata": {},
   "outputs": [
    {
     "data": {
      "text/plain": [
       "array([1])"
      ]
     },
     "execution_count": 114,
     "metadata": {},
     "output_type": "execute_result"
    }
   ],
   "source": [
    "a[:1]"
   ]
  },
  {
   "cell_type": "code",
   "execution_count": 115,
   "id": "d6d9937e-8d7a-43c6-af5f-6b339df359d4",
   "metadata": {},
   "outputs": [
    {
     "data": {
      "text/plain": [
       "3"
      ]
     },
     "execution_count": 115,
     "metadata": {},
     "output_type": "execute_result"
    }
   ],
   "source": [
    "a[-1]"
   ]
  },
  {
   "cell_type": "code",
   "execution_count": 116,
   "id": "2d70b327-9962-4582-833e-90618d96f18a",
   "metadata": {},
   "outputs": [
    {
     "data": {
      "text/plain": [
       "array([2, 3])"
      ]
     },
     "execution_count": 116,
     "metadata": {},
     "output_type": "execute_result"
    }
   ],
   "source": [
    "a[-2:]"
   ]
  },
  {
   "cell_type": "code",
   "execution_count": 117,
   "id": "82ecceaf-3631-4f2d-9498-870b2aa950f2",
   "metadata": {},
   "outputs": [
    {
     "data": {
      "text/plain": [
       "array([4, 5, 6])"
      ]
     },
     "execution_count": 117,
     "metadata": {},
     "output_type": "execute_result"
    }
   ],
   "source": [
    "c[1]"
   ]
  },
  {
   "cell_type": "code",
   "execution_count": 118,
   "id": "833c253a-8b22-4f61-88f8-3f5f6a3e656a",
   "metadata": {},
   "outputs": [
    {
     "data": {
      "text/plain": [
       "array([5, 6])"
      ]
     },
     "execution_count": 118,
     "metadata": {},
     "output_type": "execute_result"
    }
   ],
   "source": [
    "c[1,-2:]"
   ]
  },
  {
   "cell_type": "code",
   "execution_count": 119,
   "id": "ed36259c-4a35-44bc-a564-9f718cef090b",
   "metadata": {},
   "outputs": [
    {
     "data": {
      "text/plain": [
       "array([2, 5])"
      ]
     },
     "execution_count": 119,
     "metadata": {},
     "output_type": "execute_result"
    }
   ],
   "source": [
    "c[:,1]"
   ]
  },
  {
   "cell_type": "code",
   "execution_count": 120,
   "id": "2be076b8-1702-49c4-85fa-9ec9c2fdd865",
   "metadata": {},
   "outputs": [
    {
     "data": {
      "text/plain": [
       "array([[1, 2, 3],\n",
       "       [4, 5, 6]])"
      ]
     },
     "execution_count": 120,
     "metadata": {},
     "output_type": "execute_result"
    }
   ],
   "source": [
    "c"
   ]
  },
  {
   "cell_type": "code",
   "execution_count": 121,
   "id": "481ca0c1-797b-472d-8120-82feed6c2b01",
   "metadata": {},
   "outputs": [
    {
     "data": {
      "text/plain": [
       "array([[2, 3],\n",
       "       [5, 6]])"
      ]
     },
     "execution_count": 121,
     "metadata": {},
     "output_type": "execute_result"
    }
   ],
   "source": [
    "c[:, 1:]"
   ]
  },
  {
   "cell_type": "code",
   "execution_count": 122,
   "id": "691e4b67-48dd-49cd-8488-d87419aea2b4",
   "metadata": {},
   "outputs": [
    {
     "data": {
      "text/plain": [
       "array([0., 0., 0., 0., 0., 0., 0., 0., 0., 0.])"
      ]
     },
     "execution_count": 122,
     "metadata": {},
     "output_type": "execute_result"
    }
   ],
   "source": [
    "np.zeros(10)"
   ]
  },
  {
   "cell_type": "code",
   "execution_count": 125,
   "id": "b3dcd919-e12d-43fb-9935-3d2efd9da127",
   "metadata": {},
   "outputs": [
    {
     "data": {
      "text/plain": [
       "array([[[0., 0., 0., 0.],\n",
       "        [0., 0., 0., 0.],\n",
       "        [0., 0., 0., 0.]],\n",
       "\n",
       "       [[0., 0., 0., 0.],\n",
       "        [0., 0., 0., 0.],\n",
       "        [0., 0., 0., 0.]]])"
      ]
     },
     "execution_count": 125,
     "metadata": {},
     "output_type": "execute_result"
    }
   ],
   "source": [
    "np.zeros((2,3,4))"
   ]
  },
  {
   "cell_type": "code",
   "execution_count": 127,
   "id": "81b84e1c-1132-419e-a9ea-cccabab2adb4",
   "metadata": {},
   "outputs": [
    {
     "data": {
      "text/plain": [
       "array([[0, 0, 0],\n",
       "       [0, 0, 0]])"
      ]
     },
     "execution_count": 127,
     "metadata": {},
     "output_type": "execute_result"
    }
   ],
   "source": [
    "np.zeros_like(c)"
   ]
  },
  {
   "cell_type": "code",
   "execution_count": 128,
   "id": "0a1456fd-11a7-4add-9701-f243a1358b30",
   "metadata": {},
   "outputs": [
    {
     "data": {
      "text/plain": [
       "array([1., 1., 1., 1.])"
      ]
     },
     "execution_count": 128,
     "metadata": {},
     "output_type": "execute_result"
    }
   ],
   "source": [
    "np.ones(4)"
   ]
  },
  {
   "cell_type": "code",
   "execution_count": 129,
   "id": "06fcce84-e702-4ddd-ae47-8864c4ca722a",
   "metadata": {},
   "outputs": [
    {
     "data": {
      "text/plain": [
       "array([[1, 1, 1],\n",
       "       [1, 1, 1]])"
      ]
     },
     "execution_count": 129,
     "metadata": {},
     "output_type": "execute_result"
    }
   ],
   "source": [
    "np.ones_like(c)"
   ]
  },
  {
   "cell_type": "code",
   "execution_count": 130,
   "id": "a0ea03d9-920c-4e67-9677-36799810f229",
   "metadata": {},
   "outputs": [
    {
     "data": {
      "text/plain": [
       "array([1.15980100e-311, 2.20687562e-312, 2.37663529e-312,             nan,\n",
       "       9.34604358e-307])"
      ]
     },
     "execution_count": 130,
     "metadata": {},
     "output_type": "execute_result"
    }
   ],
   "source": [
    "np.empty(5)"
   ]
  },
  {
   "cell_type": "code",
   "execution_count": 132,
   "id": "9ba6f6e9-ffd0-4fc3-8edc-1edd9b226b60",
   "metadata": {},
   "outputs": [
    {
     "data": {
      "text/plain": [
       "array([[        97, 1635197024,          0],\n",
       "       [         0,          1,    6029426]])"
      ]
     },
     "execution_count": 132,
     "metadata": {},
     "output_type": "execute_result"
    }
   ],
   "source": [
    "np.empty_like(c)"
   ]
  },
  {
   "cell_type": "code",
   "execution_count": 134,
   "id": "cef1aa51-500b-4c31-ad83-ef13413f0128",
   "metadata": {},
   "outputs": [
    {
     "data": {
      "text/plain": [
       "array([3, 6, 9])"
      ]
     },
     "execution_count": 134,
     "metadata": {},
     "output_type": "execute_result"
    }
   ],
   "source": [
    "np.arange(3,10,3)"
   ]
  },
  {
   "cell_type": "code",
   "execution_count": 135,
   "id": "cdd8fe8d-2376-4662-aca4-6cef336bd67d",
   "metadata": {},
   "outputs": [
    {
     "data": {
      "text/plain": [
       "array([30, 27, 24, 21, 18, 15, 12])"
      ]
     },
     "execution_count": 135,
     "metadata": {},
     "output_type": "execute_result"
    }
   ],
   "source": [
    "np.arange(30,10,-3)"
   ]
  },
  {
   "cell_type": "code",
   "execution_count": 138,
   "id": "4636e22b-3b62-4128-a74b-92895dd38326",
   "metadata": {},
   "outputs": [
    {
     "data": {
      "text/plain": [
       "array([[6, 1, 3],\n",
       "       [6, 1, 3],\n",
       "       [6, 1, 3],\n",
       "       [6, 1, 3]])"
      ]
     },
     "execution_count": 138,
     "metadata": {},
     "output_type": "execute_result"
    }
   ],
   "source": [
    "np.full((4,3),[6,1,3])"
   ]
  },
  {
   "cell_type": "code",
   "execution_count": 140,
   "id": "eb4cbfae-b4cd-4dd7-b634-32134501a145",
   "metadata": {},
   "outputs": [
    {
     "data": {
      "text/plain": [
       "array([[1000, 1000, 1000],\n",
       "       [1000, 1000, 1000]])"
      ]
     },
     "execution_count": 140,
     "metadata": {},
     "output_type": "execute_result"
    }
   ],
   "source": [
    "np.full_like(c,1000)"
   ]
  },
  {
   "cell_type": "code",
   "execution_count": 141,
   "id": "0bafa547-aa9d-4b2c-a31b-481c6d45628e",
   "metadata": {},
   "outputs": [
    {
     "data": {
      "text/plain": [
       "array([[1, 2, 3],\n",
       "       [4, 5, 6]])"
      ]
     },
     "execution_count": 141,
     "metadata": {},
     "output_type": "execute_result"
    }
   ],
   "source": [
    "c"
   ]
  },
  {
   "cell_type": "code",
   "execution_count": 142,
   "id": "4a1ca3ec-5cbb-4bfc-95ee-263d37541caa",
   "metadata": {},
   "outputs": [
    {
     "data": {
      "text/plain": [
       "array([list([1, 2, 3]), list([4, 5])], dtype=object)"
      ]
     },
     "execution_count": 142,
     "metadata": {},
     "output_type": "execute_result"
    }
   ],
   "source": [
    "b"
   ]
  },
  {
   "cell_type": "code",
   "execution_count": 144,
   "id": "1c5ab1c7-4011-43ff-8680-a980fd678485",
   "metadata": {},
   "outputs": [
    {
     "data": {
      "text/plain": [
       "array([1, 2, 3])"
      ]
     },
     "execution_count": 144,
     "metadata": {},
     "output_type": "execute_result"
    }
   ],
   "source": [
    "a"
   ]
  },
  {
   "cell_type": "code",
   "execution_count": 145,
   "id": "b86ed9f7-e4f3-419e-b4ce-a8339d0047a5",
   "metadata": {},
   "outputs": [
    {
     "data": {
      "text/plain": [
       "array([6, 7, 8])"
      ]
     },
     "execution_count": 145,
     "metadata": {},
     "output_type": "execute_result"
    }
   ],
   "source": [
    "a+5"
   ]
  },
  {
   "cell_type": "code",
   "execution_count": 146,
   "id": "832593a5-cb81-4dbe-8e0d-626f92be8582",
   "metadata": {},
   "outputs": [
    {
     "data": {
      "text/plain": [
       "array([[ 6,  7,  8],\n",
       "       [ 9, 10, 11]])"
      ]
     },
     "execution_count": 146,
     "metadata": {},
     "output_type": "execute_result"
    }
   ],
   "source": [
    "c+5"
   ]
  },
  {
   "cell_type": "code",
   "execution_count": 147,
   "id": "08df156e-cc7c-40b9-98b9-e8ef05d55d20",
   "metadata": {},
   "outputs": [
    {
     "data": {
      "text/plain": [
       "array([ 5, 10, 15])"
      ]
     },
     "execution_count": 147,
     "metadata": {},
     "output_type": "execute_result"
    }
   ],
   "source": [
    "a*5"
   ]
  },
  {
   "cell_type": "code",
   "execution_count": 148,
   "id": "e9b3e1d0-b4aa-4abd-8b7a-356cb4e40fc9",
   "metadata": {},
   "outputs": [
    {
     "data": {
      "text/plain": [
       "array([[ 5, 10, 15],\n",
       "       [20, 25, 30]])"
      ]
     },
     "execution_count": 148,
     "metadata": {},
     "output_type": "execute_result"
    }
   ],
   "source": [
    "c*5"
   ]
  },
  {
   "cell_type": "code",
   "execution_count": 149,
   "id": "5f210360-4a37-488e-8805-fe19adca4762",
   "metadata": {},
   "outputs": [
    {
     "data": {
      "text/plain": [
       "array([1, 4, 9])"
      ]
     },
     "execution_count": 149,
     "metadata": {},
     "output_type": "execute_result"
    }
   ],
   "source": [
    "a*a"
   ]
  },
  {
   "cell_type": "code",
   "execution_count": 150,
   "id": "75a3a65d-82d9-4fab-82fe-72d0f9b48ef9",
   "metadata": {},
   "outputs": [
    {
     "data": {
      "text/plain": [
       "array([[ 1,  4,  9],\n",
       "       [16, 25, 36]])"
      ]
     },
     "execution_count": 150,
     "metadata": {},
     "output_type": "execute_result"
    }
   ],
   "source": [
    "c*c"
   ]
  },
  {
   "cell_type": "code",
   "execution_count": 151,
   "id": "451a3856-bb83-4e9e-acd8-ce107f3a433e",
   "metadata": {},
   "outputs": [
    {
     "data": {
      "text/plain": [
       "array([[  1,   8,  27],\n",
       "       [ 64, 125, 216]], dtype=int32)"
      ]
     },
     "execution_count": 151,
     "metadata": {},
     "output_type": "execute_result"
    }
   ],
   "source": [
    "c**3"
   ]
  },
  {
   "cell_type": "code",
   "execution_count": 152,
   "id": "7544e281-fe41-4604-b219-8d831e4acf95",
   "metadata": {},
   "outputs": [
    {
     "data": {
      "text/plain": [
       "array([[          1,  1073741824, -1010140999],\n",
       "       [          0,   433305513,  1073741824]], dtype=int32)"
      ]
     },
     "execution_count": 152,
     "metadata": {},
     "output_type": "execute_result"
    }
   ],
   "source": [
    "c**30"
   ]
  },
  {
   "cell_type": "code",
   "execution_count": 153,
   "id": "b5283a42-7aa0-4771-a895-983cec800b1d",
   "metadata": {},
   "outputs": [
    {
     "data": {
      "text/plain": [
       "4294967296"
      ]
     },
     "execution_count": 153,
     "metadata": {},
     "output_type": "execute_result"
    }
   ],
   "source": [
    "2**32"
   ]
  },
  {
   "cell_type": "code",
   "execution_count": 154,
   "id": "ccb6efa5-691b-4179-8de9-44581b46d273",
   "metadata": {},
   "outputs": [
    {
     "data": {
      "text/plain": [
       "42391158275216203514294433201"
      ]
     },
     "execution_count": 154,
     "metadata": {},
     "output_type": "execute_result"
    }
   ],
   "source": [
    "9**30"
   ]
  },
  {
   "cell_type": "code",
   "execution_count": 157,
   "id": "e445c5db-0428-4849-9e5b-9c0b1fa301a9",
   "metadata": {},
   "outputs": [],
   "source": [
    "a=np.array([1.3,9.4])"
   ]
  },
  {
   "cell_type": "code",
   "execution_count": 158,
   "id": "521e5844-f58b-458a-b961-2cdcd8b78b19",
   "metadata": {},
   "outputs": [
    {
     "data": {
      "text/plain": [
       "array([2.61999564e+03, 1.56255606e+29])"
      ]
     },
     "execution_count": 158,
     "metadata": {},
     "output_type": "execute_result"
    }
   ],
   "source": [
    "a**30"
   ]
  },
  {
   "cell_type": "code",
   "execution_count": 159,
   "id": "c64bf2e7-2350-4f2a-9019-c571273be598",
   "metadata": {},
   "outputs": [
    {
     "data": {
      "text/plain": [
       "5.3500000000000005"
      ]
     },
     "execution_count": 159,
     "metadata": {},
     "output_type": "execute_result"
    }
   ],
   "source": [
    "np.mean(a)"
   ]
  },
  {
   "cell_type": "code",
   "execution_count": 160,
   "id": "ac258877-b5f5-448e-b62a-489e43175f72",
   "metadata": {},
   "outputs": [
    {
     "data": {
      "text/plain": [
       "3.5"
      ]
     },
     "execution_count": 160,
     "metadata": {},
     "output_type": "execute_result"
    }
   ],
   "source": [
    "np.mean(c)"
   ]
  },
  {
   "cell_type": "code",
   "execution_count": 161,
   "id": "68907af8-34d0-496c-ba61-d48957a6d471",
   "metadata": {},
   "outputs": [
    {
     "data": {
      "text/plain": [
       "array([2.5, 3.5, 4.5])"
      ]
     },
     "execution_count": 161,
     "metadata": {},
     "output_type": "execute_result"
    }
   ],
   "source": [
    "np.mean(c, axis=0)"
   ]
  },
  {
   "cell_type": "code",
   "execution_count": 162,
   "id": "7817c5de-5b12-40bf-9fb0-b2df89239e0a",
   "metadata": {},
   "outputs": [
    {
     "data": {
      "text/plain": [
       "array([2., 5.])"
      ]
     },
     "execution_count": 162,
     "metadata": {},
     "output_type": "execute_result"
    }
   ],
   "source": [
    "np.mean(c, axis=1)"
   ]
  },
  {
   "cell_type": "code",
   "execution_count": 164,
   "id": "301391b6-61fe-4e69-8f44-52e212b7a133",
   "metadata": {},
   "outputs": [],
   "source": [
    "# np.median, np.sum"
   ]
  },
  {
   "cell_type": "code",
   "execution_count": null,
   "id": "a4f046b6-0d48-4eb1-944f-6d1b9563b049",
   "metadata": {},
   "outputs": [],
   "source": []
  }
 ],
 "metadata": {
  "kernelspec": {
   "display_name": "Python 3 (ipykernel)",
   "language": "python",
   "name": "python3"
  },
  "language_info": {
   "codemirror_mode": {
    "name": "ipython",
    "version": 3
   },
   "file_extension": ".py",
   "mimetype": "text/x-python",
   "name": "python",
   "nbconvert_exporter": "python",
   "pygments_lexer": "ipython3",
   "version": "3.9.12"
  },
  "toc-showcode": false
 },
 "nbformat": 4,
 "nbformat_minor": 5
}
