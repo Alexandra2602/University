{
 "cells": [
  {
   "cell_type": "code",
   "execution_count": 2,
   "id": "0ecccf33-c6ec-46f3-8a5e-12a3bbdfcb6a",
   "metadata": {},
   "outputs": [],
   "source": [
    "a=3"
   ]
  },
  {
   "cell_type": "markdown",
   "id": "29fc8ffd-080a-410a-8f38-502302b1f516",
   "metadata": {},
   "source": [
    "# text"
   ]
  },
  {
   "cell_type": "markdown",
   "id": "adf8b857-0332-4565-9554-ff45f893781f",
   "metadata": {},
   "source": [
    "## text heading2"
   ]
  },
  {
   "cell_type": "markdown",
   "id": "e56c4456-df19-4d95-a286-96c05c2b8f08",
   "metadata": {},
   "source": [
    "### heading3"
   ]
  },
  {
   "cell_type": "raw",
   "id": "3e5f9bdd-8006-4cf1-9a4b-4938194befba",
   "metadata": {},
   "source": [
    "text raw"
   ]
  },
  {
   "cell_type": "markdown",
   "id": "8e290ed6-ee1d-43d1-af65-f3050a6474d3",
   "metadata": {},
   "source": [
    "TEXT **bold**, *italic*"
   ]
  },
  {
   "cell_type": "markdown",
   "id": "d5c76f6c-17ba-488c-9ff1-19420dbde698",
   "metadata": {},
   "source": [
    "liste:\n",
    "1. primul element\n",
    "1. al doilea element\n",
    "3. al treilea element\n",
    "    1. sublista 1\n",
    "    3. sublista 2\n",
    "5.lista mare\n",
    "    \n",
    "    "
   ]
  },
  {
   "cell_type": "markdown",
   "id": "dc87d174-1667-425e-bf4f-5f04d6920211",
   "metadata": {},
   "source": [
    "lista simpla:\n",
    "- ceva pe lista\n",
    "- altceva pe lista\n",
    "    - sublista ceva\n",
    "    - sublista altceva\n",
    "- completez lista initiala"
   ]
  },
  {
   "cell_type": "markdown",
   "id": "f1256ac8-1827-4d55-aa8f-702cb3a270cf",
   "metadata": {},
   "source": [
    "check list:\n",
    "- [] ceva\n",
    "- [x] ceva bifat\n",
    "- nimic"
   ]
  },
  {
   "cell_type": "markdown",
   "id": "3ab834f4-5ab3-4085-b4a7-2fafe5c79e8e",
   "metadata": {},
   "source": [
    "text pe mai multe linii  \n",
    "trebuie sa pun doua spatii la sfarsit de linie"
   ]
  },
  {
   "cell_type": "markdown",
   "id": "ac1b99a0-9504-41b4-bc1b-33a2d44c02e3",
   "metadata": {},
   "source": [
    "link: [text de afisat](http://econ.ubbcluj.ro)"
   ]
  },
  {
   "cell_type": "markdown",
   "id": "edac785f-c623-4ddc-a6d5-a57837f10572",
   "metadata": {},
   "source": [
    "> bloc de text"
   ]
  },
  {
   "cell_type": "markdown",
   "id": "bab92232-ee3e-400f-8a68-30286e29c9ef",
   "metadata": {},
   "source": [
    "> bloc  \n",
    "> de  \n",
    "> text  "
   ]
  },
  {
   "cell_type": "markdown",
   "id": "385a4af7-c4d0-49ac-887a-73ecde420512",
   "metadata": {},
   "source": [
    "cod pyhton:\n",
    "```python\n",
    "a=3\n",
    "print(a)\n",
    "```"
   ]
  },
  {
   "cell_type": "markdown",
   "id": "a114987f-0e8a-47c5-8151-7543639eed39",
   "metadata": {},
   "source": [
    "formule matematice: $x_2$"
   ]
  },
  {
   "cell_type": "markdown",
   "id": "eb1cce6c-e6bc-4fe0-97dc-23a703384d3d",
   "metadata": {},
   "source": [
    "$x^2$"
   ]
  },
  {
   "cell_type": "markdown",
   "id": "b0e8adee-ecfe-44e7-a30f-21e5c0dbb0b5",
   "metadata": {},
   "source": [
    "$x^{2y+4}$, $\\mu$"
   ]
  },
  {
   "cell_type": "markdown",
   "id": "39784eef-8bcd-4974-bc82-a31bccd4bc14",
   "metadata": {},
   "source": [
    "$$\\sum_{i=1}^n x_i$$"
   ]
  },
  {
   "cell_type": "markdown",
   "id": "81b47823-fa12-496b-b194-267411c085ea",
   "metadata": {},
   "source": [
    "text oarecare  $$\\frac{x_i}{1+y_i}$$ si dupa"
   ]
  },
  {
   "cell_type": "markdown",
   "id": "17012ceb-5579-46c5-952f-602450436a32",
   "metadata": {},
   "source": [
    "$\\overline{x}$"
   ]
  },
  {
   "cell_type": "code",
   "execution_count": null,
   "id": "4b7ad4e9-85fd-476f-a3ea-1dccadadf42f",
   "metadata": {},
   "outputs": [],
   "source": []
  },
  {
   "cell_type": "code",
   "execution_count": null,
   "id": "3288fd75-1d0c-4dd3-af48-e4ec70460b06",
   "metadata": {},
   "outputs": [],
   "source": []
  },
  {
   "cell_type": "code",
   "execution_count": null,
   "id": "8c5eff9b-290c-420f-b313-e2bd0fe9b148",
   "metadata": {},
   "outputs": [],
   "source": []
  }
 ],
 "metadata": {
  "kernelspec": {
   "display_name": "Python 3 (ipykernel)",
   "language": "python",
   "name": "python3"
  },
  "language_info": {
   "codemirror_mode": {
    "name": "ipython",
    "version": 3
   },
   "file_extension": ".py",
   "mimetype": "text/x-python",
   "name": "python",
   "nbconvert_exporter": "python",
   "pygments_lexer": "ipython3",
   "version": "3.9.12"
  }
 },
 "nbformat": 4,
 "nbformat_minor": 5
}
