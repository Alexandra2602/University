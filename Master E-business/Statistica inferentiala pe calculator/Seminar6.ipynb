{
 "cells": [
  {
   "cell_type": "markdown",
   "id": "b2fc5426-48aa-4631-b2f6-defbbd7c9c24",
   "metadata": {},
   "source": [
    "# Seminar 6"
   ]
  },
  {
   "cell_type": "markdown",
   "id": "13f903b8-6c57-41bc-a112-12ba724aa2bf",
   "metadata": {},
   "source": [
    "## distributia uniforma - varianta 1"
   ]
  },
  {
   "cell_type": "code",
   "execution_count": 6,
   "id": "e350cf96-2aed-4234-9454-8f148f470248",
   "metadata": {},
   "outputs": [],
   "source": [
    "import numpy as np\n",
    "import matplotlib.pyplot as plt"
   ]
  },
  {
   "cell_type": "markdown",
   "id": "215076c7-db45-4aac-8316-2626f1b08be6",
   "metadata": {},
   "source": [
    "```python\n",
    "numpy.random.uniform(low, high, size)\n",
    "```"
   ]
  },
  {
   "cell_type": "code",
   "execution_count": 8,
   "id": "edb227fc-5031-4bad-bdb0-ee8094d4cbe5",
   "metadata": {},
   "outputs": [
    {
     "data": {
      "text/plain": [
       "0.3169236333136156"
      ]
     },
     "execution_count": 8,
     "metadata": {},
     "output_type": "execute_result"
    }
   ],
   "source": [
    "np.random.uniform()"
   ]
  },
  {
   "cell_type": "code",
   "execution_count": 9,
   "id": "a26ee97b-4e3d-4973-9e9f-d800f82fc636",
   "metadata": {},
   "outputs": [
    {
     "data": {
      "text/plain": [
       "2.8350112357940227"
      ]
     },
     "execution_count": 9,
     "metadata": {},
     "output_type": "execute_result"
    }
   ],
   "source": [
    "np.random.uniform(1,3)"
   ]
  },
  {
   "cell_type": "code",
   "execution_count": 10,
   "id": "9536dbeb-65e0-4daf-a7af-7545dc0e683e",
   "metadata": {},
   "outputs": [
    {
     "data": {
      "text/plain": [
       "array([1.16400981, 2.18238421, 2.01443438, 2.22401486, 1.85709416])"
      ]
     },
     "execution_count": 10,
     "metadata": {},
     "output_type": "execute_result"
    }
   ],
   "source": [
    "np.random.uniform(1,3,5)"
   ]
  },
  {
   "cell_type": "code",
   "execution_count": 11,
   "id": "41bd8bb7-e7b4-4317-8112-95cb9f9ca30d",
   "metadata": {},
   "outputs": [],
   "source": [
    "x=np.random.uniform(1,3,10000)"
   ]
  },
  {
   "cell_type": "code",
   "execution_count": 12,
   "id": "7ee35a74-074e-4c37-9496-b44723e392fd",
   "metadata": {},
   "outputs": [
    {
     "data": {
      "text/plain": [
       "(10000,)"
      ]
     },
     "execution_count": 12,
     "metadata": {},
     "output_type": "execute_result"
    }
   ],
   "source": [
    "x.shape"
   ]
  },
  {
   "cell_type": "code",
   "execution_count": 13,
   "id": "81a05109-ef50-4d26-9736-3dedfcdcaffc",
   "metadata": {},
   "outputs": [
    {
     "data": {
      "text/plain": [
       "2.0053003762131394"
      ]
     },
     "execution_count": 13,
     "metadata": {},
     "output_type": "execute_result"
    }
   ],
   "source": [
    "np.mean(x)"
   ]
  },
  {
   "cell_type": "code",
   "execution_count": 14,
   "id": "28dcd507-5230-4105-8f32-27c9667945a7",
   "metadata": {},
   "outputs": [
    {
     "data": {
      "text/plain": [
       "(array([346., 303., 334., 315., 327., 329., 346., 311., 319., 352., 297.,\n",
       "        340., 352., 349., 323., 334., 325., 378., 339., 306., 332., 366.,\n",
       "        384., 331., 331., 321., 332., 335., 310., 333.]),\n",
       " array([1.00010959, 1.06676361, 1.13341764, 1.20007166, 1.26672568,\n",
       "        1.33337971, 1.40003373, 1.46668775, 1.53334178, 1.5999958 ,\n",
       "        1.66664983, 1.73330385, 1.79995787, 1.8666119 , 1.93326592,\n",
       "        1.99991994, 2.06657397, 2.13322799, 2.19988201, 2.26653604,\n",
       "        2.33319006, 2.39984408, 2.46649811, 2.53315213, 2.59980615,\n",
       "        2.66646018, 2.7331142 , 2.79976822, 2.86642225, 2.93307627,\n",
       "        2.9997303 ]),\n",
       " <BarContainer object of 30 artists>)"
      ]
     },
     "execution_count": 14,
     "metadata": {},
     "output_type": "execute_result"
    },
    {
     "data": {
      "image/png": "[encoded data removed]",
      "text/plain": [
       "<Figure size 432x288 with 1 Axes>"
      ]
     },
     "metadata": {
      "needs_background": "light"
     },
     "output_type": "display_data"
    }
   ],
   "source": [
    "plt.hist(x,bins=30)"
   ]
  },
  {
   "cell_type": "markdown",
   "id": "fd94af2a-9c9c-4008-bf0c-a95bf8df87b9",
   "metadata": {},
   "source": [
    "## distributia uniforma - varianta 2"
   ]
  },
  {
   "cell_type": "code",
   "execution_count": 15,
   "id": "6d2c2921-1fd9-4646-96eb-9409a54cc061",
   "metadata": {},
   "outputs": [],
   "source": [
    "from scipy.stats import uniform"
   ]
  },
  {
   "cell_type": "code",
   "execution_count": 16,
   "id": "eecae39b-14db-4061-b95b-072dc19d6b62",
   "metadata": {},
   "outputs": [],
   "source": [
    "u=uniform()"
   ]
  },
  {
   "cell_type": "code",
   "execution_count": 17,
   "id": "0b1d5052-7bf0-46f3-83c8-09290b2b2a27",
   "metadata": {},
   "outputs": [
    {
     "data": {
      "text/plain": [
       "<scipy.stats._distn_infrastructure.rv_frozen at 0x1da70a2bbb0>"
      ]
     },
     "execution_count": 17,
     "metadata": {},
     "output_type": "execute_result"
    }
   ],
   "source": [
    "u"
   ]
  },
  {
   "cell_type": "code",
   "execution_count": 19,
   "id": "9aa244ff-b768-4a73-9fd9-4f728bf24f54",
   "metadata": {},
   "outputs": [],
   "source": [
    "u_2_6=uniform(loc=2, scale=4) #valori intre 2 si 2+4"
   ]
  },
  {
   "cell_type": "code",
   "execution_count": 20,
   "id": "4c79e7d7-e1fe-4596-baa2-686f2e36471c",
   "metadata": {},
   "outputs": [
    {
     "data": {
      "text/plain": [
       "0.9316774947430476"
      ]
     },
     "execution_count": 20,
     "metadata": {},
     "output_type": "execute_result"
    }
   ],
   "source": [
    "u.rvs()"
   ]
  },
  {
   "cell_type": "code",
   "execution_count": 21,
   "id": "ffd36520-1b74-4274-95ac-5224880735f1",
   "metadata": {},
   "outputs": [
    {
     "data": {
      "text/plain": [
       "2.783257349332432"
      ]
     },
     "execution_count": 21,
     "metadata": {},
     "output_type": "execute_result"
    }
   ],
   "source": [
    "u_2_6.rvs()"
   ]
  },
  {
   "cell_type": "code",
   "execution_count": 22,
   "id": "cd44c547-470b-468f-aac2-7ebcebf77f7f",
   "metadata": {},
   "outputs": [
    {
     "data": {
      "text/plain": [
       "0.7493034752431983"
      ]
     },
     "execution_count": 22,
     "metadata": {},
     "output_type": "execute_result"
    }
   ],
   "source": [
    "uniform.rvs()"
   ]
  },
  {
   "cell_type": "code",
   "execution_count": 23,
   "id": "be57357e-b775-4a70-8b08-38110e9fbc39",
   "metadata": {},
   "outputs": [
    {
     "data": {
      "text/plain": [
       "3.6924735519734515"
      ]
     },
     "execution_count": 23,
     "metadata": {},
     "output_type": "execute_result"
    }
   ],
   "source": [
    "uniform.rvs(2,4)"
   ]
  },
  {
   "cell_type": "code",
   "execution_count": 24,
   "id": "faccbce6-edf1-4225-82bb-4f24eceab3a6",
   "metadata": {},
   "outputs": [
    {
     "data": {
      "text/plain": [
       "array([0.96905809, 0.96214301, 0.5553551 , 0.25959474, 0.73854354,\n",
       "       0.82536603, 0.69609609, 0.07569787, 0.43083629, 0.31869796])"
      ]
     },
     "execution_count": 24,
     "metadata": {},
     "output_type": "execute_result"
    }
   ],
   "source": [
    "u.rvs(10)"
   ]
  },
  {
   "cell_type": "code",
   "execution_count": 29,
   "id": "c92058f4-6cd5-4e5e-9949-de461f219776",
   "metadata": {},
   "outputs": [],
   "source": [
    "x_standard=u.rvs(10000)"
   ]
  },
  {
   "cell_type": "code",
   "execution_count": 26,
   "id": "1b8732d9-7c09-4d5a-b13b-041624445a44",
   "metadata": {},
   "outputs": [],
   "source": [
    "x_2_6=u_2_6.rvs(10000)"
   ]
  },
  {
   "cell_type": "code",
   "execution_count": 30,
   "id": "12806ec3-b336-43ce-8bf9-43fd2a4b73fe",
   "metadata": {},
   "outputs": [
    {
     "data": {
      "text/plain": [
       "(array([1019., 1014.,  957., 1043., 1024.,  992.,  999.,  937., 1027.,\n",
       "         988.]),\n",
       " array([1.46736474e-04, 1.00125571e-01, 2.00104406e-01, 3.00083241e-01,\n",
       "        4.00062076e-01, 5.00040911e-01, 6.00019746e-01, 6.99998581e-01,\n",
       "        7.99977416e-01, 8.99956251e-01, 9.99935086e-01]),\n",
       " <BarContainer object of 10 artists>)"
      ]
     },
     "execution_count": 30,
     "metadata": {},
     "output_type": "execute_result"
    },
    {
     "data": {
      "image/png": "[encoded data removed]",
      "text/plain": [
       "<Figure size 432x288 with 1 Axes>"
      ]
     },
     "metadata": {
      "needs_background": "light"
     },
     "output_type": "display_data"
    }
   ],
   "source": [
    "plt.hist(x_standard)"
   ]
  },
  {
   "cell_type": "code",
   "execution_count": 31,
   "id": "311fe09a-e5ce-4efd-8cb9-b1ec1ea2b9cf",
   "metadata": {},
   "outputs": [
    {
     "data": {
      "text/plain": [
       "(array([ 984.,  969., 1063.,  938., 1024., 1028.,  972.,  957., 1065.,\n",
       "        1000.]),\n",
       " array([2.00160617, 2.4014125 , 2.80121884, 3.20102518, 3.60083152,\n",
       "        4.00063785, 4.40044419, 4.80025053, 5.20005686, 5.5998632 ,\n",
       "        5.99966954]),\n",
       " <BarContainer object of 10 artists>)"
      ]
     },
     "execution_count": 31,
     "metadata": {},
     "output_type": "execute_result"
    },
    {
     "data": {
      "image/png": "[encoded data removed]",
      "text/plain": [
       "<Figure size 432x288 with 1 Axes>"
      ]
     },
     "metadata": {
      "needs_background": "light"
     },
     "output_type": "display_data"
    }
   ],
   "source": [
    "plt.hist(x_2_6)"
   ]
  },
  {
   "cell_type": "markdown",
   "id": "47cd9b59-79ae-4147-bca1-73b3bd011b41",
   "metadata": {},
   "source": [
    "$f$ este probability density function (pdf)"
   ]
  },
  {
   "cell_type": "code",
   "execution_count": 33,
   "id": "c2afaa20-6ff3-4f9a-b53d-6b568e1c603a",
   "metadata": {},
   "outputs": [
    {
     "data": {
      "text/plain": [
       "1.0"
      ]
     },
     "execution_count": 33,
     "metadata": {},
     "output_type": "execute_result"
    }
   ],
   "source": [
    "u.pdf(0.2)"
   ]
  },
  {
   "cell_type": "code",
   "execution_count": 34,
   "id": "0ee351bd-97c6-4ca4-bbea-93a992f6ff7d",
   "metadata": {},
   "outputs": [
    {
     "data": {
      "text/plain": [
       "0.0"
      ]
     },
     "execution_count": 34,
     "metadata": {},
     "output_type": "execute_result"
    }
   ],
   "source": [
    "u.pdf(-6)"
   ]
  },
  {
   "cell_type": "code",
   "execution_count": 35,
   "id": "3ff13314-8e44-444b-8fbd-793f717aa7da",
   "metadata": {},
   "outputs": [
    {
     "data": {
      "text/plain": [
       "array([0., 1., 1., 0.])"
      ]
     },
     "execution_count": 35,
     "metadata": {},
     "output_type": "execute_result"
    }
   ],
   "source": [
    "x=np.array([-4,0.1,1,3])\n",
    "u.pdf(x)"
   ]
  },
  {
   "cell_type": "code",
   "execution_count": 36,
   "id": "aca1a4e7-694b-4de9-b54e-9d6c7d1ce7b6",
   "metadata": {},
   "outputs": [],
   "source": [
    "x=np.linspace(-1,2,100)"
   ]
  },
  {
   "cell_type": "code",
   "execution_count": 37,
   "id": "8aea45aa-d1ad-4b41-a285-e218e2ad95ef",
   "metadata": {},
   "outputs": [
    {
     "data": {
      "text/plain": [
       "[<matplotlib.lines.Line2D at 0x1da738dbac0>]"
      ]
     },
     "execution_count": 37,
     "metadata": {},
     "output_type": "execute_result"
    },
    {
     "data": {
      "image/png": "[encoded data removed]",
      "text/plain": [
       "<Figure size 432x288 with 1 Axes>"
      ]
     },
     "metadata": {
      "needs_background": "light"
     },
     "output_type": "display_data"
    }
   ],
   "source": [
    "plt.plot(x,u.pdf(x))"
   ]
  },
  {
   "cell_type": "code",
   "execution_count": 38,
   "id": "01ccb664-72d3-4740-9ddf-08512017d127",
   "metadata": {},
   "outputs": [
    {
     "data": {
      "text/plain": [
       "[<matplotlib.lines.Line2D at 0x1da73947400>]"
      ]
     },
     "execution_count": 38,
     "metadata": {},
     "output_type": "execute_result"
    },
    {
     "data": {
      "image/png": "[encoded data removed]",
      "text/plain": [
       "<Figure size 432x288 with 1 Axes>"
      ]
     },
     "metadata": {
      "needs_background": "light"
     },
     "output_type": "display_data"
    }
   ],
   "source": [
    "x=np.linspace(0,8,100)\n",
    "plt.plot(x,u_2_6.pdf(x))"
   ]
  },
  {
   "cell_type": "markdown",
   "id": "2bfe6473-0d0e-4889-a6b4-6743cbf11ea9",
   "metadata": {},
   "source": [
    "Functia de repartitie este cumulative distribution function (cdf)"
   ]
  },
  {
   "cell_type": "code",
   "execution_count": 40,
   "id": "8419062c-3256-409e-9e37-eeaad9f04cf1",
   "metadata": {},
   "outputs": [
    {
     "data": {
      "text/plain": [
       "0.5"
      ]
     },
     "execution_count": 40,
     "metadata": {},
     "output_type": "execute_result"
    }
   ],
   "source": [
    "u.cdf(0.5)"
   ]
  },
  {
   "cell_type": "code",
   "execution_count": 41,
   "id": "9e7af79c-a993-483f-8da4-4ce5281b2540",
   "metadata": {},
   "outputs": [],
   "source": [
    "x=np.linspace(-1,2,100)"
   ]
  },
  {
   "cell_type": "code",
   "execution_count": 42,
   "id": "8a1fbdfe-3510-4e80-91d8-1b4790ebb2d0",
   "metadata": {},
   "outputs": [
    {
     "data": {
      "text/plain": [
       "[<matplotlib.lines.Line2D at 0x1da739b3190>]"
      ]
     },
     "execution_count": 42,
     "metadata": {},
     "output_type": "execute_result"
    },
    {
     "data": {
      "image/png": "[encoded data removed]",
      "text/plain": [
       "<Figure size 432x288 with 1 Axes>"
      ]
     },
     "metadata": {
      "needs_background": "light"
     },
     "output_type": "display_data"
    }
   ],
   "source": [
    "plt.plot(x,u.cdf(x))"
   ]
  },
  {
   "cell_type": "code",
   "execution_count": 44,
   "id": "e05596c8-ef9e-4f1b-a048-385b8f2e1c82",
   "metadata": {},
   "outputs": [
    {
     "data": {
      "text/plain": [
       "[<matplotlib.lines.Line2D at 0x1da73a12a00>]"
      ]
     },
     "execution_count": 44,
     "metadata": {},
     "output_type": "execute_result"
    },
    {
     "data": {
      "image/png": "[encoded data removed]",
      "text/plain": [
       "<Figure size 432x288 with 1 Axes>"
      ]
     },
     "metadata": {
      "needs_background": "light"
     },
     "output_type": "display_data"
    }
   ],
   "source": [
    "x=np.linspace(0,8,100)\n",
    "plt.plot(x,u_2_6.cdf(x))"
   ]
  },
  {
   "cell_type": "markdown",
   "id": "c194c8b5-3bee-48b7-86b2-74f454f02c20",
   "metadata": {},
   "source": [
    "inversa cdf: pentru ce valoare a lui $x$ avem o anumita probabilitate la stanga lui $x$?\n",
    "\n",
    "$P(X\\le x)=0.4$, cat e $x$?"
   ]
  },
  {
   "cell_type": "code",
   "execution_count": 46,
   "id": "537898b0-734b-4cff-838b-6f6b54de6484",
   "metadata": {},
   "outputs": [
    {
     "data": {
      "text/plain": [
       "0.4"
      ]
     },
     "execution_count": 46,
     "metadata": {},
     "output_type": "execute_result"
    }
   ],
   "source": [
    "u.ppf(0.4)"
   ]
  },
  {
   "cell_type": "code",
   "execution_count": 47,
   "id": "522d03de-3b24-4ac3-902e-090395dc1f69",
   "metadata": {},
   "outputs": [
    {
     "data": {
      "text/plain": [
       "3.6"
      ]
     },
     "execution_count": 47,
     "metadata": {},
     "output_type": "execute_result"
    }
   ],
   "source": [
    "u_2_6.ppf(0.4)"
   ]
  },
  {
   "cell_type": "code",
   "execution_count": 48,
   "id": "f390dea9-6ec5-462c-9482-dd137b655b96",
   "metadata": {},
   "outputs": [
    {
     "data": {
      "text/plain": [
       "0.4"
      ]
     },
     "execution_count": 48,
     "metadata": {},
     "output_type": "execute_result"
    }
   ],
   "source": [
    "u_2_6.cdf(3.6)"
   ]
  },
  {
   "cell_type": "code",
   "execution_count": 49,
   "id": "253b7bcd-6689-4cec-a165-514fcb3d78c1",
   "metadata": {},
   "outputs": [
    {
     "data": {
      "text/plain": [
       "0.5"
      ]
     },
     "execution_count": 49,
     "metadata": {},
     "output_type": "execute_result"
    }
   ],
   "source": [
    "u.mean()"
   ]
  },
  {
   "cell_type": "code",
   "execution_count": 50,
   "id": "6f8737da-97fe-4b13-9823-e9c138ee85c8",
   "metadata": {},
   "outputs": [
    {
     "data": {
      "text/plain": [
       "4.0"
      ]
     },
     "execution_count": 50,
     "metadata": {},
     "output_type": "execute_result"
    }
   ],
   "source": [
    "u_2_6.mean()"
   ]
  },
  {
   "cell_type": "code",
   "execution_count": 51,
   "id": "ec3bd609-bf1c-4848-a662-8c7bf15c0e64",
   "metadata": {},
   "outputs": [
    {
     "data": {
      "text/plain": [
       "0.5"
      ]
     },
     "execution_count": 51,
     "metadata": {},
     "output_type": "execute_result"
    }
   ],
   "source": [
    "u.median()"
   ]
  },
  {
   "cell_type": "code",
   "execution_count": 52,
   "id": "fde6a109-9457-49b2-a455-0cb02cc9fcb2",
   "metadata": {},
   "outputs": [
    {
     "data": {
      "text/plain": [
       "0.08333333333333333"
      ]
     },
     "execution_count": 52,
     "metadata": {},
     "output_type": "execute_result"
    }
   ],
   "source": [
    "u.var()"
   ]
  },
  {
   "cell_type": "code",
   "execution_count": 53,
   "id": "bbe11ca6-75ab-4f22-a53e-477a8fd47146",
   "metadata": {},
   "outputs": [
    {
     "data": {
      "text/plain": [
       "0.28867513459481287"
      ]
     },
     "execution_count": 53,
     "metadata": {},
     "output_type": "execute_result"
    }
   ],
   "source": [
    "u.std()"
   ]
  },
  {
   "cell_type": "markdown",
   "id": "dc6b46b9-bd55-46bd-9dfb-cef5bbd1096b",
   "metadata": {},
   "source": [
    "## distributia normala"
   ]
  },
  {
   "cell_type": "code",
   "execution_count": 54,
   "id": "efb2711c-609c-4004-9add-58158bef42bc",
   "metadata": {},
   "outputs": [],
   "source": [
    "from scipy.stats import norm"
   ]
  },
  {
   "cell_type": "code",
   "execution_count": 55,
   "id": "7616ff3c-14cc-4e5c-a69e-f84b56e9e0ee",
   "metadata": {},
   "outputs": [],
   "source": [
    "Z=norm()"
   ]
  },
  {
   "cell_type": "code",
   "execution_count": 56,
   "id": "7bbdf534-7fcd-462e-9915-3a5ba77af6b8",
   "metadata": {},
   "outputs": [
    {
     "data": {
      "text/plain": [
       "0.0"
      ]
     },
     "execution_count": 56,
     "metadata": {},
     "output_type": "execute_result"
    }
   ],
   "source": [
    "Z.mean()"
   ]
  },
  {
   "cell_type": "code",
   "execution_count": 57,
   "id": "f5dc14a6-7b53-4866-b345-3d7ecb88ab1d",
   "metadata": {},
   "outputs": [
    {
     "data": {
      "text/plain": [
       "1.0"
      ]
     },
     "execution_count": 57,
     "metadata": {},
     "output_type": "execute_result"
    }
   ],
   "source": [
    "Z.std()"
   ]
  },
  {
   "cell_type": "code",
   "execution_count": 58,
   "id": "317e4179-874d-41c3-8c19-04accabf320b",
   "metadata": {},
   "outputs": [
    {
     "data": {
      "text/plain": [
       "[<matplotlib.lines.Line2D at 0x1da73a8d130>]"
      ]
     },
     "execution_count": 58,
     "metadata": {},
     "output_type": "execute_result"
    },
    {
     "data": {
      "image/png": "[encoded data removed]",
      "text/plain": [
       "<Figure size 432x288 with 1 Axes>"
      ]
     },
     "metadata": {
      "needs_background": "light"
     },
     "output_type": "display_data"
    }
   ],
   "source": [
    "x=np.linspace(-4,4,100)\n",
    "plt.plot(x, Z.pdf(x))"
   ]
  },
  {
   "cell_type": "code",
   "execution_count": 59,
   "id": "e7370e2e-0959-42d8-831a-f6c78867721d",
   "metadata": {},
   "outputs": [
    {
     "data": {
      "text/plain": [
       "[<matplotlib.lines.Line2D at 0x1da73adde20>]"
      ]
     },
     "execution_count": 59,
     "metadata": {},
     "output_type": "execute_result"
    },
    {
     "data": {
      "image/png": "[encoded data removed]",
      "text/plain": [
       "<Figure size 432x288 with 1 Axes>"
      ]
     },
     "metadata": {
      "needs_background": "light"
     },
     "output_type": "display_data"
    }
   ],
   "source": [
    "x=np.linspace(-4,4,100)\n",
    "plt.plot(x, Z.cdf(x))"
   ]
  },
  {
   "cell_type": "code",
   "execution_count": 60,
   "id": "b129fd47-ba6a-4c06-8b76-5864d7b693e1",
   "metadata": {},
   "outputs": [
    {
     "data": {
      "text/plain": [
       "0.5"
      ]
     },
     "execution_count": 60,
     "metadata": {},
     "output_type": "execute_result"
    }
   ],
   "source": [
    "Z.cdf(0)"
   ]
  },
  {
   "cell_type": "markdown",
   "id": "9884777b-0362-4be4-b021-43ec38f69f84",
   "metadata": {},
   "source": [
    "$P(Z<1.3)$"
   ]
  },
  {
   "cell_type": "code",
   "execution_count": 61,
   "id": "d1cca3a6-4e86-4c17-b3c9-72e18b2578ad",
   "metadata": {},
   "outputs": [
    {
     "data": {
      "text/plain": [
       "0.9031995154143897"
      ]
     },
     "execution_count": 61,
     "metadata": {},
     "output_type": "execute_result"
    }
   ],
   "source": [
    "Z.cdf(1.3)"
   ]
  },
  {
   "cell_type": "code",
   "execution_count": 62,
   "id": "cdaa2d63-9c0c-44ff-b188-001e87b302e7",
   "metadata": {},
   "outputs": [
    {
     "data": {
      "text/plain": [
       "Text(0.5, 1.0, '$P(Z< 1.3)=$0.9031995154143897')"
      ]
     },
     "execution_count": 62,
     "metadata": {},
     "output_type": "execute_result"
    },
    {
     "data": {
      "image/png": "[encoded data removed]",
      "text/plain": [
       "<Figure size 432x288 with 1 Axes>"
      ]
     },
     "metadata": {
      "needs_background": "light"
     },
     "output_type": "display_data"
    }
   ],
   "source": [
    "x=np.linspace(-4,4,100)\n",
    "plt.plot(x, Z.pdf(x))\n",
    "plt.fill_between(x, Z.pdf(x), where = x<1.3)\n",
    "plt.title(f'$P(Z< 1.3)=${Z.cdf(1.3)}')"
   ]
  },
  {
   "cell_type": "markdown",
   "id": "7c8097aa-a194-438d-95b9-ed89c63bee3b",
   "metadata": {},
   "source": [
    "$P(Z\\ge 1.3)$"
   ]
  },
  {
   "cell_type": "code",
   "execution_count": 63,
   "id": "d2d9f8c1-f2b5-4f4b-941a-7ec1c16f51ad",
   "metadata": {},
   "outputs": [
    {
     "data": {
      "text/plain": [
       "0.0968004845856103"
      ]
     },
     "execution_count": 63,
     "metadata": {},
     "output_type": "execute_result"
    }
   ],
   "source": [
    "1-Z.cdf(1.3)"
   ]
  },
  {
   "cell_type": "code",
   "execution_count": 65,
   "id": "2258548a-7d6d-467b-93e1-ea637e1e1d7e",
   "metadata": {},
   "outputs": [
    {
     "data": {
      "text/plain": [
       "Text(0.5, 1.0, '$P(Z< 1.3)=$0.0968004845856103')"
      ]
     },
     "execution_count": 65,
     "metadata": {},
     "output_type": "execute_result"
    },
    {
     "data": {
      "image/png": "[encoded data removed]",
      "text/plain": [
       "<Figure size 432x288 with 1 Axes>"
      ]
     },
     "metadata": {
      "needs_background": "light"
     },
     "output_type": "display_data"
    }
   ],
   "source": [
    "x=np.linspace(-4,4,100)\n",
    "plt.plot(x, Z.pdf(x))\n",
    "plt.fill_between(x, Z.pdf(x), where = x>1.3)\n",
    "plt.title(f'$P(Z< 1.3)=${1-Z.cdf(1.3)}')"
   ]
  },
  {
   "cell_type": "markdown",
   "id": "f6171d15-7b42-4cdb-9161-4883612cab2d",
   "metadata": {},
   "source": [
    "$P(0.2\\le Z \\le 0.8)$"
   ]
  },
  {
   "cell_type": "code",
   "execution_count": 67,
   "id": "9a491632-6c01-4000-9da7-9a9ae1a83d74",
   "metadata": {},
   "outputs": [
    {
     "data": {
      "text/plain": [
       "0.20888489197750038"
      ]
     },
     "execution_count": 67,
     "metadata": {},
     "output_type": "execute_result"
    }
   ],
   "source": [
    "Z.cdf(0.8)-Z.cdf(0.2)"
   ]
  },
  {
   "cell_type": "code",
   "execution_count": 68,
   "id": "aaa9d3da-f557-4678-9023-de47968cce41",
   "metadata": {},
   "outputs": [
    {
     "data": {
      "text/plain": [
       "Text(0.5, 1.0, '$P(0.2<Z< 0.8)=$0.20888489197750038')"
      ]
     },
     "execution_count": 68,
     "metadata": {},
     "output_type": "execute_result"
    },
    {
     "data": {
      "image/png": "[encoded data removed]",
      "text/plain": [
       "<Figure size 432x288 with 1 Axes>"
      ]
     },
     "metadata": {
      "needs_background": "light"
     },
     "output_type": "display_data"
    }
   ],
   "source": [
    "x=np.linspace(-4,4,100)\n",
    "plt.plot(x, Z.pdf(x))\n",
    "plt.fill_between(x, Z.pdf(x), where =np.logical_and( (0.2<x) , (x<0.8)))\n",
    "plt.title(f'$P(0.2<Z< 0.8)=${Z.cdf(0.8)-Z.cdf(0.2)}')"
   ]
  },
  {
   "cell_type": "markdown",
   "id": "d448d81c-9961-4891-a4af-6ad9afc9835f",
   "metadata": {},
   "source": [
    "probabilitatea ca Z sa ia valori in afara intervalului [0.2,0.8]"
   ]
  },
  {
   "cell_type": "code",
   "execution_count": 70,
   "id": "38e0af98-5593-4eee-9db7-dc36b89abdf1",
   "metadata": {},
   "outputs": [
    {
     "data": {
      "text/plain": [
       "0.7911151080224996"
      ]
     },
     "execution_count": 70,
     "metadata": {},
     "output_type": "execute_result"
    }
   ],
   "source": [
    "Z.cdf(0.2) + (1- Z.cdf(0.8))"
   ]
  },
  {
   "cell_type": "code",
   "execution_count": 71,
   "id": "95ef4e23-267b-4c03-9f15-1571da279307",
   "metadata": {},
   "outputs": [
    {
     "data": {
      "text/plain": [
       "Text(0.5, 1.0, '$P(Z< 0.2 \\\\cup Z>0.8)=$0.7911151080224996')"
      ]
     },
     "execution_count": 71,
     "metadata": {},
     "output_type": "execute_result"
    },
    {
     "data": {
      "image/png": "[encoded data removed]",
      "text/plain": [
       "<Figure size 432x288 with 1 Axes>"
      ]
     },
     "metadata": {
      "needs_background": "light"
     },
     "output_type": "display_data"
    }
   ],
   "source": [
    "x=np.linspace(-4,4,100)\n",
    "plt.plot(x, Z.pdf(x))\n",
    "plt.fill_between(x, Z.pdf(x), where =np.logical_or( (0.2>x) , (x>0.8)))\n",
    "plt.title(f'$P(Z< 0.2 \\cup Z>0.8)=${1-(Z.cdf(0.8)-Z.cdf(0.2))}')"
   ]
  },
  {
   "cell_type": "code",
   "execution_count": 73,
   "id": "27fe6683-edd5-4d55-8367-0ff4a051b217",
   "metadata": {},
   "outputs": [],
   "source": [
    "X=norm(loc=3, scale=2)"
   ]
  },
  {
   "cell_type": "code",
   "execution_count": 74,
   "id": "57f9cb6d-00c6-4f0e-8a10-28f39df044c4",
   "metadata": {},
   "outputs": [
    {
     "data": {
      "text/plain": [
       "(3.0, 2.0)"
      ]
     },
     "execution_count": 74,
     "metadata": {},
     "output_type": "execute_result"
    }
   ],
   "source": [
    "X.mean(), X.std()"
   ]
  },
  {
   "cell_type": "code",
   "execution_count": 75,
   "id": "d2f190e8-482e-41ff-846a-77f9d650e563",
   "metadata": {},
   "outputs": [
    {
     "data": {
      "text/plain": [
       "[<matplotlib.lines.Line2D at 0x1da74eaceb0>]"
      ]
     },
     "execution_count": 75,
     "metadata": {},
     "output_type": "execute_result"
    },
    {
     "data": {
      "image/png": "[encoded data removed]",
      "text/plain": [
       "<Figure size 432x288 with 1 Axes>"
      ]
     },
     "metadata": {
      "needs_background": "light"
     },
     "output_type": "display_data"
    }
   ],
   "source": [
    "x=np.linspace(-4, 10, 100)\n",
    "plt.plot(x,X.pdf(x))"
   ]
  },
  {
   "cell_type": "code",
   "execution_count": 76,
   "id": "012f4e9e-1cb6-498a-94a9-3d2727166bef",
   "metadata": {},
   "outputs": [
    {
     "data": {
      "text/plain": [
       "-0.6744897501960817"
      ]
     },
     "execution_count": 76,
     "metadata": {},
     "output_type": "execute_result"
    }
   ],
   "source": [
    "Z.ppf(0.25)"
   ]
  },
  {
   "cell_type": "code",
   "execution_count": 77,
   "id": "9a6e0f42-916a-438d-b5c0-acb2ef762b0a",
   "metadata": {},
   "outputs": [],
   "source": [
    "X1=norm(5, 0.1)\n",
    "X2=norm(5,0.5)\n",
    "X3=norm(5,1)"
   ]
  },
  {
   "cell_type": "code",
   "execution_count": 78,
   "id": "982458fe-81b9-46cb-a747-1b0f32d5d55b",
   "metadata": {},
   "outputs": [
    {
     "data": {
      "text/plain": [
       "<matplotlib.legend.Legend at 0x1da74e38580>"
      ]
     },
     "execution_count": 78,
     "metadata": {},
     "output_type": "execute_result"
    },
    {
     "data": {
      "image/png": "[encoded data removed]",
      "text/plain": [
       "<Figure size 432x288 with 1 Axes>"
      ]
     },
     "metadata": {
      "needs_background": "light"
     },
     "output_type": "display_data"
    }
   ],
   "source": [
    "x=np.linspace(3,7, 100)\n",
    "plt.plot(x,X1.pdf(x), label=f\"$\\sigma=0.1$\")\n",
    "plt.plot(x,X2.pdf(x), label=f\"$\\sigma=0.5$\")\n",
    "plt.plot(x,X3.pdf(x), label=f\"$\\sigma=1$\")\n",
    "plt.legend()"
   ]
  },
  {
   "cell_type": "code",
   "execution_count": null,
   "id": "ab06b6b7-4738-4800-8f65-44a2d46e36ee",
   "metadata": {},
   "outputs": [],
   "source": []
  }
 ],
 "metadata": {
  "kernelspec": {
   "display_name": "Python 3 (ipykernel)",
   "language": "python",
   "name": "python3"
  },
  "language_info": {
   "codemirror_mode": {
    "name": "ipython",
    "version": 3
   },
   "file_extension": ".py",
   "mimetype": "text/x-python",
   "name": "python",
   "nbconvert_exporter": "python",
   "pygments_lexer": "ipython3",
   "version": "3.9.12"
  }
 },
 "nbformat": 4,
 "nbformat_minor": 5
}
