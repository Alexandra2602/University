{
 "cells": [
  {
   "cell_type": "markdown",
   "id": "80432c28-d268-43e4-a672-904879010915",
   "metadata": {},
   "source": [
    "Salariul mediu orar al fermierilor din *** este de 13.5 lei. Se stie ca σ=2.9 lei. Calculati si interpretati eroarea standard a mediei pentru un esantion de marime 30."
   ]
  },
  {
   "cell_type": "code",
   "execution_count": 2,
   "id": "3e9a8753-db65-47c2-ba6c-bcf50e18cf85",
   "metadata": {},
   "outputs": [
    {
     "name": "stdout",
     "output_type": "stream",
     "text": [
      "0.5294651389216606\n"
     ]
    }
   ],
   "source": [
    "import math\n",
    "σ=2.9\n",
    "n=30\n",
    "eroarea_standard_mediei = σ / math.sqrt(n)\n",
    "print(eroarea_standard_mediei)"
   ]
  },
  {
   "cell_type": "markdown",
   "id": "874aef42-de3e-43d4-84e4-53cd860bc2c9",
   "metadata": {},
   "source": [
    "Presupunem ca avem un esantion care contine randamentul pe ultimele 30 de luni a unei companii X. Media acestor valori este de 2% si abaterea medie patratica a esantionului este de 20%. Calculati si interpretati eroarea standard a mediei esantionului.\n",
    "\n",
    "Sa presupunem ca avem un esantion de 200 de masuratori, in aceleasi conditii. Care este eroarea standard?"
   ]
  },
  {
   "cell_type": "code",
   "execution_count": 4,
   "id": "261cf59f-095c-4b47-bcfd-529e381e18ea",
   "metadata": {},
   "outputs": [
    {
     "name": "stdout",
     "output_type": "stream",
     "text": [
      "3.6514837167011076\n"
     ]
    }
   ],
   "source": [
    "s=20\n",
    "n=30\n",
    "eroarea_standard_esantion = s / math.sqrt(n)\n",
    "print(eroarea_standard_esantion)"
   ]
  },
  {
   "cell_type": "code",
   "execution_count": 5,
   "id": "fa4ff30c-7cf6-41e3-b588-21f6442dfcd2",
   "metadata": {},
   "outputs": [
    {
     "name": "stdout",
     "output_type": "stream",
     "text": [
      "1.414213562373095\n"
     ]
    }
   ],
   "source": [
    "s=20\n",
    "n=200\n",
    "eroarea_standard_esantion_2 = s / math.sqrt(n)\n",
    "print(eroarea_standard_esantion_2)"
   ]
  },
  {
   "cell_type": "markdown",
   "id": "bd0452eb-bf90-41fb-9213-29270c87a0fd",
   "metadata": {},
   "source": [
    "O populatie are media 100 si abaterea medie patratica de 50. Se alege un esantion simplu de 100 de elemente.\n",
    "\n",
    "a) Care e probabilitatea ca media esantionului sa fie la ±5 de media populatiei?  \n",
    "b) Care e probabilitatea ca media esantionului sa fie la ±10 de media populatiei?  \n",
    "c) Dar daca esantionul este de 400 de elemente? Care e probabilitatea ca media esantionului sa fie la distanta de ±5 de media populatiei?"
   ]
  },
  {
   "cell_type": "markdown",
   "id": "b9e2dd90-98ed-44ec-9944-748c117b4e10",
   "metadata": {},
   "source": [
    "a)Care e probabilitatea ca media esantionului sa fie la ±5 de media populatiei? "
   ]
  },
  {
   "cell_type": "code",
   "execution_count": 6,
   "id": "3856eecf-04ae-4c8e-a556-bcd84d3bc41c",
   "metadata": {},
   "outputs": [
    {
     "name": "stdout",
     "output_type": "stream",
     "text": [
      "68.26894921370858\n"
     ]
    }
   ],
   "source": [
    "from scipy.stats import norm\n",
    "Z=norm()\n",
    "media = 100\n",
    "media_patratica = 50\n",
    "n = 100\n",
    "eroarea_standard_mediei_a = media_patratica / math.sqrt(n)\n",
    "def z(x): \n",
    "    return (x-media)/eroarea_standard_mediei_a\n",
    "probabilitatea = (Z.cdf(z(media+5)) - Z.cdf(z(media-5)))*100\n",
    "print(probabilitatea)"
   ]
  },
  {
   "cell_type": "markdown",
   "id": "ca3f891c-e9f7-4652-a690-5c823dd868b2",
   "metadata": {},
   "source": [
    "b) Care e probabilitatea ca media esantionului sa fie la ±10 de media populatiei?  "
   ]
  },
  {
   "cell_type": "code",
   "execution_count": 9,
   "id": "ae7dc991-7af1-489b-9ada-40375c8e6dd9",
   "metadata": {},
   "outputs": [
    {
     "name": "stdout",
     "output_type": "stream",
     "text": [
      "95.44997361036415\n"
     ]
    }
   ],
   "source": [
    "from scipy.stats import norm\n",
    "Z=norm()\n",
    "media = 100\n",
    "media_patratica = 50\n",
    "n = 100\n",
    "eroarea_standard_mediei_a = media_patratica / math.sqrt(n)\n",
    "def z(x): \n",
    "    return (x-media)/eroarea_standard_mediei_a\n",
    "probabilitatea = (Z.cdf(z(media+10)) - Z.cdf(z(media-10)))*100\n",
    "print(probabilitatea)"
   ]
  },
  {
   "cell_type": "markdown",
   "id": "60060816-882c-471f-bfbd-c273eb26dbd7",
   "metadata": {},
   "source": [
    "c) Dar daca esantionul este de 400 de elemente? Care e probabilitatea ca media esantionului sa fie la distanta de ±5 de media populatiei?"
   ]
  },
  {
   "cell_type": "code",
   "execution_count": 11,
   "id": "518c9992-cee2-464f-bd69-1ddbe6b9102a",
   "metadata": {},
   "outputs": [
    {
     "name": "stdout",
     "output_type": "stream",
     "text": [
      "95.44997361036415\n"
     ]
    }
   ],
   "source": [
    "from scipy.stats import norm\n",
    "Z=norm()\n",
    "media = 100\n",
    "media_patratica = 50\n",
    "n = 400\n",
    "eroarea_standard_mediei_a = media_patratica / math.sqrt(n)\n",
    "def z(x): \n",
    "    return (x-media)/eroarea_standard_mediei_a\n",
    "probabilitatea = (Z.cdf(z(media+5)) - Z.cdf(z(media-5)))*100\n",
    "print(probabilitatea)"
   ]
  },
  {
   "cell_type": "markdown",
   "id": "a0f5e80c-b940-4f1c-a9a9-11a184829ec7",
   "metadata": {},
   "source": [
    "Sa se simuleze teorema limita centrala pornind de la o populatie care urmeaza o distributie:\n",
    "\n",
    "3. Poisson, cu $\\lambda=3$\n",
    "1. uniforma, cu valori intre 5 si 100\n",
    "\n",
    "    \n",
    "Folositi pentru  marimea esantioanelor valorile $n= 10,20,30, 50, 1000$."
   ]
  },
  {
   "cell_type": "markdown",
   "id": "932ec238-2e16-47b1-84ce-281762af4e2a",
   "metadata": {},
   "source": [
    "Pasi:\n",
    "    \n",
    "1. Stabiliti care este media $\\mu$ si abaterea medie patratica a populatiei $\\sigma$\n",
    "2. Reprezentati grafic distributia populatiei (pmf) si a unui esantion aleator din populatie;\n",
    "3. Extrageti esantioane aleatoare (multe!) de marime $n$ din populatie; \n",
    "4. Calculati media pentru fiecare esantion\n",
    "5. Reprezentati distributia mediilor calculate la punctul anterior\n",
    "6. Calculati media mediilor de la pct. 4. Comparati cu media populatie.\n",
    "7. Calculati abaterea medie patratica a mediilor de la punctul 4. Comparati cu $\\sigma/\\sqrt(n)$\n",
    "8. Reprezentati valoarea mediilor de la punctul 6 ca functie de $n$, $n= 10,20,...,1000$."
   ]
  },
  {
   "cell_type": "markdown",
   "id": "346373f2-d209-43ce-847e-86ff6dffec29",
   "metadata": {},
   "source": [
    "1. Stabiliti care este media $\\mu$ si abaterea medie patratica a populatiei $\\sigma$"
   ]
  },
  {
   "cell_type": "code",
   "execution_count": 14,
   "id": "15a37eab-bf97-4e12-867e-9c7938364431",
   "metadata": {},
   "outputs": [],
   "source": [
    "import numpy as np\n",
    "from scipy.stats import poisson, uniform\n",
    "#1.\n",
    "media_poisson = 3\n",
    "sigma_poisson = np.sqrt(media_poisson)\n",
    "\n",
    "media_uniform = (5 + 100) / 2\n",
    "sigma_uniform = np.sqrt((100 - 5) ** 2 / 12)"
   ]
  },
  {
   "cell_type": "code",
   "execution_count": 15,
   "id": "489208d4-c23f-4d3e-b445-0cbb6004e3f3",
   "metadata": {},
   "outputs": [
    {
     "name": "stdout",
     "output_type": "stream",
     "text": [
      "3\n",
      "1.7320508075688772\n",
      "52.5\n",
      "27.424137786507224\n"
     ]
    }
   ],
   "source": [
    "print(media_poisson)\n",
    "print(sigma_poisson)\n",
    "print(media_uniform)\n",
    "print(sigma_uniform)"
   ]
  },
  {
   "cell_type": "code",
   "execution_count": 16,
   "id": "c5a053cb-1ed0-4a1f-942a-a61f1252e6c6",
   "metadata": {},
   "outputs": [
    {
     "data": {
      "image/png": "[encoded data removed]",
      "text/plain": [
       "<Figure size 432x288 with 1 Axes>"
      ]
     },
     "metadata": {
      "needs_background": "light"
     },
     "output_type": "display_data"
    }
   ],
   "source": [
    "#2\n",
    "import matplotlib.pyplot as plt\n",
    "\n",
    "x_poisson = np.arange(poisson.ppf(0.01, media_poisson), poisson.ppf(0.99, media_poisson))\n",
    "plt.plot(x_poisson, poisson.pmf(x_poisson, media_poisson), 'bo', ms=8, label='poisson pmf')\n",
    "\n",
    "x_uniform = np.linspace(5, 100, 100)\n",
    "plt.plot(x_uniform, uniform.pdf(x_uniform, 5, 95), 'r-', lw=5, alpha=0.6, label='uniform pmf')\n",
    "\n",
    "plt.legend()\n",
    "plt.show()"
   ]
  },
  {
   "cell_type": "code",
   "execution_count": 17,
   "id": "22f4c452-a302-4c0f-bbe2-ce011d8803a2",
   "metadata": {},
   "outputs": [],
   "source": [
    "#3\n",
    "poisson_population = poisson(3)\n",
    "uniform_population = uniform(5, 95)\n",
    "n_values = [10, 20, 30, 50, 1000]\n",
    "poisson_samples = {n: poisson_population.rvs(size=(10000, n)) for n in n_values}\n",
    "uniform_samples = {n: uniform_population.rvs(size=(10000, n)) for n in n_values}"
   ]
  },
  {
   "cell_type": "code",
   "execution_count": 18,
   "id": "f9e6a108-feae-423f-b08e-c27b6144004b",
   "metadata": {},
   "outputs": [
    {
     "name": "stdout",
     "output_type": "stream",
     "text": [
      "{10: array([[3, 5, 3, ..., 3, 3, 3],\n",
      "       [4, 2, 3, ..., 3, 9, 6],\n",
      "       [4, 3, 3, ..., 2, 3, 6],\n",
      "       ...,\n",
      "       [5, 4, 1, ..., 1, 3, 5],\n",
      "       [4, 5, 3, ..., 2, 4, 5],\n",
      "       [3, 3, 2, ..., 2, 4, 3]]), 20: array([[3, 3, 0, ..., 3, 6, 2],\n",
      "       [2, 3, 3, ..., 4, 2, 4],\n",
      "       [3, 1, 2, ..., 3, 5, 4],\n",
      "       ...,\n",
      "       [3, 0, 8, ..., 2, 5, 0],\n",
      "       [2, 6, 2, ..., 3, 1, 9],\n",
      "       [1, 2, 4, ..., 4, 2, 3]]), 30: array([[1, 1, 2, ..., 2, 1, 3],\n",
      "       [6, 3, 1, ..., 3, 4, 3],\n",
      "       [4, 1, 1, ..., 2, 2, 1],\n",
      "       ...,\n",
      "       [2, 2, 5, ..., 4, 2, 4],\n",
      "       [1, 7, 3, ..., 2, 3, 2],\n",
      "       [1, 3, 5, ..., 3, 4, 1]]), 50: array([[2, 0, 5, ..., 1, 2, 4],\n",
      "       [4, 3, 0, ..., 5, 3, 4],\n",
      "       [4, 3, 6, ..., 2, 3, 4],\n",
      "       ...,\n",
      "       [3, 3, 3, ..., 4, 0, 4],\n",
      "       [4, 2, 1, ..., 1, 5, 2],\n",
      "       [3, 3, 3, ..., 1, 2, 3]]), 1000: array([[5, 3, 4, ..., 2, 0, 0],\n",
      "       [7, 3, 0, ..., 1, 4, 2],\n",
      "       [4, 3, 2, ..., 2, 4, 7],\n",
      "       ...,\n",
      "       [3, 3, 5, ..., 3, 0, 1],\n",
      "       [5, 2, 4, ..., 4, 3, 5],\n",
      "       [5, 3, 6, ..., 2, 3, 4]])}\n"
     ]
    }
   ],
   "source": [
    "print(poisson_samples)"
   ]
  },
  {
   "cell_type": "code",
   "execution_count": 19,
   "id": "2f93fc20-be62-4f96-8ea5-738e525bb75b",
   "metadata": {},
   "outputs": [
    {
     "name": "stdout",
     "output_type": "stream",
     "text": [
      "{10: array([[38.74179888, 29.17610856, 56.88305473, ..., 57.02166615,\n",
      "         9.97938132, 76.34744892],\n",
      "       [15.10552108, 94.51555793, 74.0409699 , ..., 89.41911439,\n",
      "        54.56793221, 82.4035641 ],\n",
      "       [21.90987935, 91.70855008, 89.24674982, ..., 16.5311285 ,\n",
      "        31.66762844,  5.39362132],\n",
      "       ...,\n",
      "       [59.95190557, 79.996613  , 67.42956324, ..., 85.72177453,\n",
      "        47.41976826, 15.12023827],\n",
      "       [44.90343996, 61.12398092, 59.31623939, ...,  8.4369886 ,\n",
      "        12.27339757, 15.13093259],\n",
      "       [63.95933047,  6.6949605 , 21.42465759, ..., 92.61767748,\n",
      "        18.05885318, 42.80028962]]), 20: array([[72.15111415, 13.67841688, 41.18008967, ..., 10.88637798,\n",
      "        52.69165792, 33.8844679 ],\n",
      "       [88.18740299, 64.02243963, 73.68498544, ..., 52.57942056,\n",
      "        20.46630963, 23.33327527],\n",
      "       [30.92676485, 47.83673892, 78.42867707, ..., 58.37259662,\n",
      "        54.1674949 , 30.36394354],\n",
      "       ...,\n",
      "       [30.58340653, 75.6000471 , 61.01729826, ..., 23.15135507,\n",
      "        60.13470297, 64.19168723],\n",
      "       [54.8595139 , 71.87382373, 21.40663743, ..., 72.685431  ,\n",
      "        22.2536994 , 44.23592086],\n",
      "       [66.54652018, 54.46413081, 61.99316118, ..., 95.2698981 ,\n",
      "        50.57328526, 43.82092135]]), 30: array([[74.60352279, 71.74964686,  7.81272977, ...,  9.05353667,\n",
      "        38.64804056, 60.99526107],\n",
      "       [59.68159352, 29.38734259, 41.94225588, ..., 75.93053179,\n",
      "        44.8208393 , 57.3965632 ],\n",
      "       [30.17959049, 66.62428128, 31.78098109, ..., 26.44013018,\n",
      "        14.60478221, 90.3809216 ],\n",
      "       ...,\n",
      "       [97.91867021, 13.72170457,  6.51981122, ..., 47.05862001,\n",
      "        77.28603209, 20.26327578],\n",
      "       [51.58091482, 59.74960532,  5.70846263, ..., 37.85286008,\n",
      "        36.60663746, 64.18954802],\n",
      "       [36.85260059, 41.66460788, 45.22343505, ..., 78.45255461,\n",
      "        96.77511682, 45.28640445]]), 50: array([[12.30677877, 37.59844499,  5.26782253, ..., 85.69287319,\n",
      "        27.3703691 , 40.90668198],\n",
      "       [ 6.6263787 , 79.38077823, 14.37789297, ..., 88.76654523,\n",
      "        49.6815696 , 16.0055372 ],\n",
      "       [19.81877831, 50.61092313, 69.82370765, ..., 52.15906119,\n",
      "        22.07757552, 53.6762634 ],\n",
      "       ...,\n",
      "       [69.08041251, 98.73591658, 72.10011042, ..., 21.26441389,\n",
      "        79.03569478, 71.74559392],\n",
      "       [48.91800475,  7.29085948, 70.06964303, ..., 26.77843399,\n",
      "        57.3336143 , 12.59997876],\n",
      "       [66.28619877, 75.00531061, 48.61205772, ..., 71.09725732,\n",
      "        56.30170959,  7.95020613]]), 1000: array([[11.81637119, 83.42141971, 27.62667139, ..., 16.6360436 ,\n",
      "        93.04665954,  9.48689193],\n",
      "       [22.71977509, 66.90891684,  7.11230677, ..., 63.40787572,\n",
      "        56.79620729, 42.26754664],\n",
      "       [63.13346357, 60.04498267, 43.85909713, ..., 36.73969526,\n",
      "        51.57060485, 58.22360858],\n",
      "       ...,\n",
      "       [28.06077731, 52.46346778, 78.52562626, ..., 53.30350786,\n",
      "        55.34846305, 63.92489374],\n",
      "       [58.03603676, 14.68468655, 46.91195762, ..., 27.9094483 ,\n",
      "        24.2529023 , 18.19291701],\n",
      "       [90.79326606, 33.81890152, 55.85888607, ..., 53.08983758,\n",
      "        14.71605916, 74.9784664 ]])}\n"
     ]
    }
   ],
   "source": [
    "print(uniform_samples)"
   ]
  },
  {
   "cell_type": "code",
   "execution_count": 20,
   "id": "bfc7df41-45d7-485b-ad53-962db0a4642e",
   "metadata": {},
   "outputs": [],
   "source": [
    "#4\n",
    "poisson_means = {n: sample.mean(axis=1) for n, sample in poisson_samples.items()}\n",
    "uniform_means = {n: sample.mean(axis=1) for n, sample in uniform_samples.items()}"
   ]
  },
  {
   "cell_type": "code",
   "execution_count": 21,
   "id": "a491006b-2b43-488a-980a-d5106cc6ac42",
   "metadata": {},
   "outputs": [
    {
     "name": "stdout",
     "output_type": "stream",
     "text": [
      "{10: array([3.7, 3.5, 2.7, ..., 2.9, 3.2, 3.6]), 20: array([3.15, 3.55, 2.95, ..., 2.8 , 3.5 , 2.85]), 30: array([2.63333333, 4.26666667, 3.03333333, ..., 3.1       , 3.26666667,\n",
      "       3.1       ]), 50: array([3.12, 2.88, 3.3 , ..., 2.44, 2.54, 3.16]), 1000: array([2.975, 2.985, 2.998, ..., 3.051, 2.96 , 2.94 ])}\n",
      "{10: array([54.72142835, 58.66453776, 44.43509339, ..., 55.29898059,\n",
      "       36.51902051, 46.73360928]), 20: array([47.11735709, 48.97775684, 55.72645699, ..., 50.07323998,\n",
      "       61.65360178, 53.76639508]), 30: array([55.2039743 , 45.64298118, 54.20288861, ..., 40.84873731,\n",
      "       52.72309442, 54.69045869]), 50: array([50.27070661, 52.14561263, 45.78490637, ..., 51.25406471,\n",
      "       49.4669502 , 56.75509305]), 1000: array([53.06933944, 52.66353927, 52.46264794, ..., 52.33232537,\n",
      "       51.82678472, 53.06500533])}\n"
     ]
    }
   ],
   "source": [
    "print(poisson_means)\n",
    "print(uniform_means)"
   ]
  },
  {
   "cell_type": "code",
   "execution_count": 22,
   "id": "9a376a12-bb8b-45d7-92fd-b3c5bca0f081",
   "metadata": {},
   "outputs": [
    {
     "data": {
      "image/png": "[encoded data removed]",
      "text/plain": [
       "<Figure size 432x288 with 1 Axes>"
      ]
     },
     "metadata": {
      "needs_background": "light"
     },
     "output_type": "display_data"
    },
    {
     "data": {
      "image/png": "[encoded data removed]",
      "text/plain": [
       "<Figure size 432x288 with 1 Axes>"
      ]
     },
     "metadata": {
      "needs_background": "light"
     },
     "output_type": "display_data"
    },
    {
     "data": {
      "image/png": "[encoded data removed]",
      "text/plain": [
       "<Figure size 432x288 with 1 Axes>"
      ]
     },
     "metadata": {
      "needs_background": "light"
     },
     "output_type": "display_data"
    },
    {
     "data": {
      "image/png": "[encoded data removed]",
      "text/plain": [
       "<Figure size 432x288 with 1 Axes>"
      ]
     },
     "metadata": {
      "needs_background": "light"
     },
     "output_type": "display_data"
    },
    {
     "data": {
      "image/png": "[encoded data removed]",
      "text/plain": [
       "<Figure size 432x288 with 1 Axes>"
      ]
     },
     "metadata": {
      "needs_background": "light"
     },
     "output_type": "display_data"
    }
   ],
   "source": [
    "#5\n",
    "for n in n_values:\n",
    "    plt.hist(poisson_means[n], bins=50, density=True, alpha=0.5, label=f'Poisson (n={n})')\n",
    "    plt.hist(uniform_means[n], bins=50, density=True, alpha=0.5, label=f'Uniform (n={n})')\n",
    "    plt.legend()\n",
    "    plt.show()"
   ]
  },
  {
   "cell_type": "code",
   "execution_count": 23,
   "id": "24c47979-3815-405d-b3c1-1f83e33a5f9f",
   "metadata": {},
   "outputs": [
    {
     "name": "stdout",
     "output_type": "stream",
     "text": [
      "Pentru n=10, media mediilor esantioanelor Poisson este 2.99988 si se apropie de media populatiei 3.0\n",
      "Pentru n=10, media mediilor esantioanelor Uniform este 52.493772186671336 si se apropie de media populatiei 52.5\n",
      "Pentru n=20, media mediilor esantioanelor Poisson este 3.0023400000000002 si se apropie de media populatiei 3.0\n",
      "Pentru n=20, media mediilor esantioanelor Uniform este 52.45120535334765 si se apropie de media populatiei 52.5\n",
      "Pentru n=30, media mediilor esantioanelor Poisson este 3.0012633333333336 si se apropie de media populatiei 3.0\n",
      "Pentru n=30, media mediilor esantioanelor Uniform este 52.47000259180976 si se apropie de media populatiei 52.5\n",
      "Pentru n=50, media mediilor esantioanelor Poisson este 2.99825 si se apropie de media populatiei 3.0\n",
      "Pentru n=50, media mediilor esantioanelor Uniform este 52.50919202547269 si se apropie de media populatiei 52.5\n",
      "Pentru n=1000, media mediilor esantioanelor Poisson este 2.9997568 si se apropie de media populatiei 3.0\n",
      "Pentru n=1000, media mediilor esantioanelor Uniform este 52.505817647192735 si se apropie de media populatiei 52.5\n"
     ]
    }
   ],
   "source": [
    "#6\n",
    "poisson_pop_mean = poisson_population.mean()\n",
    "uniform_pop_mean = uniform_population.mean()\n",
    "for n in n_values:\n",
    "    poisson_sample_mean = poisson_means[n].mean()\n",
    "    uniform_sample_mean = uniform_means[n].mean()\n",
    "    print(f'Pentru n={n}, media mediilor esantioanelor Poisson este {poisson_sample_mean} si se apropie de media populatiei {poisson_pop_mean}')\n",
    "    print(f'Pentru n={n}, media mediilor esantioanelor Uniform este {uniform_sample_mean} si se apropie de media populatiei {uniform_pop_mean}')"
   ]
  },
  {
   "cell_type": "code",
   "execution_count": 24,
   "id": "c4ad9cbb-5a5f-4d35-8057-a778956ddd80",
   "metadata": {},
   "outputs": [
    {
     "name": "stdout",
     "output_type": "stream",
     "text": [
      "Abaterea medie patratica a mediilor esantioanelor de marime 10 este: 0.022012805364151133\n",
      "Sigma\\sqrt(n) este: 0.5477225575051661\n",
      "Diferenta dintre abaterea medie patratica a mediilor esantioanelor si sigma\\sqrt(n) este: -0.5257097521410149\n",
      "Abaterea medie patratica a mediilor esantioanelor de marime 20 este: 0.02059678312261411\n",
      "Sigma\\sqrt(n) este: 0.38729833462074165\n",
      "Diferenta dintre abaterea medie patratica a mediilor esantioanelor si sigma\\sqrt(n) este: -0.36670155149812755\n",
      "Abaterea medie patratica a mediilor esantioanelor de marime 30 este: 0.014710085731300872\n",
      "Sigma\\sqrt(n) este: 0.3162277660168379\n",
      "Diferenta dintre abaterea medie patratica a mediilor esantioanelor si sigma\\sqrt(n) este: -0.301517680285537\n",
      "Abaterea medie patratica a mediilor esantioanelor de marime 50 este: 0.01660161389744982\n",
      "Sigma\\sqrt(n) este: 0.2449489742783178\n",
      "Diferenta dintre abaterea medie patratica a mediilor esantioanelor si sigma\\sqrt(n) este: -0.22834736038086798\n",
      "Abaterea medie patratica a mediilor esantioanelor de marime 1000 este: 0.01687986580041441\n",
      "Sigma\\sqrt(n) este: 0.054772255750516606\n",
      "Diferenta dintre abaterea medie patratica a mediilor esantioanelor si sigma\\sqrt(n) este: -0.0378923899501022\n"
     ]
    }
   ],
   "source": [
    "#7\n",
    "sample_sizes = [10, 20, 30, 50, 1000]\n",
    "for n in sample_sizes:\n",
    "    samples = np.random.poisson(3, size=(n, 10000))\n",
    "    sample_means = np.mean(samples, axis=1)\n",
    "    mean_of_means = np.mean(sample_means)\n",
    "    population_mean = 3\n",
    "    sample_means_std = np.std(sample_means) \n",
    "    population_std = np.sqrt(3) \n",
    "    std_of_sample_means = population_std / np.sqrt(n) \n",
    "    print(f'Abaterea medie patratica a mediilor esantioanelor de marime {n} este: {sample_means_std}')\n",
    "    print(f'Sigma\\sqrt(n) este: {std_of_sample_means}')\n",
    "    print('Diferenta dintre abaterea medie patratica a mediilor esantioanelor si sigma\\sqrt(n) este:', sample_means_std - std_of_sample_means)"
   ]
  },
  {
   "cell_type": "code",
   "execution_count": 25,
   "id": "7974eaba-fdb5-4d82-a5b0-dfbebde55851",
   "metadata": {},
   "outputs": [
    {
     "data": {
      "image/png": "[encoded data removed]",
      "text/plain": [
       "<Figure size 432x288 with 1 Axes>"
      ]
     },
     "metadata": {
      "needs_background": "light"
     },
     "output_type": "display_data"
    }
   ],
   "source": [
    "#8\n",
    "import matplotlib.pyplot as plt\n",
    "sample_sizes = [10, 20, 30, 50, 1000]\n",
    "means = []\n",
    "for n in sample_sizes:\n",
    "    samples = np.random.poisson(3, size=(n, 10000))\n",
    "    sample_means = np.mean(samples, axis=1)\n",
    "    mean_of_means = np.mean(sample_means)\n",
    "    means.append(mean_of_means)\n",
    "plt.plot(sample_sizes, means)\n",
    "plt.xlabel('Marimea esantionului')\n",
    "plt.ylabel('Media esantionului')\n",
    "plt.show()"
   ]
  },
  {
   "cell_type": "code",
   "execution_count": null,
   "id": "e7001c20-c623-4c6c-8c34-078ee1807f18",
   "metadata": {},
   "outputs": [],
   "source": []
  }
 ],
 "metadata": {
  "kernelspec": {
   "display_name": "Python 3 (ipykernel)",
   "language": "python",
   "name": "python3"
  },
  "language_info": {
   "codemirror_mode": {
    "name": "ipython",
    "version": 3
   },
   "file_extension": ".py",
   "mimetype": "text/x-python",
   "name": "python",
   "nbconvert_exporter": "python",
   "pygments_lexer": "ipython3",
   "version": "3.9.12"
  }
 },
 "nbformat": 4,
 "nbformat_minor": 5
}
