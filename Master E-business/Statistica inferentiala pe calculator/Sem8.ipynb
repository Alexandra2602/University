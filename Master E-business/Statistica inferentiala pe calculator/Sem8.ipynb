{
 "cells": [
  {
   "cell_type": "markdown",
   "id": "349d4b21-fe94-4ab6-9690-29f395f2c004",
   "metadata": {},
   "source": [
    "# Teste de medie"
   ]
  },
  {
   "cell_type": "code",
   "execution_count": 2,
   "id": "6a380d77-ea52-4cbf-8b51-e943aca018f4",
   "metadata": {},
   "outputs": [],
   "source": [
    "import numpy as np\n",
    "from scipy.stats import norm,t\n",
    "import matplotlib.pyplot as plt"
   ]
  },
  {
   "cell_type": "markdown",
   "id": "27b43e1d-3271-4b28-b611-d3fa9020b497",
   "metadata": {},
   "source": [
    "Avem un esantion de 36 de sticle de 3l. Se tie ca σ=0.18 si media esantionului e 2.92. Compania afirma ca media cantitatilor din sticle este mai mare sau egala cu 3. Presupunand ca populatia e normal distribuita, sa se verifice ipoteza companiei."
   ]
  },
  {
   "cell_type": "markdown",
   "id": "1ad63f17-53fd-44b3-a373-d6c086608e2d",
   "metadata": {},
   "source": [
    "P1) $H_0: \\mu \\leq 3$, $H_a: \\mu > 3$"
   ]
  },
  {
   "cell_type": "markdown",
   "id": "e39ab886-e474-4f4e-84a6-08aa56a8ab8e",
   "metadata": {},
   "source": [
    "P2) $z$ pop normal distribuita cu $\\sigma$ cunoscut"
   ]
  },
  {
   "cell_type": "code",
   "execution_count": 3,
   "id": "000121de-755f-4abc-9672-6b96043f664e",
   "metadata": {},
   "outputs": [],
   "source": [
    "# P3)\n",
    "alfa=0.05"
   ]
  },
  {
   "cell_type": "code",
   "execution_count": 4,
   "id": "31edaec6-572a-41cb-8086-4837f526a662",
   "metadata": {},
   "outputs": [
    {
     "data": {
      "text/plain": [
       "1.6448536269514722"
      ]
     },
     "execution_count": 4,
     "metadata": {},
     "output_type": "execute_result"
    }
   ],
   "source": [
    "# P4) regula de decizie\n",
    "z_alfa=norm.ppf(1-alfa)\n",
    "z_alfa"
   ]
  },
  {
   "cell_type": "code",
   "execution_count": 5,
   "id": "1b6cd89c-4750-4899-b58a-68e1b75a88c9",
   "metadata": {},
   "outputs": [],
   "source": [
    "def regula_la_dreapta(z, z_alfa):\n",
    "    if z>z_alfa:\n",
    "        return \"Se poare respinge H_0\"\n",
    "    else:\n",
    "        return \"NU se poate respinfe H_0\""
   ]
  },
  {
   "cell_type": "code",
   "execution_count": 6,
   "id": "c3ed3359-a5fd-423a-8ae1-925d81b73950",
   "metadata": {},
   "outputs": [
    {
     "data": {
      "text/plain": [
       "-2.666666666666669"
      ]
     },
     "execution_count": 6,
     "metadata": {},
     "output_type": "execute_result"
    }
   ],
   "source": [
    "# P5)\n",
    "x_barat=2.92\n",
    "sigma=0.18\n",
    "n=36\n",
    "sigma_x= sigma/np.sqrt(n)\n",
    "z= (x_barat-3)/sigma_x\n",
    "z"
   ]
  },
  {
   "cell_type": "code",
   "execution_count": 7,
   "id": "4a4566a7-9e46-4d9e-be90-277bccd566cf",
   "metadata": {},
   "outputs": [
    {
     "data": {
      "text/plain": [
       "'NU se poate respinfe H_0'"
      ]
     },
     "execution_count": 7,
     "metadata": {},
     "output_type": "execute_result"
    }
   ],
   "source": [
    "#P6)\n",
    "regula_la_dreapta(z, z_alfa)"
   ]
  },
  {
   "cell_type": "code",
   "execution_count": 8,
   "id": "46696cec-9b5e-4519-8d5e-597c501709ff",
   "metadata": {},
   "outputs": [],
   "source": [
    "#P7) interpretarea in cuvinte: nu se poate afirma ca media cantitatilor din sticle e mai mare de 3l..."
   ]
  },
  {
   "cell_type": "markdown",
   "id": "a1de3302-2f78-4852-86cc-f69630b06ff6",
   "metadata": {},
   "source": [
    "> pentru varianta cu $p$"
   ]
  },
  {
   "cell_type": "code",
   "execution_count": 9,
   "id": "a039f5bb-ac8f-4de1-b6b4-92a72bd8d210",
   "metadata": {},
   "outputs": [],
   "source": [
    "p= 1- norm.cdf(-2.66)"
   ]
  },
  {
   "cell_type": "code",
   "execution_count": 10,
   "id": "c6fb924c-1daf-43ea-897e-dae7f0b84ce4",
   "metadata": {},
   "outputs": [
    {
     "data": {
      "text/plain": [
       "0.9960929674251472"
      ]
     },
     "execution_count": 10,
     "metadata": {},
     "output_type": "execute_result"
    }
   ],
   "source": [
    "p"
   ]
  },
  {
   "cell_type": "code",
   "execution_count": null,
   "id": "22eeed45-75ed-402a-8aab-da254d628135",
   "metadata": {},
   "outputs": [],
   "source": []
  },
  {
   "cell_type": "code",
   "execution_count": null,
   "id": "b16b427a-62bf-406c-a068-3c50c27c36d1",
   "metadata": {},
   "outputs": [],
   "source": []
  },
  {
   "cell_type": "code",
   "execution_count": null,
   "id": "a392028d-4d26-4418-83c5-d242b6dfd006",
   "metadata": {},
   "outputs": [],
   "source": []
  },
  {
   "cell_type": "markdown",
   "id": "82d33110-d439-4bfb-98a5-de0550ddceac",
   "metadata": {},
   "source": [
    "In evaluarea unui aeroport se face un sondaj printer calatori in care acestia ii acorda o nota de la 0 la 10. Daca media punctajelor este mai mare de 7, aeroportul primeste categoria A. Pentru un aeroport din RO, 60 de respondenti au dat un scor mediu de 7.25 cu abatere medie patratica s=1.052. Ar trebui aeroportul sa primeasca categoria A?"
   ]
  },
  {
   "cell_type": "markdown",
   "id": "0c32a1bc-0138-424f-a107-caa234d8a388",
   "metadata": {},
   "source": [
    "> varianta cu $p$  \n",
    "P1) $H_0: \\mu \\leq 7$, $H_a: \\mu > 7$"
   ]
  },
  {
   "cell_type": "markdown",
   "id": "37df05f4-5fc0-47bd-a788-52be073366f3",
   "metadata": {},
   "source": [
    "P2) $t$ ($n\\geq 30$, varianta populatiei necunoscuta)"
   ]
  },
  {
   "cell_type": "code",
   "execution_count": 11,
   "id": "7b78e802-b32b-47b3-9b0c-fffbc40b1045",
   "metadata": {},
   "outputs": [],
   "source": [
    "#P3) nivel de semnificatie\n",
    "alfa=0.05"
   ]
  },
  {
   "cell_type": "code",
   "execution_count": 12,
   "id": "9e71add4-7fa1-4267-9857-47e9c3287797",
   "metadata": {},
   "outputs": [],
   "source": [
    "#P4) Regula de decizie\n",
    "def regula_p(p,alfa):\n",
    "    if p<alfa:\n",
    "        return \"se respinge H_0\"\n",
    "    else:\n",
    "        return \"NU se respinge H_0\""
   ]
  },
  {
   "cell_type": "code",
   "execution_count": 13,
   "id": "e6d44644-ded7-45b1-8797-ab728e5d734e",
   "metadata": {},
   "outputs": [],
   "source": [
    "#P5) calcule\n",
    "x_barat=7.25\n",
    "s=1.052\n",
    "n=60\n",
    "mu_0=7"
   ]
  },
  {
   "cell_type": "code",
   "execution_count": 14,
   "id": "977e5963-33dc-4441-aa73-a6e050516e11",
   "metadata": {},
   "outputs": [
    {
     "data": {
      "text/plain": [
       "1.840771552379951"
      ]
     },
     "execution_count": 14,
     "metadata": {},
     "output_type": "execute_result"
    }
   ],
   "source": [
    "s_x=s/np.sqrt(n)\n",
    "tt = (x_barat-mu_0)/s_x\n",
    "tt"
   ]
  },
  {
   "cell_type": "code",
   "execution_count": 15,
   "id": "bf4349aa-719c-4c12-962a-ee4ed2fac31a",
   "metadata": {},
   "outputs": [],
   "source": [
    "# valoarea lui p"
   ]
  },
  {
   "cell_type": "code",
   "execution_count": 16,
   "id": "5c8cd7da-f12c-4835-9872-33bbee409801",
   "metadata": {},
   "outputs": [],
   "source": [
    "p = 1-  t.cdf(tt, n-1)"
   ]
  },
  {
   "cell_type": "code",
   "execution_count": 17,
   "id": "e689ae97-c056-4928-a392-af105a5f7109",
   "metadata": {},
   "outputs": [
    {
     "data": {
      "text/plain": [
       "0.03534255422088828"
      ]
     },
     "execution_count": 17,
     "metadata": {},
     "output_type": "execute_result"
    }
   ],
   "source": [
    "p"
   ]
  },
  {
   "cell_type": "code",
   "execution_count": 18,
   "id": "c0ba3b3d-0320-4c3d-acb3-ea05aea7219a",
   "metadata": {},
   "outputs": [
    {
     "data": {
      "text/plain": [
       "'se respinge H_0'"
      ]
     },
     "execution_count": 18,
     "metadata": {},
     "output_type": "execute_result"
    }
   ],
   "source": [
    "#P6) \n",
    "regula_p(p, alfa)"
   ]
  },
  {
   "cell_type": "code",
   "execution_count": 19,
   "id": "0b243bbf-84d2-4b5b-9b88-415eb8c8fae4",
   "metadata": {},
   "outputs": [],
   "source": [
    "#P7) se poate acorda categoria A..."
   ]
  },
  {
   "cell_type": "markdown",
   "id": "ef44d0d8-5bb5-42b4-8382-0fc6cdfd5080",
   "metadata": {},
   "source": [
    "Pentru a lua o decizie legata de productia de jucarii, un manager verifica 25 de magazine din 1000, cu privire la vanzarea unui produs. Decizia pe care o ia depinde daca se descopera ca se vand 40 buc./ luna sau nu in magazinele partenere. Sa gaseste ca in medie se vand in cele 25 de magazine 37.4 bucati cu $s=11.79$. Se stie ca populatia urmeaza o distributie normala. Descrieti testul potrivit si indicati o posibila concluzie. "
   ]
  },
  {
   "cell_type": "markdown",
   "id": "8537572b-54a0-4f59-94fb-8d0d37c9bdf5",
   "metadata": {},
   "source": [
    "P1) $H_0: \\mu = 40 $, $H_a: \\mu \\neq 40$"
   ]
  },
  {
   "cell_type": "markdown",
   "id": "d74ddfc5-08ce-4ed8-948f-cdcd51e773e3",
   "metadata": {},
   "source": [
    "P2) $t$ (varianta populatiei necunoscuta, dar pop normal distribuita)"
   ]
  },
  {
   "cell_type": "code",
   "execution_count": 21,
   "id": "a41eb026-d5c8-4f5b-9a88-5e11ba11604f",
   "metadata": {},
   "outputs": [],
   "source": [
    "#P3) nivelul de semnificatie\n",
    "alfa=0.01"
   ]
  },
  {
   "cell_type": "code",
   "execution_count": 22,
   "id": "404e0344-201d-4b79-a04b-45c46d2e0cbc",
   "metadata": {},
   "outputs": [
    {
     "data": {
      "text/plain": [
       "-2.796939504772805"
      ]
     },
     "execution_count": 22,
     "metadata": {},
     "output_type": "execute_result"
    }
   ],
   "source": [
    "#P4) regula de decizie\n",
    "n= 25\n",
    "df = n-1\n",
    "t_alfa_2 = t.ppf(alfa/2, df)\n",
    "t_alfa_2"
   ]
  },
  {
   "cell_type": "code",
   "execution_count": 23,
   "id": "46fc6887-285a-43f5-8bf3-128d0a6cae06",
   "metadata": {},
   "outputs": [],
   "source": [
    "def regula_bilaterala(t, t_alfa_2):\n",
    "    if (t<t_alfa_2) | (t>-t_alfa_2):\n",
    "        return \"se respinge H_0\"\n",
    "    else:\n",
    "        return \"NU se respinge H_0\"  "
   ]
  },
  {
   "cell_type": "code",
   "execution_count": 24,
   "id": "9b10bd16-5626-457b-b575-c91e8c04da34",
   "metadata": {},
   "outputs": [
    {
     "data": {
      "text/plain": [
       "-1.1026293469041568"
      ]
     },
     "execution_count": 24,
     "metadata": {},
     "output_type": "execute_result"
    }
   ],
   "source": [
    "#P5) calcule\n",
    "x_barat = 37.4\n",
    "s = 11.79\n",
    "mu_0 = 40\n",
    "s_x = s/np.sqrt(n)\n",
    "t = (x_barat- mu_0)/ s_x\n",
    "t"
   ]
  },
  {
   "cell_type": "code",
   "execution_count": 25,
   "id": "409dcdca-198f-4316-b031-fd22c683012f",
   "metadata": {},
   "outputs": [
    {
     "data": {
      "text/plain": [
       "'NU se respinge H_0'"
      ]
     },
     "execution_count": 25,
     "metadata": {},
     "output_type": "execute_result"
    }
   ],
   "source": [
    "#P6) \n",
    "regula_bilaterala(t, t_alfa_2)"
   ]
  },
  {
   "cell_type": "markdown",
   "id": "9fec5f19-9700-40c7-a7f9-b8b57461b271",
   "metadata": {},
   "source": [
    "P7) nu se poate afirma ca media vanzarilor difera de 40. "
   ]
  },
  {
   "cell_type": "markdown",
   "id": "713ba7d7-f964-4d71-8a2a-32388315ae44",
   "metadata": {},
   "source": [
    "Un producator de mingi de golf vrea sa verifice daca distanta medie acoperita de mingile produse este de 295m. Daca este mai mica scad vanzarile iar daca este mai mare intra in alta categorie de reglementari. Periodic se ia un esantion de 50 de mingi pentru monitorizare. Datele anterioare arata ca $\\sigma=12$. Daca un esantion are media 297.6, ar trebui sa se ia masuri pentru ajustarea productiei?"
   ]
  },
  {
   "cell_type": "code",
   "execution_count": 28,
   "id": "4badb501-22fd-4dd2-8448-4c5e7c08fc57",
   "metadata": {},
   "outputs": [],
   "source": [
    "from scipy.stats import t"
   ]
  },
  {
   "cell_type": "code",
   "execution_count": 29,
   "id": "23f1a21a-73f5-4db3-9cd8-8628e98476ca",
   "metadata": {},
   "outputs": [],
   "source": [
    "media_esantion = 297.6\n",
    "sigma = 12\n",
    "n = 50"
   ]
  },
  {
   "cell_type": "code",
   "execution_count": 30,
   "id": "8ddfdc13-5c27-4ecc-8966-66e23f9dd4ee",
   "metadata": {},
   "outputs": [],
   "source": [
    "media_populatie = 295\n",
    "alpha = 0.05"
   ]
  },
  {
   "cell_type": "code",
   "execution_count": 31,
   "id": "3e8fd59b-c67a-4a11-9f0b-c76a2e5b3230",
   "metadata": {},
   "outputs": [
    {
     "data": {
      "text/plain": [
       "1.5320646925708663"
      ]
     },
     "execution_count": 31,
     "metadata": {},
     "output_type": "execute_result"
    }
   ],
   "source": [
    "t_calculat = (media_esantion - media_populatie) / (sigma / n**0.5)\n",
    "t_calculat"
   ]
  },
  {
   "cell_type": "code",
   "execution_count": 32,
   "id": "8216f60b-887b-4701-8d10-917374216894",
   "metadata": {},
   "outputs": [
    {
     "data": {
      "text/plain": [
       "1.6765508919142629"
      ]
     },
     "execution_count": 32,
     "metadata": {},
     "output_type": "execute_result"
    }
   ],
   "source": [
    "t_critical = t.ppf(1 - alpha, n - 1)\n",
    "t_critical"
   ]
  },
  {
   "cell_type": "code",
   "execution_count": 33,
   "id": "2d16d157-1afa-4b07-ab31-cdce9113de1b",
   "metadata": {},
   "outputs": [
    {
     "name": "stdout",
     "output_type": "stream",
     "text": [
      "Nu se refuza ipoteza nula. Distanta medie acoperita de mingile produse este 295m\n"
     ]
    }
   ],
   "source": [
    "if t_calculat > t_critical:\n",
    "    print(\"Se refuza ipoteza nula. Distanta medie acoperita de mingile produse este diferita de 295m\")\n",
    "else:\n",
    "    print(\"Nu se refuza ipoteza nula. Distanta medie acoperita de mingile produse este 295m\")"
   ]
  },
  {
   "cell_type": "markdown",
   "id": "2144efdd-0b36-4dd7-bb94-c7361f797662",
   "metadata": {},
   "source": [
    "## 2\n",
    "Berea OareCare se vinde la sticle de 300ml. Legea cere ca daca pe eticheta e trecuta cantitatea de 300ml, atunci in sticla ar trebui sa fie cel putin 300ml. Se ia un esantion de 30 de sticle cu $\\overline x=299.5$ si $s=1.9ml$. S"
   ]
  },
  {
   "cell_type": "code",
   "execution_count": 34,
   "id": "a0910f84-9ec0-44bf-8920-07a7d61ee6c3",
   "metadata": {},
   "outputs": [],
   "source": [
    "from scipy.stats import t"
   ]
  },
  {
   "cell_type": "code",
   "execution_count": 35,
   "id": "6b3ef0f2-24bb-44ee-92ca-a119cfc75bda",
   "metadata": {},
   "outputs": [],
   "source": [
    "xbar = 299.5 \n",
    "s = 1.9 \n",
    "n = 30 \n",
    "mu = 300 "
   ]
  },
  {
   "cell_type": "code",
   "execution_count": 36,
   "id": "496c714f-0c07-420a-85af-dba980f8c0a5",
   "metadata": {},
   "outputs": [
    {
     "data": {
      "text/plain": [
       "-1.4413751513293847"
      ]
     },
     "execution_count": 36,
     "metadata": {},
     "output_type": "execute_result"
    }
   ],
   "source": [
    "t_value = (xbar - mu) / (s / (n ** 0.5))\n",
    "t_value"
   ]
  },
  {
   "cell_type": "code",
   "execution_count": 37,
   "id": "a8fafed8-b5fc-4bb2-ba36-aaf085fc5ff4",
   "metadata": {},
   "outputs": [
    {
     "data": {
      "text/plain": [
       "1.6991270265334972"
      ]
     },
     "execution_count": 37,
     "metadata": {},
     "output_type": "execute_result"
    }
   ],
   "source": [
    "alpha = 0.05 \n",
    "df = 29 \n",
    "t_critical = t.ppf(1 - alpha, df)\n",
    "t_critical"
   ]
  },
  {
   "cell_type": "code",
   "execution_count": 38,
   "id": "84c9a63f-3562-435d-bab1-442f0f6fea22",
   "metadata": {},
   "outputs": [
    {
     "name": "stdout",
     "output_type": "stream",
     "text": [
      "Nu putem respinge ipoteza nulă.\n"
     ]
    }
   ],
   "source": [
    "if t_value < t_critical:\n",
    "    print(\"Nu putem respinge ipoteza nulă.\")\n",
    "else:\n",
    "    print(\"Se respinge ipoteza nulă.\")"
   ]
  },
  {
   "cell_type": "markdown",
   "id": "c183ad7c-0415-4ebd-845c-af55f8fcd8cd",
   "metadata": {},
   "source": [
    "## 3\n",
    "Urmatorul esantion provine dintr-o populatie normal distribuita cu $\\sigma=0.5$. Se poate afirma ca media populatiei este mai mare decat 5? Dar daca nu s-ar cunoaste $\\sigma$?"
   ]
  },
  {
   "cell_type": "code",
   "execution_count": 43,
   "id": "1942b592-a309-46fe-ad1a-3c29bc39e7cb",
   "metadata": {},
   "outputs": [
    {
     "data": {
      "text/plain": [
       "-5.477225575051661"
      ]
     },
     "execution_count": 43,
     "metadata": {},
     "output_type": "execute_result"
    }
   ],
   "source": [
    "from scipy import stats\n",
    "from math import sqrt\n",
    "#### Daca se cunoaste sigma\n",
    "n = 30\n",
    "xbar = 299.5\n",
    "mu = 300\n",
    "sigma = 0.5\n",
    "t_score = (xbar - mu) / (sigma / sqrt(n))\n",
    "t_score"
   ]
  },
  {
   "cell_type": "code",
   "execution_count": 44,
   "id": "925bcfc6-7998-40cf-a071-8f02a644539c",
   "metadata": {},
   "outputs": [
    {
     "data": {
      "text/plain": [
       "0.9999966304273264"
      ]
     },
     "execution_count": 44,
     "metadata": {},
     "output_type": "execute_result"
    }
   ],
   "source": [
    "p = stats.t.sf(t_score, n-1)\n",
    "p"
   ]
  },
  {
   "cell_type": "code",
   "execution_count": 45,
   "id": "97e1e836-35f4-4a69-a83b-38e818234336",
   "metadata": {},
   "outputs": [
    {
     "name": "stdout",
     "output_type": "stream",
     "text": [
      "Nu respingem ipoteza nula\n"
     ]
    }
   ],
   "source": [
    "if p < 0.05:\n",
    "    print(\"Respingem ipoteza nula si afirmam ca media populatiei este mai mare decat 5\")\n",
    "else:\n",
    "    print(\"Nu respingem ipoteza nula\")"
   ]
  },
  {
   "cell_type": "code",
   "execution_count": 46,
   "id": "a178aa0c-f936-49a1-a5c6-d75fdca36294",
   "metadata": {},
   "outputs": [],
   "source": [
    "# Daca nu se cunoaste sigma\n",
    "n = 30\n",
    "xbar = 299.5\n",
    "mu = 300\n",
    "s = 1.9\n",
    "z_score = (xbar - mu) / (s / sqrt(n))"
   ]
  },
  {
   "cell_type": "code",
   "execution_count": 47,
   "id": "ec405da2-dc9a-4492-ab29-08e397c62419",
   "metadata": {},
   "outputs": [
    {
     "data": {
      "text/plain": [
       "-1.4413751513293847"
      ]
     },
     "execution_count": 47,
     "metadata": {},
     "output_type": "execute_result"
    }
   ],
   "source": [
    "z_score"
   ]
  },
  {
   "cell_type": "code",
   "execution_count": 48,
   "id": "4392fe01-b777-48c1-8159-80ac9e9155f5",
   "metadata": {},
   "outputs": [],
   "source": [
    "p = stats.norm.sf(z_score)"
   ]
  },
  {
   "cell_type": "code",
   "execution_count": 49,
   "id": "65ff82cd-7351-43c1-82db-ce3e3486d445",
   "metadata": {},
   "outputs": [
    {
     "data": {
      "text/plain": [
       "0.9252606367859916"
      ]
     },
     "execution_count": 49,
     "metadata": {},
     "output_type": "execute_result"
    }
   ],
   "source": [
    "p"
   ]
  },
  {
   "cell_type": "code",
   "execution_count": 50,
   "id": "c0e1509f-131c-4056-886e-40d21f935831",
   "metadata": {},
   "outputs": [
    {
     "name": "stdout",
     "output_type": "stream",
     "text": [
      "Nu respingem ipoteza nula\n"
     ]
    }
   ],
   "source": [
    "if p < 0.05:\n",
    "    print(\"Respingem ipoteza nula si afirmam ca media populatiei este mai mare decat 5\")\n",
    "else:\n",
    "    print(\"Nu respingem ipoteza nula\")"
   ]
  },
  {
   "cell_type": "code",
   "execution_count": null,
   "id": "a75b6dae-3ec3-4d8e-93dd-07adb31b6937",
   "metadata": {},
   "outputs": [],
   "source": []
  }
 ],
 "metadata": {
  "kernelspec": {
   "display_name": "Python 3 (ipykernel)",
   "language": "python",
   "name": "python3"
  },
  "language_info": {
   "codemirror_mode": {
    "name": "ipython",
    "version": 3
   },
   "file_extension": ".py",
   "mimetype": "text/x-python",
   "name": "python",
   "nbconvert_exporter": "python",
   "pygments_lexer": "ipython3",
   "version": "3.9.12"
  }
 },
 "nbformat": 4,
 "nbformat_minor": 5
}
