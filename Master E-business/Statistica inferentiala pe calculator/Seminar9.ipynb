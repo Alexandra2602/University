{
 "cells": [
  {
   "cell_type": "markdown",
   "id": "640fdd4b-6594-4abe-a44b-2e20173c8db3",
   "metadata": {},
   "source": [
    "Teste de varianta"
   ]
  },
  {
   "cell_type": "code",
   "execution_count": 2,
   "id": "29f5d964-9566-46a4-8548-378dba99538e",
   "metadata": {},
   "outputs": [],
   "source": [
    "import numpy as np\n",
    "from scipy.stats import t, chi2\n",
    "import matplotlib.pyplot as plt"
   ]
  },
  {
   "cell_type": "markdown",
   "id": "bd7bee90-4e38-434c-be9d-f22dc11cb290",
   "metadata": {},
   "source": [
    "Urmatoarele date reprezinta rezultate raportate de doi algoritmi de optimizare pe un set de 10 functii de test.\n",
    "\n",
    "Presupunand ca populatiile sunt normal distribuite sa se verifice daca diferentele dintre rezultate sunt semnificative ($\\alpha=0.05$)"
   ]
  },
  {
   "cell_type": "code",
   "execution_count": 4,
   "id": "0f942991-d99d-4c30-8f8d-691c6ea311d9",
   "metadata": {},
   "outputs": [],
   "source": [
    "A1=np.array([0.1,0.05, 0.2, 0.001, 0.7, 0.3, 0.05, 0.8, 0.6, 0.08])\n",
    "A2=np.array([0.15, 0.03, 0.3, 0.002, 0.75, 0.1, 0.01, 0.75, 0.7, 0.03])"
   ]
  },
  {
   "cell_type": "code",
   "execution_count": 5,
   "id": "a6d606ae-858e-410b-a4ed-567fc8361b13",
   "metadata": {},
   "outputs": [
    {
     "data": {
      "text/plain": [
       "(array([0.1  , 0.05 , 0.2  , 0.001, 0.7  , 0.3  , 0.05 , 0.8  , 0.6  ,\n",
       "        0.08 ]),\n",
       " array([0.15 , 0.03 , 0.3  , 0.002, 0.75 , 0.1  , 0.01 , 0.75 , 0.7  ,\n",
       "        0.03 ]))"
      ]
     },
     "execution_count": 5,
     "metadata": {},
     "output_type": "execute_result"
    }
   ],
   "source": [
    "A1, A2"
   ]
  },
  {
   "cell_type": "markdown",
   "id": "8bfb8b69-cbfb-43fe-a369-b4e471ded3b0",
   "metadata": {},
   "source": [
    "p1) $H_0: \\mu_d=0$ $H_a: \\mu_d \\neq 0$"
   ]
  },
  {
   "cell_type": "markdown",
   "id": "aba97312-d372-4dc8-806f-35cb36643563",
   "metadata": {},
   "source": [
    "p2) statistica $t$"
   ]
  },
  {
   "cell_type": "code",
   "execution_count": 8,
   "id": "585a48ae-1ecc-49d8-b9d8-c4a75f31b764",
   "metadata": {},
   "outputs": [],
   "source": [
    "# p3) nivelul de semnificatie\n",
    "alfa=0.05"
   ]
  },
  {
   "cell_type": "code",
   "execution_count": 9,
   "id": "aaaa8423-1f8f-4cd5-9e68-7bb6cdd3f659",
   "metadata": {},
   "outputs": [
    {
     "data": {
      "text/plain": [
       "-2.262157162740992"
      ]
     },
     "execution_count": 9,
     "metadata": {},
     "output_type": "execute_result"
    }
   ],
   "source": [
    "# p4) regula de decizie\n",
    "n=10\n",
    "df=n-1\n",
    "t_alfa_2 = t.ppf(alfa/2, df)\n",
    "t_alfa_2"
   ]
  },
  {
   "cell_type": "code",
   "execution_count": 10,
   "id": "77407091-2c40-4b5f-a0dd-9838408330f3",
   "metadata": {},
   "outputs": [],
   "source": [
    "def regula_bilateral(t, t_alfa_2):\n",
    "    if (t<t_alfa_2) | (t>-t_alfa_2):\n",
    "        return \"Se respinge H_0\"\n",
    "    else:\n",
    "        return \"NU se respinge H_0\""
   ]
  },
  {
   "cell_type": "code",
   "execution_count": 11,
   "id": "9b83f5fb-6496-4986-875c-c87669f870e5",
   "metadata": {},
   "outputs": [],
   "source": [
    "# p5) calcule"
   ]
  },
  {
   "cell_type": "code",
   "execution_count": 12,
   "id": "3e1703af-47cd-4175-8f4e-fd4add8045fe",
   "metadata": {},
   "outputs": [],
   "source": [
    "diferente = A1 - A2\n"
   ]
  },
  {
   "cell_type": "code",
   "execution_count": 13,
   "id": "88056954-3d56-4ab4-9390-3f9c348a700b",
   "metadata": {},
   "outputs": [
    {
     "data": {
      "text/plain": [
       "array([-0.05 ,  0.02 , -0.1  , -0.001, -0.05 ,  0.2  ,  0.04 ,  0.05 ,\n",
       "       -0.1  ,  0.05 ])"
      ]
     },
     "execution_count": 13,
     "metadata": {},
     "output_type": "execute_result"
    }
   ],
   "source": [
    "diferente"
   ]
  },
  {
   "cell_type": "code",
   "execution_count": 14,
   "id": "c6fea2cf-f7bf-4a38-a2b9-6503bb434f5d",
   "metadata": {},
   "outputs": [],
   "source": [
    "d_barat = np.mean(diferente)\n"
   ]
  },
  {
   "cell_type": "code",
   "execution_count": 15,
   "id": "78d6b9ef-102b-4504-96c2-c8b189584e31",
   "metadata": {},
   "outputs": [
    {
     "data": {
      "text/plain": [
       "0.005900000000000007"
      ]
     },
     "execution_count": 15,
     "metadata": {},
     "output_type": "execute_result"
    }
   ],
   "source": [
    "d_barat"
   ]
  },
  {
   "cell_type": "code",
   "execution_count": 16,
   "id": "354be02f-858d-4a82-a950-bfb64b7032d5",
   "metadata": {},
   "outputs": [],
   "source": [
    "s = np.std(diferente, ddof=1)\n"
   ]
  },
  {
   "cell_type": "code",
   "execution_count": 17,
   "id": "12392e81-104a-49fd-901e-6faf49766cbb",
   "metadata": {},
   "outputs": [
    {
     "data": {
      "text/plain": [
       "0.08922686441500302"
      ]
     },
     "execution_count": 17,
     "metadata": {},
     "output_type": "execute_result"
    }
   ],
   "source": [
    "s"
   ]
  },
  {
   "cell_type": "code",
   "execution_count": 20,
   "id": "7889bc5e-cd59-4124-b2d9-08d07e2471d9",
   "metadata": {},
   "outputs": [],
   "source": [
    "eroare_standard = s/ np.sqrt(n)"
   ]
  },
  {
   "cell_type": "code",
   "execution_count": 21,
   "id": "38efffb8-0491-4742-bd15-35ec1b755a1f",
   "metadata": {},
   "outputs": [
    {
     "data": {
      "text/plain": [
       "0.028216012002643696"
      ]
     },
     "execution_count": 21,
     "metadata": {},
     "output_type": "execute_result"
    }
   ],
   "source": [
    "eroare_standard"
   ]
  },
  {
   "cell_type": "code",
   "execution_count": 22,
   "id": "f6859e7b-208b-4700-a0e4-b79f5ebab13d",
   "metadata": {},
   "outputs": [
    {
     "data": {
      "text/plain": [
       "0.2091011302180906"
      ]
     },
     "execution_count": 22,
     "metadata": {},
     "output_type": "execute_result"
    }
   ],
   "source": [
    "tt = (d_barat -0)/eroare_standard\n",
    "tt"
   ]
  },
  {
   "cell_type": "code",
   "execution_count": 23,
   "id": "9a2c1d01-b4b9-45e0-8520-e3aa61042465",
   "metadata": {},
   "outputs": [
    {
     "data": {
      "text/plain": [
       "'NU se respinge H_0'"
      ]
     },
     "execution_count": 23,
     "metadata": {},
     "output_type": "execute_result"
    }
   ],
   "source": [
    "# p6) aplicare regula\n",
    "regula_bilateral(tt, t_alfa_2)"
   ]
  },
  {
   "cell_type": "code",
   "execution_count": 24,
   "id": "08e29ebc-965d-41ca-86ae-41d706b3cd34",
   "metadata": {},
   "outputs": [],
   "source": [
    "#  p7) nu se poate afirma ca este diferenta semnificativa intre rezultate. "
   ]
  },
  {
   "cell_type": "markdown",
   "id": "98b17b93-f1ed-4629-8128-2798822997b8",
   "metadata": {},
   "source": [
    "# Teste de varianta"
   ]
  },
  {
   "cell_type": "markdown",
   "id": "dcede55a-8e61-4157-8967-4161a2fba7fe",
   "metadata": {},
   "source": [
    "Pentru a verifica afirmatia unui manager ca varianta cantitatii de lichid imbuteliat in sticle de 1l este mai mica de **1cm$^3$** se ia un esantion de 25 de sticle si se masoara volumul de lichid. Se constata ca $s^2=0.6333$. Sprijina datele afirmatia managerului? (pp. ca populatia e normal distribuita)."
   ]
  },
  {
   "cell_type": "markdown",
   "id": "aa4a7d23-fb73-41c8-acc4-22902156a3ce",
   "metadata": {},
   "source": [
    "P1) $H_0: \\sigma^2 \\ge 1$ , $H_a \\sigma^2 <1$"
   ]
  },
  {
   "cell_type": "markdown",
   "id": "3a557180-d48c-4da3-bae8-5cf6d48a238a",
   "metadata": {},
   "source": [
    "P2) $\\chi^2$"
   ]
  },
  {
   "cell_type": "code",
   "execution_count": 28,
   "id": "04af38a8-6331-4f80-9243-8b17fcd807b4",
   "metadata": {},
   "outputs": [],
   "source": [
    "# p3) nivel de semnificatie\n",
    "alfa = 0.05"
   ]
  },
  {
   "cell_type": "code",
   "execution_count": 29,
   "id": "32db53b0-b2e1-4eb4-ab4d-6c7cfbe82cee",
   "metadata": {},
   "outputs": [],
   "source": [
    "# p4) regula de decizie\n",
    "n=25\n",
    "df=n-1"
   ]
  },
  {
   "cell_type": "code",
   "execution_count": 30,
   "id": "8504bf4d-90f3-4196-9c75-0a00b3a23826",
   "metadata": {},
   "outputs": [
    {
     "data": {
      "text/plain": [
       "<matplotlib.legend.Legend at 0x237f794a4f0>"
      ]
     },
     "execution_count": 30,
     "metadata": {},
     "output_type": "execute_result"
    },
    {
     "data": {
      "image/png": "[encoded data removed]",
      "text/plain": [
       "<Figure size 432x288 with 1 Axes>"
      ]
     },
     "metadata": {
      "needs_background": "light"
     },
     "output_type": "display_data"
    }
   ],
   "source": [
    "x = np.linspace(0, 100,100)\n",
    "plt.plot(x, chi2.pdf(x,df), label=f'df={df}')\n",
    "plt.plot(x, chi2.pdf(x,5), label=f'df=5')\n",
    "plt.plot(x, chi2.pdf(x,50), label=f'df=50')\n",
    "plt.legend()"
   ]
  },
  {
   "cell_type": "code",
   "execution_count": 31,
   "id": "737e3f48-07e7-4e38-a206-b8d31f7fc6bb",
   "metadata": {},
   "outputs": [
    {
     "data": {
      "text/plain": [
       "13.848425027170224"
      ]
     },
     "execution_count": 31,
     "metadata": {},
     "output_type": "execute_result"
    }
   ],
   "source": [
    "chi2_alfa = chi2.ppf(alfa, df)\n",
    "chi2_alfa"
   ]
  },
  {
   "cell_type": "code",
   "execution_count": 32,
   "id": "53218c9a-f0d6-4933-8b68-bb814ea56826",
   "metadata": {},
   "outputs": [],
   "source": [
    "def regula_unilaterala_stanga(statistica, chi2_alfa):\n",
    "    if statistica< chi2_alfa:\n",
    "        return \"Se respinge H_0\"\n",
    "    else:\n",
    "        return \"NU se respinge H_0\" "
   ]
  },
  {
   "cell_type": "markdown",
   "id": "68b4cf14-19ae-4d59-a102-e0609d07a0fe",
   "metadata": {},
   "source": [
    "#p5) calcule\n",
    "s2 = 0.6333\n",
    "statistica = (n-1) * s2 /1\n",
    "statistica"
   ]
  },
  {
   "cell_type": "code",
   "execution_count": 34,
   "id": "882fd7da-56c0-499f-9a67-da882d48a0a3",
   "metadata": {},
   "outputs": [
    {
     "data": {
      "text/plain": [
       "'NU se respinge H_0'"
      ]
     },
     "execution_count": 34,
     "metadata": {},
     "output_type": "execute_result"
    }
   ],
   "source": [
    "#p6) verificare regula\n",
    "regula_unilaterala_stanga(statistica, chi2_alfa)"
   ]
  },
  {
   "cell_type": "code",
   "execution_count": 35,
   "id": "fbd6a47f-ce1b-4677-84ee-06e2e72e1242",
   "metadata": {},
   "outputs": [],
   "source": [
    "# p7) datele nu sprijina afirmatia managerului"
   ]
  },
  {
   "cell_type": "code",
   "execution_count": 36,
   "id": "39bdbd29-9ab1-4b68-b9e5-47c6cdd6e376",
   "metadata": {},
   "outputs": [],
   "source": [
    "# De rezolvat:"
   ]
  },
  {
   "cell_type": "markdown",
   "id": "e8470ce3-f623-4200-a472-77a97de55ae4",
   "metadata": {},
   "source": [
    "S-a ales un esantion aleator de 100 de observatii dintr-o populatie normal distribuita, cu $s^2=220$. Putem afirma la un nivel de semnificatie de 1% ca varianta populatiei este diferita de 300?"
   ]
  },
  {
   "cell_type": "code",
   "execution_count": 39,
   "id": "751d7713-e499-4f80-9466-7c7d6c5add33",
   "metadata": {},
   "outputs": [],
   "source": [
    "from scipy.stats import chi2"
   ]
  },
  {
   "cell_type": "code",
   "execution_count": 40,
   "id": "36fb8343-9c09-46df-a3a9-ea1d2c50b72c",
   "metadata": {},
   "outputs": [],
   "source": [
    "varianta_esantion = 220 \n",
    "varianta_populatie = 300  \n",
    "n = 100 "
   ]
  },
  {
   "cell_type": "code",
   "execution_count": 42,
   "id": "af0f120c-6ad5-4c37-9b50-3ed3844a8ccb",
   "metadata": {},
   "outputs": [
    {
     "data": {
      "text/plain": [
       "72.6"
      ]
     },
     "execution_count": 42,
     "metadata": {},
     "output_type": "execute_result"
    }
   ],
   "source": [
    "chi_squared = ((n-1)*varianta_esantion)/varianta_populatie\n",
    "chi_squared"
   ]
  },
  {
   "cell_type": "code",
   "execution_count": 43,
   "id": "eef4db4b-5cb4-4eb5-b79b-0a44578fadb4",
   "metadata": {},
   "outputs": [
    {
     "data": {
      "text/plain": [
       "134.64161685578915"
      ]
     },
     "execution_count": 43,
     "metadata": {},
     "output_type": "execute_result"
    }
   ],
   "source": [
    "alpha = 0.01  \n",
    "val_critica = chi2.ppf(q = 1 - alpha, df = n-1)\n",
    "val_critica"
   ]
  },
  {
   "cell_type": "code",
   "execution_count": 44,
   "id": "22ddd609-5626-4848-bf72-2019ce3d0e53",
   "metadata": {},
   "outputs": [
    {
     "name": "stdout",
     "output_type": "stream",
     "text": [
      "Nu putem refuza ipoteza nula\n"
     ]
    }
   ],
   "source": [
    "if chi_squared > val_critica:\n",
    "    print(\"Putem refuza ipoteza nula\")\n",
    "else:\n",
    "    print(\"Nu putem refuza ipoteza nula\")"
   ]
  },
  {
   "cell_type": "markdown",
   "id": "65007d5b-e9a8-4839-aa97-8980521eb706",
   "metadata": {},
   "source": [
    "## 2\n",
    "Varianta unui esantion de 50 de observatii dintr-o populatie normal distribuita este de $s^2=80$. Putem afirma cu 1% nivel de semnificatie ca $\\sigma^2$ este mai mic de 100?"
   ]
  },
  {
   "cell_type": "code",
   "execution_count": 45,
   "id": "702b965e-c2c3-4c88-a3b7-507af0918224",
   "metadata": {},
   "outputs": [],
   "source": [
    "from scipy.stats import chi2"
   ]
  },
  {
   "cell_type": "code",
   "execution_count": 46,
   "id": "60081c53-6210-4626-b5f5-c8cac62c926c",
   "metadata": {},
   "outputs": [],
   "source": [
    "var_esantion= 80  \n",
    "n = 50 "
   ]
  },
  {
   "cell_type": "code",
   "execution_count": 47,
   "id": "43ebdbf8-c0fb-4254-8698-4460cbc27027",
   "metadata": {},
   "outputs": [
    {
     "data": {
      "text/plain": [
       "39.2"
      ]
     },
     "execution_count": 47,
     "metadata": {},
     "output_type": "execute_result"
    }
   ],
   "source": [
    "chi_squared = (n-1) *var_esantion / 100\n",
    "chi_squared"
   ]
  },
  {
   "cell_type": "code",
   "execution_count": 48,
   "id": "0e114046-ada4-445a-a299-8bbf04de76e5",
   "metadata": {},
   "outputs": [
    {
     "data": {
      "text/plain": [
       "74.91947430847816"
      ]
     },
     "execution_count": 48,
     "metadata": {},
     "output_type": "execute_result"
    }
   ],
   "source": [
    "alpha = 0.01  # nivelul de semnificatie\n",
    "valoare_critica = chi2.ppf(q = 1 - alpha, df = n-1)\n",
    "valoare_critica"
   ]
  },
  {
   "cell_type": "code",
   "execution_count": 49,
   "id": "f1139fa7-e9cc-4e8a-8352-6442715c5685",
   "metadata": {},
   "outputs": [
    {
     "name": "stdout",
     "output_type": "stream",
     "text": [
      "Nu putem refuza ipoteza nula.\n"
     ]
    }
   ],
   "source": [
    "if chi_squared > valoare_critica:\n",
    "    print(\"Putem refuza ipoteza nula si concluziona ca variatia populatiei este mai mare sau egala cu 100.\")\n",
    "else:\n",
    "    print(\"Nu putem refuza ipoteza nula.\")"
   ]
  },
  {
   "cell_type": "code",
   "execution_count": null,
   "id": "85da90a1-8f41-427c-8e02-a778b5116cb8",
   "metadata": {},
   "outputs": [],
   "source": []
  }
 ],
 "metadata": {
  "kernelspec": {
   "display_name": "Python 3 (ipykernel)",
   "language": "python",
   "name": "python3"
  },
  "language_info": {
   "codemirror_mode": {
    "name": "ipython",
    "version": 3
   },
   "file_extension": ".py",
   "mimetype": "text/x-python",
   "name": "python",
   "nbconvert_exporter": "python",
   "pygments_lexer": "ipython3",
   "version": "3.9.12"
  }
 },
 "nbformat": 4,
 "nbformat_minor": 5
}
