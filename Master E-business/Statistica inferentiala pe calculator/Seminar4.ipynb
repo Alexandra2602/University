{
 "cells": [
  {
   "cell_type": "markdown",
   "id": "9b1d22de-4546-4d08-b091-f02a98e9a356",
   "metadata": {},
   "source": [
    "# Seminar 4"
   ]
  },
  {
   "cell_type": "markdown",
   "id": "687712df-caf4-4199-bb7f-e168c32ba223",
   "metadata": {},
   "source": [
    "Se arunca o moneda de $n=10, 20, 300$ de ori. Sa se calculeze probabilitatea ca stema sa apara de $k = 5,14,145$ de ori."
   ]
  },
  {
   "cell_type": "code",
   "execution_count": 6,
   "id": "c11bb5a5-ec45-48dc-a1fb-c7af3cd3f2f1",
   "metadata": {},
   "outputs": [],
   "source": [
    "import numpy as np\n",
    "from scipy.special import comb"
   ]
  },
  {
   "cell_type": "markdown",
   "id": "f99867b0-691d-42cf-9d5c-7732fb17cbfe",
   "metadata": {},
   "source": [
    "## varianta1"
   ]
  },
  {
   "cell_type": "code",
   "execution_count": 7,
   "id": "4ec37dce-3754-40e5-acc7-1b4eac108334",
   "metadata": {},
   "outputs": [],
   "source": [
    "def moneda():\n",
    "    if np.random.rand()<0.5:\n",
    "        return 1 #1=Stema\n",
    "    else:\n",
    "        return 0 #0=Marca"
   ]
  },
  {
   "cell_type": "code",
   "execution_count": 8,
   "id": "7b8183f7-3eb9-420c-9f47-cd5a6024629f",
   "metadata": {},
   "outputs": [
    {
     "data": {
      "text/plain": [
       "1"
      ]
     },
     "execution_count": 8,
     "metadata": {},
     "output_type": "execute_result"
    }
   ],
   "source": [
    "moneda()"
   ]
  },
  {
   "cell_type": "code",
   "execution_count": 9,
   "id": "b70039cb-3bdd-4198-a302-13a46d3b2356",
   "metadata": {},
   "outputs": [],
   "source": [
    "def moneda():\n",
    "    return 1 if np.random.rand()>0.5 else 0"
   ]
  },
  {
   "cell_type": "code",
   "execution_count": 10,
   "id": "d78e59f6-d261-4d7a-980c-fd909fadb4d6",
   "metadata": {},
   "outputs": [],
   "source": [
    "dictionar={0:'M', 1:'S'}"
   ]
  },
  {
   "cell_type": "code",
   "execution_count": 11,
   "id": "fe0f09d0-e3da-4574-b341-38923f8f3c52",
   "metadata": {},
   "outputs": [
    {
     "data": {
      "text/plain": [
       "'S'"
      ]
     },
     "execution_count": 11,
     "metadata": {},
     "output_type": "execute_result"
    }
   ],
   "source": [
    "dictionar[moneda()]"
   ]
  },
  {
   "cell_type": "code",
   "execution_count": 12,
   "id": "b5684533-d345-4b47-a733-01269649ab63",
   "metadata": {},
   "outputs": [
    {
     "name": "stdout",
     "output_type": "stream",
     "text": [
      "4\n"
     ]
    }
   ],
   "source": [
    "n=10\n",
    "stema=0\n",
    "for i in range(n):\n",
    "        stema+= moneda()\n",
    "print(stema)"
   ]
  },
  {
   "cell_type": "code",
   "execution_count": 13,
   "id": "6da57b94-eed4-4bdd-b6d0-ec920c6bbdcd",
   "metadata": {},
   "outputs": [],
   "source": [
    "def moneda_repetata(n):\n",
    "    stema=0\n",
    "    for i in range(n):\n",
    "            stema+= moneda()\n",
    "    return stema/n "
   ]
  },
  {
   "cell_type": "code",
   "execution_count": 14,
   "id": "6fa23021-3bc6-4497-b83a-d67290d2c13a",
   "metadata": {},
   "outputs": [
    {
     "data": {
      "text/plain": [
       "0.5"
      ]
     },
     "execution_count": 14,
     "metadata": {},
     "output_type": "execute_result"
    }
   ],
   "source": [
    "moneda_repetata(10)"
   ]
  },
  {
   "cell_type": "code",
   "execution_count": 15,
   "id": "442258ae-d8f5-4853-9ba5-a68b9fd3d913",
   "metadata": {},
   "outputs": [],
   "source": [
    "def moneda_repetata_k(n,k):\n",
    "    stema=0\n",
    "    for i in range(n):\n",
    "            stema+= moneda()\n",
    "    return 1 if stema==k else 0 "
   ]
  },
  {
   "cell_type": "code",
   "execution_count": 16,
   "id": "59e005f1-8d7a-426f-b24f-fa5da0b819f1",
   "metadata": {},
   "outputs": [
    {
     "data": {
      "text/plain": [
       "0"
      ]
     },
     "execution_count": 16,
     "metadata": {},
     "output_type": "execute_result"
    }
   ],
   "source": [
    "moneda_repetata_k(10,5)"
   ]
  },
  {
   "cell_type": "code",
   "execution_count": 17,
   "id": "a0de01f0-872b-44cf-bea8-37bfab80a40e",
   "metadata": {},
   "outputs": [],
   "source": [
    "nr_repetitii=1000000"
   ]
  },
  {
   "cell_type": "code",
   "execution_count": 18,
   "id": "55bd7db4-f6ae-430d-b22a-1eb444a26808",
   "metadata": {},
   "outputs": [
    {
     "name": "stdout",
     "output_type": "stream",
     "text": [
      "0.245849\n"
     ]
    }
   ],
   "source": [
    "nr_reusite=0\n",
    "n=10\n",
    "k=5\n",
    "for repetari in range(nr_repetitii):\n",
    "    nr_reusite+=moneda_repetata_k(n,k)\n",
    "print(nr_reusite/nr_repetitii)"
   ]
  },
  {
   "cell_type": "markdown",
   "id": "e4c4112a-4bb3-44c6-a723-7d5bbe0f09ed",
   "metadata": {},
   "source": [
    "Probabilitatea teoretica: $P(X_n^k)=C_n^k p^k q^{n-k}$ (schema binomiala)"
   ]
  },
  {
   "cell_type": "code",
   "execution_count": 19,
   "id": "80839e34-8c94-4ade-999f-1440e69c4b3d",
   "metadata": {},
   "outputs": [],
   "source": [
    "def probabilitate_teoretica_moneda(p, n,k):\n",
    "    return comb(n,k)*p**k*(1-p)**(n-k)"
   ]
  },
  {
   "cell_type": "code",
   "execution_count": 20,
   "id": "e87dfe8d-2da4-423d-80c7-4145355ebb75",
   "metadata": {},
   "outputs": [
    {
     "data": {
      "text/plain": [
       "0.24609375"
      ]
     },
     "execution_count": 20,
     "metadata": {},
     "output_type": "execute_result"
    }
   ],
   "source": [
    "probabilitate_teoretica_moneda(0.5, 10,5)\n"
   ]
  },
  {
   "cell_type": "code",
   "execution_count": 21,
   "id": "20478988-0172-48f1-be20-45b259554173",
   "metadata": {},
   "outputs": [
    {
     "name": "stdout",
     "output_type": "stream",
     "text": [
      "n=10, k=5, teoretic: 0.24609375, simulare=: 0.267\n",
      "n=20, k=14, teoretic: 0.03696441650390625, simulare=: 0.032\n",
      "n=300, k=145, teoretic: 0.038981861224294305, simulare=: 0.036\n",
      "n=10, k=5, teoretic: 0.24609375, simulare=: 0.268\n",
      "n=20, k=14, teoretic: 0.03696441650390625, simulare=: 0.047\n",
      "n=300, k=145, teoretic: 0.038981861224294305, simulare=: 0.037\n",
      "n=10, k=5, teoretic: 0.24609375, simulare=: 0.252\n",
      "n=20, k=14, teoretic: 0.03696441650390625, simulare=: 0.047\n",
      "n=300, k=145, teoretic: 0.038981861224294305, simulare=: 0.043\n",
      "n=10, k=5, teoretic: 0.24609375, simulare=: 0.259\n",
      "n=20, k=14, teoretic: 0.03696441650390625, simulare=: 0.049\n",
      "n=300, k=145, teoretic: 0.038981861224294305, simulare=: 0.034\n",
      "n=10, k=5, teoretic: 0.24609375, simulare=: 0.25\n",
      "n=20, k=14, teoretic: 0.03696441650390625, simulare=: 0.03\n",
      "n=300, k=145, teoretic: 0.038981861224294305, simulare=: 0.04\n",
      "n=10, k=5, teoretic: 0.24609375, simulare=: 0.231\n",
      "n=20, k=14, teoretic: 0.03696441650390625, simulare=: 0.042\n",
      "n=300, k=145, teoretic: 0.038981861224294305, simulare=: 0.038\n",
      "n=10, k=5, teoretic: 0.24609375, simulare=: 0.243\n",
      "n=20, k=14, teoretic: 0.03696441650390625, simulare=: 0.021\n",
      "n=300, k=145, teoretic: 0.038981861224294305, simulare=: 0.033\n",
      "n=10, k=5, teoretic: 0.24609375, simulare=: 0.252\n",
      "n=20, k=14, teoretic: 0.03696441650390625, simulare=: 0.045\n",
      "n=300, k=145, teoretic: 0.038981861224294305, simulare=: 0.036\n",
      "326 ms ± 73.6 ms per loop (mean ± std. dev. of 7 runs, 1 loop each)\n"
     ]
    }
   ],
   "source": [
    "%%timeit\n",
    "N=[10,20,300]\n",
    "K=[5,14,145]\n",
    "nr_repetitii=1000\n",
    "for n,k in zip(N,K):\n",
    "    nr_reusite=0\n",
    "    for repetari in range(nr_repetitii):\n",
    "        nr_reusite+=moneda_repetata_k(n,k)\n",
    "    print(f'n={n}, k={k}, teoretic: {probabilitate_teoretica_moneda(0.5,n,k)}, simulare=: {nr_reusite/nr_repetitii}')"
   ]
  },
  {
   "cell_type": "code",
   "execution_count": null,
   "id": "f0b35b4c-61eb-481f-98a2-f87a52f07c7f",
   "metadata": {},
   "outputs": [],
   "source": []
  },
  {
   "cell_type": "markdown",
   "id": "518d9cbd-7efc-4009-b922-e74afd42475a",
   "metadata": {},
   "source": [
    "## varianta 2"
   ]
  },
  {
   "cell_type": "code",
   "execution_count": 22,
   "id": "28dfbced-0d05-4586-a612-75f4a31a4bbf",
   "metadata": {},
   "outputs": [],
   "source": [
    "n=10\n",
    "k=5\n"
   ]
  },
  {
   "cell_type": "code",
   "execution_count": 23,
   "id": "80f4ccc3-02b9-406f-b56c-9f46982d1584",
   "metadata": {},
   "outputs": [],
   "source": [
    "nr_repetitii=1000\n",
    "monede=np.random.rand(nr_repetitii, n)"
   ]
  },
  {
   "cell_type": "code",
   "execution_count": 24,
   "id": "6c8dd43f-17ae-4673-935c-f1e7ca66e271",
   "metadata": {},
   "outputs": [
    {
     "data": {
      "text/plain": [
       "array([[0.82162581, 0.30345531, 0.73552731, ..., 0.96565124, 0.47544355,\n",
       "        0.51454721],\n",
       "       [0.80875598, 0.29669643, 0.85902564, ..., 0.40953225, 0.53023102,\n",
       "        0.00329852],\n",
       "       [0.35339151, 0.12050797, 0.36090234, ..., 0.25793416, 0.57280516,\n",
       "        0.78250885],\n",
       "       ...,\n",
       "       [0.08742497, 0.20375338, 0.52216056, ..., 0.29909396, 0.50237304,\n",
       "        0.80343882],\n",
       "       [0.67240411, 0.43049584, 0.01581925, ..., 0.86437728, 0.65363987,\n",
       "        0.25019769],\n",
       "       [0.23635338, 0.92552077, 0.84377916, ..., 0.36318802, 0.69171297,\n",
       "        0.37054553]])"
      ]
     },
     "execution_count": 24,
     "metadata": {},
     "output_type": "execute_result"
    }
   ],
   "source": [
    "monede"
   ]
  },
  {
   "cell_type": "code",
   "execution_count": 25,
   "id": "840dabff-2741-42c7-a8ad-df1515509b55",
   "metadata": {},
   "outputs": [],
   "source": [
    "steme=monede>0.5"
   ]
  },
  {
   "cell_type": "code",
   "execution_count": 26,
   "id": "97d39ca5-a712-481a-8f9c-4624a9ce16ed",
   "metadata": {},
   "outputs": [],
   "source": [
    "cate_steme= np.sum(steme, axis=1)"
   ]
  },
  {
   "cell_type": "code",
   "execution_count": 27,
   "id": "f639720d-75af-4038-97a8-6b9f139f4428",
   "metadata": {},
   "outputs": [
    {
     "data": {
      "text/plain": [
       "array([8, 6, 5, 7, 4, 5, 4, 3, 5, 5, 4, 3, 3, 6, 5, 2, 5, 6, 2, 9, 5, 4,\n",
       "       4, 3, 6, 6, 3, 2, 7, 5, 4, 6, 6, 4, 1, 5, 4, 2, 7, 5, 2, 3, 5, 4,\n",
       "       5, 6, 4, 4, 9, 3, 6, 6, 5, 3, 5, 8, 5, 1, 6, 1, 6, 5, 3, 3, 6, 4,\n",
       "       9, 3, 4, 4, 7, 6, 5, 7, 3, 4, 6, 3, 5, 3, 4, 5, 6, 5, 8, 6, 5, 5,\n",
       "       6, 7, 3, 3, 5, 7, 5, 5, 7, 5, 5, 2, 4, 4, 4, 7, 4, 8, 6, 3, 4, 4,\n",
       "       3, 5, 6, 8, 6, 7, 5, 3, 4, 4, 5, 7, 5, 5, 7, 5, 4, 5, 3, 4, 4, 5,\n",
       "       5, 5, 2, 5, 7, 4, 4, 4, 5, 5, 7, 5, 4, 5, 6, 3, 6, 5, 6, 8, 5, 5,\n",
       "       7, 5, 7, 6, 6, 4, 1, 2, 4, 5, 7, 4, 2, 6, 4, 4, 4, 4, 4, 2, 4, 5,\n",
       "       8, 3, 6, 5, 4, 6, 5, 5, 6, 8, 5, 6, 3, 6, 5, 3, 5, 4, 4, 4, 3, 4,\n",
       "       1, 8, 6, 3, 7, 5, 6, 6, 5, 3, 6, 4, 5, 3, 5, 6, 4, 6, 6, 4, 8, 7,\n",
       "       7, 5, 6, 3, 9, 6, 5, 4, 5, 3, 6, 6, 6, 3, 4, 4, 4, 6, 4, 5, 4, 4,\n",
       "       7, 4, 5, 7, 4, 3, 7, 3, 3, 6, 5, 7, 5, 4, 5, 6, 5, 4, 7, 4, 4, 5,\n",
       "       5, 8, 2, 4, 4, 7, 5, 5, 7, 9, 5, 6, 4, 5, 3, 6, 5, 3, 5, 7, 5, 4,\n",
       "       5, 4, 4, 2, 2, 8, 5, 7, 6, 3, 4, 6, 5, 6, 6, 3, 4, 7, 5, 7, 4, 3,\n",
       "       6, 5, 3, 4, 6, 7, 6, 5, 4, 4, 5, 4, 9, 5, 4, 4, 5, 5, 4, 2, 7, 4,\n",
       "       6, 4, 3, 6, 5, 6, 3, 3, 4, 5, 6, 5, 4, 7, 7, 3, 6, 4, 4, 5, 6, 7,\n",
       "       4, 5, 6, 4, 5, 5, 1, 6, 4, 5, 4, 2, 6, 5, 6, 6, 5, 5, 6, 3, 6, 4,\n",
       "       5, 2, 6, 5, 6, 5, 5, 9, 5, 8, 6, 3, 3, 4, 4, 6, 4, 8, 4, 7, 4, 6,\n",
       "       3, 3, 3, 3, 4, 4, 2, 2, 4, 7, 7, 6, 5, 5, 6, 5, 7, 5, 7, 3, 5, 4,\n",
       "       7, 4, 5, 3, 5, 5, 4, 6, 5, 8, 6, 7, 3, 5, 4, 4, 4, 2, 4, 6, 3, 2,\n",
       "       5, 5, 4, 2, 5, 7, 4, 9, 5, 2, 4, 5, 3, 8, 5, 6, 8, 7, 3, 8, 4, 6,\n",
       "       5, 3, 4, 7, 4, 5, 3, 6, 5, 5, 7, 4, 4, 3, 5, 6, 5, 8, 3, 2, 7, 7,\n",
       "       7, 3, 7, 1, 2, 4, 4, 4, 5, 5, 5, 3, 3, 4, 7, 5, 2, 6, 6, 4, 8, 6,\n",
       "       8, 6, 7, 7, 6, 6, 6, 6, 3, 5, 5, 3, 6, 5, 3, 5, 6, 5, 7, 6, 9, 8,\n",
       "       4, 4, 5, 4, 4, 3, 6, 4, 9, 5, 6, 4, 3, 2, 6, 5, 5, 6, 5, 5, 5, 6,\n",
       "       4, 6, 8, 6, 6, 4, 5, 7, 6, 5, 4, 4, 5, 6, 3, 3, 8, 8, 5, 5, 6, 5,\n",
       "       4, 5, 8, 7, 4, 5, 3, 5, 7, 3, 8, 3, 5, 2, 5, 7, 5, 3, 4, 6, 6, 5,\n",
       "       4, 3, 5, 5, 4, 6, 8, 5, 4, 3, 4, 7, 6, 5, 4, 5, 2, 6, 8, 1, 5, 3,\n",
       "       6, 9, 4, 4, 6, 6, 5, 5, 4, 5, 5, 4, 8, 2, 5, 5, 1, 6, 4, 5, 4, 7,\n",
       "       6, 2, 8, 6, 6, 4, 6, 3, 6, 7, 5, 3, 3, 7, 2, 5, 7, 3, 7, 3, 5, 6,\n",
       "       5, 5, 6, 6, 4, 6, 7, 7, 3, 4, 6, 4, 3, 5, 4, 5, 2, 2, 4, 6, 8, 6,\n",
       "       7, 6, 3, 4, 8, 4, 6, 6, 4, 5, 7, 3, 7, 3, 5, 4, 3, 4, 6, 6, 5, 4,\n",
       "       4, 4, 6, 4, 4, 3, 6, 3, 5, 4, 4, 2, 4, 7, 9, 6, 4, 6, 6, 5, 7, 7,\n",
       "       7, 3, 6, 5, 5, 6, 3, 6, 6, 3, 5, 6, 5, 7, 4, 4, 6, 5, 4, 5, 7, 6,\n",
       "       5, 6, 2, 4, 3, 7, 4, 4, 6, 4, 4, 4, 9, 6, 4, 7, 4, 4, 3, 6, 7, 6,\n",
       "       6, 4, 4, 7, 5, 7, 7, 7, 5, 8, 4, 4, 3, 4, 3, 3, 7, 7, 4, 3, 3, 7,\n",
       "       3, 6, 6, 5, 5, 5, 5, 2, 5, 7, 3, 2, 6, 6, 3, 5, 5, 5, 7, 5, 6, 4,\n",
       "       9, 7, 6, 5, 7, 8, 3, 5, 4, 4, 6, 6, 3, 6, 5, 5, 3, 5, 5, 2, 4, 8,\n",
       "       6, 4, 4, 5, 6, 8, 6, 1, 9, 3, 6, 6, 6, 4, 5, 6, 5, 4, 6, 5, 6, 4,\n",
       "       6, 3, 4, 5, 5, 5, 5, 4, 3, 2, 5, 4, 7, 7, 3, 3, 4, 7, 6, 4, 3, 2,\n",
       "       6, 2, 6, 4, 5, 4, 9, 5, 4, 6, 4, 4, 5, 6, 4, 4, 6, 4, 6, 5, 5, 4,\n",
       "       6, 3, 4, 4, 4, 7, 4, 4, 6, 3, 5, 5, 6, 5, 3, 7, 4, 5, 6, 7, 7, 7,\n",
       "       6, 7, 6, 6, 4, 6, 5, 4, 8, 8, 6, 5, 6, 1, 1, 4, 5, 5, 5, 7, 3, 3,\n",
       "       3, 5, 3, 3, 7, 8, 5, 4, 5, 6, 4, 4, 4, 2, 7, 3, 7, 5, 3, 4, 5, 7,\n",
       "       7, 6, 5, 7, 3, 4, 7, 6, 6, 4, 4, 8, 5, 4, 2, 7, 7, 3, 4, 7, 5, 7,\n",
       "       5, 6, 4, 3, 4, 6, 4, 5, 6, 6])"
      ]
     },
     "execution_count": 27,
     "metadata": {},
     "output_type": "execute_result"
    }
   ],
   "source": [
    "cate_steme"
   ]
  },
  {
   "cell_type": "code",
   "execution_count": 28,
   "id": "f57cfb90-88cd-46eb-b88d-0a59daa10853",
   "metadata": {},
   "outputs": [],
   "source": [
    "numar= np.sum(cate_steme==k )"
   ]
  },
  {
   "cell_type": "code",
   "execution_count": 29,
   "id": "05c34fa6-e09d-4585-ac72-a72dadd85c09",
   "metadata": {},
   "outputs": [
    {
     "data": {
      "text/plain": [
       "235"
      ]
     },
     "execution_count": 29,
     "metadata": {},
     "output_type": "execute_result"
    }
   ],
   "source": [
    "numar"
   ]
  },
  {
   "cell_type": "code",
   "execution_count": 30,
   "id": "cdb4f456-04f8-4aed-81f7-b4171e25cd70",
   "metadata": {},
   "outputs": [
    {
     "data": {
      "text/plain": [
       "0.235"
      ]
     },
     "execution_count": 30,
     "metadata": {},
     "output_type": "execute_result"
    }
   ],
   "source": [
    "numar/nr_repetitii"
   ]
  },
  {
   "cell_type": "code",
   "execution_count": 31,
   "id": "12dc5d55-4b26-4c41-ae4a-34963c8a2de6",
   "metadata": {},
   "outputs": [
    {
     "name": "stdout",
     "output_type": "stream",
     "text": [
      "n=10, k=5, teoretic: 0.24609375, simulare=: 0.245849\n",
      "n=20, k=14, teoretic: 0.03696441650390625, simulare=: 0.245849\n",
      "n=300, k=145, teoretic: 0.038981861224294305, simulare=: 0.245849\n",
      "n=10, k=5, teoretic: 0.24609375, simulare=: 0.245849\n",
      "n=20, k=14, teoretic: 0.03696441650390625, simulare=: 0.245849\n",
      "n=300, k=145, teoretic: 0.038981861224294305, simulare=: 0.245849\n",
      "n=10, k=5, teoretic: 0.24609375, simulare=: 0.245849\n",
      "n=20, k=14, teoretic: 0.03696441650390625, simulare=: 0.245849\n",
      "n=300, k=145, teoretic: 0.038981861224294305, simulare=: 0.245849\n",
      "n=10, k=5, teoretic: 0.24609375, simulare=: 0.245849\n",
      "n=20, k=14, teoretic: 0.03696441650390625, simulare=: 0.245849\n",
      "n=300, k=145, teoretic: 0.038981861224294305, simulare=: 0.245849\n",
      "n=10, k=5, teoretic: 0.24609375, simulare=: 0.245849\n",
      "n=20, k=14, teoretic: 0.03696441650390625, simulare=: 0.245849\n",
      "n=300, k=145, teoretic: 0.038981861224294305, simulare=: 0.245849\n",
      "n=10, k=5, teoretic: 0.24609375, simulare=: 0.245849\n",
      "n=20, k=14, teoretic: 0.03696441650390625, simulare=: 0.245849\n",
      "n=300, k=145, teoretic: 0.038981861224294305, simulare=: 0.245849\n",
      "n=10, k=5, teoretic: 0.24609375, simulare=: 0.245849\n",
      "n=20, k=14, teoretic: 0.03696441650390625, simulare=: 0.245849\n",
      "n=300, k=145, teoretic: 0.038981861224294305, simulare=: 0.245849\n",
      "n=10, k=5, teoretic: 0.24609375, simulare=: 0.245849\n",
      "n=20, k=14, teoretic: 0.03696441650390625, simulare=: 0.245849\n",
      "n=300, k=145, teoretic: 0.038981861224294305, simulare=: 0.245849\n",
      "5.21 s ± 538 ms per loop (mean ± std. dev. of 7 runs, 1 loop each)\n"
     ]
    }
   ],
   "source": [
    "%%timeit\n",
    "N=[10,20,300]\n",
    "K=[5,14,145]\n",
    "nr_repetitii=1000000\n",
    "for n,k in zip(N,K):\n",
    "    monede=np.random.rand(nr_repetitii, n)\n",
    "    steme=monede>0.5\n",
    "    cate_steme=np.sum(steme,axis=1)\n",
    "    numar=np.sum(cate_steme==k)\n",
    "    print(f'n={n}, k={k}, teoretic: {probabilitate_teoretica_moneda(0.5,n,k)}, simulare=: {nr_reusite/nr_repetitii}')"
   ]
  },
  {
   "cell_type": "code",
   "execution_count": 32,
   "id": "9cd629ea-aec0-4e7d-b479-3c65cb9e4102",
   "metadata": {},
   "outputs": [
    {
     "name": "stdout",
     "output_type": "stream",
     "text": [
      "n=10, k=5, teoretic: 0.24609375, simulare=: 0.245849\n",
      "n=20, k=14, teoretic: 0.03696441650390625, simulare=: 0.245849\n",
      "n=300, k=145, teoretic: 0.038981861224294305, simulare=: 0.245849\n",
      "n=10, k=5, teoretic: 0.24609375, simulare=: 0.245849\n",
      "n=20, k=14, teoretic: 0.03696441650390625, simulare=: 0.245849\n",
      "n=300, k=145, teoretic: 0.038981861224294305, simulare=: 0.245849\n",
      "n=10, k=5, teoretic: 0.24609375, simulare=: 0.245849\n",
      "n=20, k=14, teoretic: 0.03696441650390625, simulare=: 0.245849\n",
      "n=300, k=145, teoretic: 0.038981861224294305, simulare=: 0.245849\n",
      "n=10, k=5, teoretic: 0.24609375, simulare=: 0.245849\n",
      "n=20, k=14, teoretic: 0.03696441650390625, simulare=: 0.245849\n",
      "n=300, k=145, teoretic: 0.038981861224294305, simulare=: 0.245849\n",
      "n=10, k=5, teoretic: 0.24609375, simulare=: 0.245849\n",
      "n=20, k=14, teoretic: 0.03696441650390625, simulare=: 0.245849\n",
      "n=300, k=145, teoretic: 0.038981861224294305, simulare=: 0.245849\n",
      "n=10, k=5, teoretic: 0.24609375, simulare=: 0.245849\n",
      "n=20, k=14, teoretic: 0.03696441650390625, simulare=: 0.245849\n",
      "n=300, k=145, teoretic: 0.038981861224294305, simulare=: 0.245849\n",
      "n=10, k=5, teoretic: 0.24609375, simulare=: 0.245849\n",
      "n=20, k=14, teoretic: 0.03696441650390625, simulare=: 0.245849\n",
      "n=300, k=145, teoretic: 0.038981861224294305, simulare=: 0.245849\n",
      "n=10, k=5, teoretic: 0.24609375, simulare=: 0.245849\n",
      "n=20, k=14, teoretic: 0.03696441650390625, simulare=: 0.245849\n",
      "n=300, k=145, teoretic: 0.038981861224294305, simulare=: 0.245849\n",
      "5.33 s ± 1.09 s per loop (mean ± std. dev. of 7 runs, 1 loop each)\n"
     ]
    }
   ],
   "source": [
    "%%timeit\n",
    "N=[10,20,300]\n",
    "K=[5,14,145]\n",
    "nr_repetitii=1000000\n",
    "for n,k in zip(N,K):\n",
    "    numar=np.sum(np.sum(np.random.rand(nr_repetitii, n)>0.5,axis=1)==k)\n",
    "    print(f'n={n}, k={k}, teoretic: {probabilitate_teoretica_moneda(0.5,n,k)}, simulare=: {nr_reusite/nr_repetitii}')"
   ]
  },
  {
   "cell_type": "markdown",
   "id": "614497fa-b8c6-4286-ae80-4981a3e7092f",
   "metadata": {},
   "source": [
    "## munca individuala."
   ]
  },
  {
   "cell_type": "markdown",
   "id": "6e1d7435-8d44-4471-a38a-bcc6546adff6",
   "metadata": {},
   "source": [
    "Se arunca o moneda de  𝑛=10,20,300  de ori. Sa se calculeze probabilitatea ca stema sa apara **cel putin** de  𝑘=5,14,145  de ori."
   ]
  },
  {
   "cell_type": "code",
   "execution_count": 33,
   "id": "6e5282b7-c79d-40f1-9397-af06f403432d",
   "metadata": {
    "jupyter": {
     "source_hidden": true
    },
    "tags": []
   },
   "outputs": [
    {
     "ename": "SyntaxError",
     "evalue": "invalid syntax (<unknown>, line 7)",
     "output_type": "error",
     "traceback": [
      "Traceback \u001b[1;36m(most recent call last)\u001b[0m:\n",
      "  File \u001b[0;32m~\\anaconda3\\lib\\site-packages\\IPython\\core\\interactiveshell.py:3369\u001b[0m in \u001b[0;35mrun_code\u001b[0m\n    exec(code_obj, self.user_global_ns, self.user_ns)\n",
      "  Input \u001b[0;32mIn [33]\u001b[0m in \u001b[0;35m<cell line: 1>\u001b[0m\n    get_ipython().run_cell_magic('timeit', '', \"N=[10,20,300]\\nK=[5,14,145]\\nnr_repetitii=1000000\\nfor n,k in zip(N,K):\\n    prob_finala_teoretic =0\\n    prob_finala_simulare=0\\n    for k1 in range(k,n+1)\\n    monede=np.random.rand(nr_repetitii, n)\\n    steme=monede>0.5\\n    cate_steme=np.sum(steme,axis=1)\\n    numar=np.sum(cate_steme==k1)\\n    prob_finala_teoretic += probabilitatea_teoretica_moneda(0.5,n,k1)\\n    prob_finala_simulare += numar/nr_repetitii\\n    print(f'n={n}, k1={k1}, k={k}, teoretic: {prob_finala_teoretic}, simulare=: {prob_finala_simulare}')\\n\")\n",
      "  File \u001b[0;32m~\\anaconda3\\lib\\site-packages\\IPython\\core\\interactiveshell.py:2347\u001b[0m in \u001b[0;35mrun_cell_magic\u001b[0m\n    result = fn(*args, **kwargs)\n",
      "  File \u001b[0;32m~\\anaconda3\\lib\\site-packages\\IPython\\core\\magics\\execution.py:1108\u001b[0m in \u001b[0;35mtimeit\u001b[0m\n    ast_stmt = self.shell.compile.ast_parse(transform(cell))\n",
      "\u001b[1;36m  File \u001b[1;32m~\\anaconda3\\lib\\site-packages\\IPython\\core\\compilerop.py:105\u001b[1;36m in \u001b[1;35mast_parse\u001b[1;36m\u001b[0m\n\u001b[1;33m    return compile(source, filename, symbol, self.flags | PyCF_ONLY_AST, 1)\u001b[0m\n",
      "\u001b[1;36m  File \u001b[1;32m<unknown>:7\u001b[1;36m\u001b[0m\n\u001b[1;33m    for k1 in range(k,n+1)\u001b[0m\n\u001b[1;37m                          ^\u001b[0m\n\u001b[1;31mSyntaxError\u001b[0m\u001b[1;31m:\u001b[0m invalid syntax\n"
     ]
    }
   ],
   "source": [
    "%%timeit\n",
    "N=[10,20,300]\n",
    "K=[5,14,145]\n",
    "nr_repetitii=1000000\n",
    "for n,k in zip(N,K):\n",
    "    prob_finala_teoretic =0\n",
    "    prob_finala_simulare=0\n",
    "    for k1 in range(k,n+1)\n",
    "    monede=np.random.rand(nr_repetitii, n)\n",
    "    steme=monede>0.5\n",
    "    cate_steme=np.sum(steme,axis=1)\n",
    "    numar=np.sum(cate_steme==k1)\n",
    "    prob_finala_teoretic += probabilitatea_teoretica_moneda(0.5,n,k1)\n",
    "    prob_finala_simulare += numar/nr_repetitii\n",
    "    print(f'n={n}, k1={k1}, k={k}, teoretic: {prob_finala_teoretic}, simulare=: {prob_finala_simulare}')"
   ]
  },
  {
   "cell_type": "code",
   "execution_count": null,
   "id": "1f88b378-afc6-4847-bdf2-c9b994cd4f42",
   "metadata": {},
   "outputs": [],
   "source": [
    "%%timeit\n",
    "N=[10,20,300]\n",
    "K=[5,14,145]\n",
    "nr_repetitii=1000\n",
    "for n,k in zip(N,K):\n",
    "    prob_finala_teoretica=0\n",
    "    prob_finala_simulare=0\n",
    "    for k1 in range(k, n+1):\n",
    "        monede=np.random.rand(nr_repetitii, n)\n",
    "        steme= monede>0.5\n",
    "        cate_steme= np.sum(steme,axis=1)\n",
    "        numar = np.sum(cate_steme ==k1)\n",
    "          prob_finala_teoretica+=probabilitate_teoretica_moneda(0.5,n,k1)\n",
    "        prob_finala_simulare+=numar/nr_repetitii\n",
    "    print(f'n={n}, k1={k1}, k={k}, teoretic:{prob_finala_teoretica}, simulare:{prob_finala_simulare}')"
   ]
  },
  {
   "cell_type": "markdown",
   "id": "4206a5ce-cc8e-4aeb-81ba-8b2365e1a8fd",
   "metadata": {},
   "source": [
    "## Tema"
   ]
  },
  {
   "cell_type": "markdown",
   "id": "b2cd3870-9f99-4165-b6cd-56b94d9ed3a4",
   "metadata": {},
   "source": [
    " Se arunca un zar de $ n= 3 $ ori. \n",
    "1. Care e probabilitatea ca suma fetelor sa fie 15? \n",
    "2. Care e probabilitatea ca suma fetelor sa fie cel putin 15?\n"
   ]
  },
  {
   "cell_type": "code",
   "execution_count": 34,
   "id": "28462eea-dacf-4ecd-863f-14291a06751f",
   "metadata": {},
   "outputs": [
    {
     "name": "stdout",
     "output_type": "stream",
     "text": [
      "0.34722222222222227\n"
     ]
    }
   ],
   "source": [
    "from math import comb\n",
    "import numpy as np\n",
    "p = 1/6\n",
    "probabilitatea_suma_15 = comb(3,1)*(p**1)*((1-p)**2)\n",
    "print(probabilitatea_suma_15)"
   ]
  },
  {
   "cell_type": "code",
   "execution_count": 37,
   "id": "cde59825-be57-4e0c-8ff8-f8c6d3cfd577",
   "metadata": {},
   "outputs": [],
   "source": [
    "probabilitatea_suma_minim_15 = sum(np.array([comb(3,i)*(p**i)*((1-p)**(3-i)) for i in range(1,4)]))"
   ]
  },
  {
   "cell_type": "code",
   "execution_count": 38,
   "id": "032ae153-efdd-4e2d-b24f-3121c6a5578d",
   "metadata": {},
   "outputs": [
    {
     "name": "stdout",
     "output_type": "stream",
     "text": [
      "0.4212962962962964\n"
     ]
    }
   ],
   "source": [
    "print(probabilitatea_suma_minim_15)"
   ]
  },
  {
   "cell_type": "code",
   "execution_count": 47,
   "id": "074d7218-c3e6-4449-ac49-f7179b85106c",
   "metadata": {
    "collapsed": true,
    "jupyter": {
     "outputs_hidden": true,
     "source_hidden": true
    },
    "tags": []
   },
   "outputs": [
    {
     "data": {
      "text/plain": [
       "8"
      ]
     },
     "execution_count": 47,
     "metadata": {},
     "output_type": "execute_result"
    }
   ],
   "source": [
    "aruncare_repetata(3)"
   ]
  },
  {
   "cell_type": "code",
   "execution_count": 48,
   "id": "09db653b-e556-4746-8283-7fe0976ce9a7",
   "metadata": {
    "jupyter": {
     "source_hidden": true
    },
    "tags": []
   },
   "outputs": [],
   "source": [
    "def probabilitatea_teoretica_zar(p,n,k):\n",
    "    return comb(n,k)*p**k*(1-p)**(n-k)"
   ]
  },
  {
   "cell_type": "code",
   "execution_count": 49,
   "id": "0e958ee3-1e42-416d-a346-cd5edc7fc907",
   "metadata": {
    "jupyter": {
     "source_hidden": true
    },
    "tags": []
   },
   "outputs": [],
   "source": []
  },
  {
   "cell_type": "code",
   "execution_count": null,
   "id": "669cc52c-b165-4c87-b7b6-46260a64bcad",
   "metadata": {
    "jupyter": {
     "source_hidden": true
    },
    "tags": []
   },
   "outputs": [],
   "source": []
  }
 ],
 "metadata": {
  "kernelspec": {
   "display_name": "Python 3 (ipykernel)",
   "language": "python",
   "name": "python3"
  },
  "language_info": {
   "codemirror_mode": {
    "name": "ipython",
    "version": 3
   },
   "file_extension": ".py",
   "mimetype": "text/x-python",
   "name": "python",
   "nbconvert_exporter": "python",
   "pygments_lexer": "ipython3",
   "version": "3.9.12"
  }
 },
 "nbformat": 4,
 "nbformat_minor": 5
}
