{
 "cells": [
  {
   "cell_type": "markdown",
   "id": "bf820d50-a291-4e00-99f6-360a3ad6c733",
   "metadata": {},
   "source": [
    "## Seminar 5\n"
   ]
  },
  {
   "cell_type": "code",
   "execution_count": 15,
   "id": "78e57ede-9f0f-4d4b-8201-6ec24715e678",
   "metadata": {},
   "outputs": [],
   "source": [
    "import numpy as np"
   ]
  },
  {
   "cell_type": "code",
   "execution_count": 16,
   "id": "90949d2d-a787-4de7-90f4-45f4596ececb",
   "metadata": {},
   "outputs": [],
   "source": [
    "import scipy.integrate as integrate "
   ]
  },
  {
   "cell_type": "markdown",
   "id": "276376bd-1ea8-4cab-aac4-a0635b4d626d",
   "metadata": {},
   "source": [
    "$$f(x)=\\left\\{ \\begin{array}{cc} x & 0<x\\le 1 \\\\ 2-x & 1<x\\le 2 \\\\ 0 & \\textrm {in rest}\\\\ \\end{array} \\right. $$ "
   ]
  },
  {
   "cell_type": "code",
   "execution_count": 17,
   "id": "800d04d1-4199-447d-befb-6a2174dba00f",
   "metadata": {},
   "outputs": [],
   "source": [
    "def f(x):\n",
    "    return x if 0<x<=1 else 2-x if 1<x<=2 else 0"
   ]
  },
  {
   "cell_type": "code",
   "execution_count": 18,
   "id": "020d4075-99a4-4081-9167-d631ab063e7b",
   "metadata": {},
   "outputs": [
    {
     "data": {
      "text/plain": [
       "(0, 0.5, 0.7, 0)"
      ]
     },
     "execution_count": 18,
     "metadata": {},
     "output_type": "execute_result"
    }
   ],
   "source": [
    "f(-1), f(0.5), f(1.3), f(10)"
   ]
  },
  {
   "cell_type": "markdown",
   "id": "7b5eed3d-b915-4008-a865-87bc8a70e445",
   "metadata": {},
   "source": [
    "integrate.quad(functia, limita inferioara, limita superioara)"
   ]
  },
  {
   "cell_type": "code",
   "execution_count": 19,
   "id": "775d564c-24f3-4f49-bf7a-b60717df880b",
   "metadata": {},
   "outputs": [
    {
     "data": {
      "text/plain": [
       "(0.5, 5.551115123125783e-15)"
      ]
     },
     "execution_count": 19,
     "metadata": {},
     "output_type": "execute_result"
    }
   ],
   "source": [
    "integrate.quad(f,1,2)"
   ]
  },
  {
   "cell_type": "code",
   "execution_count": 20,
   "id": "79c9c669-cd95-4634-99cc-79485e40ed07",
   "metadata": {},
   "outputs": [
    {
     "data": {
      "text/plain": [
       "(1.0000000000000004, 1.449467212921718e-10)"
      ]
     },
     "execution_count": 20,
     "metadata": {},
     "output_type": "execute_result"
    }
   ],
   "source": [
    "integrate.quad(f, -np.inf, np.inf)"
   ]
  },
  {
   "cell_type": "code",
   "execution_count": 21,
   "id": "dfda7b6c-3052-42e5-b81f-41a51f51b4fd",
   "metadata": {},
   "outputs": [],
   "source": [
    "def functie_repartitie(f,x):\n",
    "    return integrate.quad(f, -np.inf, x)"
   ]
  },
  {
   "cell_type": "code",
   "execution_count": 22,
   "id": "27b86591-f285-4209-8986-8261fb607fd2",
   "metadata": {},
   "outputs": [
    {
     "data": {
      "text/plain": [
       "(1.0000000000000004, 1.449467212921718e-10)"
      ]
     },
     "execution_count": 22,
     "metadata": {},
     "output_type": "execute_result"
    }
   ],
   "source": [
    "functie_repartitie(f,2)"
   ]
  },
  {
   "cell_type": "code",
   "execution_count": 23,
   "id": "729d2fce-933d-4f58-a753-49b0b471a441",
   "metadata": {},
   "outputs": [
    {
     "data": {
      "text/plain": [
       "(0.5, 2.3365764992029237e-09)"
      ]
     },
     "execution_count": 23,
     "metadata": {},
     "output_type": "execute_result"
    }
   ],
   "source": [
    "functie_repartitie(f, 1)"
   ]
  },
  {
   "cell_type": "code",
   "execution_count": 24,
   "id": "f30eb8b4-fe08-470c-a737-56616a1fa08d",
   "metadata": {},
   "outputs": [
    {
     "data": {
      "text/plain": [
       "(1.0000000000000004, 1.449467212921718e-10)"
      ]
     },
     "execution_count": 24,
     "metadata": {},
     "output_type": "execute_result"
    }
   ],
   "source": [
    "integrate.quad(f, -np.inf, np.inf)"
   ]
  },
  {
   "cell_type": "code",
   "execution_count": 25,
   "id": "272c845f-5f07-454b-8d83-97f92a9b7754",
   "metadata": {},
   "outputs": [],
   "source": [
    "def f_inmultit_cu_x(x):\n",
    "    return x*f(x)"
   ]
  },
  {
   "cell_type": "code",
   "execution_count": 26,
   "id": "049689b2-fb1e-48c3-a690-b340af1a4788",
   "metadata": {},
   "outputs": [],
   "source": [
    "media= integrate.quad(f_inmultit_cu_x, -np.inf, np.inf)"
   ]
  },
  {
   "cell_type": "code",
   "execution_count": 27,
   "id": "684f7879-681b-4a61-8e90-987ee4c02acd",
   "metadata": {},
   "outputs": [
    {
     "data": {
      "text/plain": [
       "(1.000000000000003, 7.011253799760198e-10)"
      ]
     },
     "execution_count": 27,
     "metadata": {},
     "output_type": "execute_result"
    }
   ],
   "source": [
    "media"
   ]
  },
  {
   "cell_type": "code",
   "execution_count": 28,
   "id": "bf6c1460-c2df-491f-8bfc-1d0110e0db18",
   "metadata": {},
   "outputs": [],
   "source": [
    "media_ = integrate.quad(lambda x: x*f(x), -np.inf, np.inf)"
   ]
  },
  {
   "cell_type": "code",
   "execution_count": 29,
   "id": "1641b64e-1394-4522-ab46-e72ea6df5ed3",
   "metadata": {},
   "outputs": [
    {
     "data": {
      "text/plain": [
       "(1.000000000000003, 7.011253799760198e-10)"
      ]
     },
     "execution_count": 29,
     "metadata": {},
     "output_type": "execute_result"
    }
   ],
   "source": [
    "media_"
   ]
  },
  {
   "cell_type": "code",
   "execution_count": 30,
   "id": "e4443765-516f-4a9b-b8a3-b0929b393c6d",
   "metadata": {},
   "outputs": [],
   "source": [
    "media_2 =integrate.quad(lambda x: x**2*f(x), -np.inf, np.inf)"
   ]
  },
  {
   "cell_type": "code",
   "execution_count": 31,
   "id": "b158f084-e8f7-40a1-aa9b-2c43c7975380",
   "metadata": {},
   "outputs": [
    {
     "data": {
      "text/plain": [
       "(1.1666666666666772, 2.778943741787998e-09)"
      ]
     },
     "execution_count": 31,
     "metadata": {},
     "output_type": "execute_result"
    }
   ],
   "source": [
    "media_2"
   ]
  },
  {
   "cell_type": "code",
   "execution_count": 32,
   "id": "1c630661-7a0e-4745-92e1-93a11a05af3c",
   "metadata": {},
   "outputs": [
    {
     "data": {
      "text/plain": [
       "(1.1666666666666772, 2.778943741787998e-09)"
      ]
     },
     "execution_count": 32,
     "metadata": {},
     "output_type": "execute_result"
    }
   ],
   "source": [
    "media_2"
   ]
  },
  {
   "cell_type": "code",
   "execution_count": 33,
   "id": "a9e0eb17-951f-4285-9f48-6ac7745ab0f5",
   "metadata": {},
   "outputs": [
    {
     "data": {
      "text/plain": [
       "1.1666666666666772"
      ]
     },
     "execution_count": 33,
     "metadata": {},
     "output_type": "execute_result"
    }
   ],
   "source": [
    "media_2[0]"
   ]
  },
  {
   "cell_type": "code",
   "execution_count": 34,
   "id": "92f07977-1fc0-40ed-b9f0-d754fb5291fa",
   "metadata": {},
   "outputs": [
    {
     "data": {
      "text/plain": [
       "((1.1666666666666772, 2.778943741787998e-09), 1.1666666666666772)"
      ]
     },
     "execution_count": 34,
     "metadata": {},
     "output_type": "execute_result"
    }
   ],
   "source": [
    "media_2, media_2[0]"
   ]
  },
  {
   "cell_type": "code",
   "execution_count": 35,
   "id": "44e25af0-d306-4595-836b-bba6a4dcb75c",
   "metadata": {},
   "outputs": [],
   "source": [
    "dispersia=media_2[0]-media[0]**2"
   ]
  },
  {
   "cell_type": "code",
   "execution_count": 36,
   "id": "a6b4cc26-2945-40bc-b137-8e297052200b",
   "metadata": {},
   "outputs": [
    {
     "data": {
      "text/plain": [
       "0.16666666666667096"
      ]
     },
     "execution_count": 36,
     "metadata": {},
     "output_type": "execute_result"
    }
   ],
   "source": [
    "dispersia"
   ]
  },
  {
   "cell_type": "code",
   "execution_count": 37,
   "id": "e3f94223-8135-41f2-86ac-097b2cb80963",
   "metadata": {},
   "outputs": [],
   "source": [
    "sigma=np.sqrt(dispersia)"
   ]
  },
  {
   "cell_type": "code",
   "execution_count": 38,
   "id": "622d7599-0215-45bf-bd38-6273ad5d839b",
   "metadata": {},
   "outputs": [
    {
     "data": {
      "text/plain": [
       "0.4082482904638683"
      ]
     },
     "execution_count": 38,
     "metadata": {},
     "output_type": "execute_result"
    }
   ],
   "source": [
    "sigma"
   ]
  },
  {
   "cell_type": "markdown",
   "id": "95372df3-6fd2-4c79-b12a-ea72e99e09f5",
   "metadata": {},
   "source": [
    "## Problema"
   ]
  },
  {
   "cell_type": "markdown",
   "id": "a3f7f879-974c-41b9-87c0-82e8c73b0397",
   "metadata": {},
   "source": [
    "Eticheta unei sticle de detergent specifica o greutate de 12g/sticla. Linia de productie umple fiecare sticla in baza urmatoarei functii de densitate de probabilitate:\n",
    "$$ f(x) =\\left\\{\\begin{array}{cc} 8 && 11.975 <x \\le 12.1 \\\\0 & \\textrm{ in rest} \\end{array} \\right.$$\n",
    "\n",
    "1.Care este probabilitatea ca o sticla sa aiba o greutate intre 12 su 12.05 grame?\n",
    "2.Care este probabilitatea ca o sticla sa fie umpluta cu mai mult de 12 grame?\n",
    "3.Controlul de calitate accepta sticle umplute cu pana la 0.02g deviere de la eticheta. Care e probabilitatea ca o sticla sa nu treaca controlul de calitate?"
   ]
  },
  {
   "cell_type": "code",
   "execution_count": 39,
   "id": "2831fd20-fad9-42a3-9246-4d605b1ac828",
   "metadata": {},
   "outputs": [
    {
     "data": {
      "text/plain": [
       "8.0"
      ]
     },
     "execution_count": 39,
     "metadata": {},
     "output_type": "execute_result"
    }
   ],
   "source": [
    "1/(12.1-11.975)"
   ]
  },
  {
   "cell_type": "markdown",
   "id": "633f9d0a-1ea0-4ecf-bbd1-84dbec6fdd11",
   "metadata": {},
   "source": [
    "1.1.Care este probabilitatea ca o sticla sa aiba o greutate intre 12 su 12.05 grame?"
   ]
  },
  {
   "cell_type": "code",
   "execution_count": 40,
   "id": "38e0ac19-62cd-4ff6-8592-3031fe466e74",
   "metadata": {},
   "outputs": [],
   "source": [
    "a=11.975\n",
    "b=12.1"
   ]
  },
  {
   "cell_type": "code",
   "execution_count": 41,
   "id": "28be4d97-05e6-47ab-b0c8-95ebe8edea78",
   "metadata": {},
   "outputs": [],
   "source": [
    "def F_unif(x,a=11.975,b=12.1):\n",
    "    return 0 if x<a else (x-a)/(b-a) if a<x<=b else 1"
   ]
  },
  {
   "cell_type": "code",
   "execution_count": 42,
   "id": "f7f5d8dd-6373-4019-b5fe-8c1a8bfffb2c",
   "metadata": {},
   "outputs": [
    {
     "data": {
      "text/plain": [
       "(0, 0.20000000000000284, 1)"
      ]
     },
     "execution_count": 42,
     "metadata": {},
     "output_type": "execute_result"
    }
   ],
   "source": [
    "F_unif(10), F_unif(12), F_unif(110)"
   ]
  },
  {
   "cell_type": "code",
   "execution_count": 43,
   "id": "b5cb3b8b-5ac9-4a87-9e55-8c6166255f71",
   "metadata": {},
   "outputs": [
    {
     "data": {
      "text/plain": [
       "0.4000000000000057"
      ]
     },
     "execution_count": 43,
     "metadata": {},
     "output_type": "execute_result"
    }
   ],
   "source": [
    "#1\n",
    "F_unif(12.05)- F_unif(12)"
   ]
  },
  {
   "cell_type": "markdown",
   "id": "8a97a2a3-c11c-4f27-b0d6-9e92bc02b21a",
   "metadata": {},
   "source": [
    "2.Care este probabilitatea ca o sticla sa fie umpluta cu mai mult de 12 grame?"
   ]
  },
  {
   "cell_type": "code",
   "execution_count": 44,
   "id": "be057eef-9c08-4832-812e-aee1ff6eaec3",
   "metadata": {},
   "outputs": [
    {
     "data": {
      "text/plain": [
       "0.7999999999999972"
      ]
     },
     "execution_count": 44,
     "metadata": {},
     "output_type": "execute_result"
    }
   ],
   "source": [
    "1-F_unif(12)"
   ]
  },
  {
   "cell_type": "markdown",
   "id": "a6dda8ba-74d2-48e4-abc6-9ade94581493",
   "metadata": {},
   "source": [
    "3.Controlul de calitate accepta sticle umplute cu pana la 0.02g deviere de la eticheta. Care e probabilitatea ca o sticla sa nu treaca controlul de calitate?"
   ]
  },
  {
   "cell_type": "code",
   "execution_count": 45,
   "id": "21dff1d9-32a0-4a17-96ac-2b4bf15e24ff",
   "metadata": {},
   "outputs": [
    {
     "data": {
      "text/plain": [
       "0.6800000000000068"
      ]
     },
     "execution_count": 45,
     "metadata": {},
     "output_type": "execute_result"
    }
   ],
   "source": [
    "1-(F_unif(12.02)-F_unif(11.98))"
   ]
  },
  {
   "cell_type": "code",
   "execution_count": 46,
   "id": "5f6203d5-db8a-43d2-992f-c85dee8c6fbd",
   "metadata": {},
   "outputs": [
    {
     "data": {
      "text/plain": [
       "0.6800000000000068"
      ]
     },
     "execution_count": 46,
     "metadata": {},
     "output_type": "execute_result"
    }
   ],
   "source": [
    "F_unif(11.98)+(1-F_unif(12.02))"
   ]
  },
  {
   "cell_type": "markdown",
   "id": "84cb949b-a732-4dc9-bd75-1d5600558b0c",
   "metadata": {},
   "source": [
    "## Problema"
   ]
  },
  {
   "cell_type": "markdown",
   "id": "d4691b52-88c0-4d40-9b74-1c90c7ed1ba7",
   "metadata": {},
   "source": [
    "Variabila aleatoare $X$ urmeaza o distributie uniforma continua cu valori intre 1 si 1.5.\n",
    "\n",
    "0. Scrieti functia de densitate de probabilitate si functia de repartitie\n",
    "\n",
    "Calculati:\n",
    "1. $P(X=1.25)$.\n",
    "2. $P(1\\le X\\le 1.25)$.\n",
    "3. $P(1.20 \\le X<1.5)$.\n",
    "4.$E(X)$\n",
    "5. $\\sigma(X)$"
   ]
  },
  {
   "cell_type": "markdown",
   "id": "14f75d6e-e112-4df2-8885-d2c6e8d75d65",
   "metadata": {},
   "source": [
    "##### 0.Scrieti functia densitate de probabilitate si functia de repartitie"
   ]
  },
  {
   "cell_type": "markdown",
   "id": "6dbd1a71-ce02-4975-a118-46aff7c8f161",
   "metadata": {},
   "source": [
    "$$ f(x) = \\left\\{\\begin{array}{cc} 2 & 1 <x \\le 1.5 \\\\ 0 & \\textrm{in rest} \\end{array} \\right. $$"
   ]
  },
  {
   "cell_type": "code",
   "execution_count": 47,
   "id": "b836019d-19e3-42b2-8625-42a8823c0391",
   "metadata": {},
   "outputs": [],
   "source": [
    "def functie(x):\n",
    "    return 2 if 1<=x<=1.5 else 0"
   ]
  },
  {
   "cell_type": "markdown",
   "id": "3853ec1a-253c-40aa-8bda-07236149b56f",
   "metadata": {
    "tags": []
   },
   "source": [
    "1. $P(X=1.25)$ = 0"
   ]
  },
  {
   "cell_type": "markdown",
   "id": "891cd425-1bf8-4f01-93c3-9616275808d5",
   "metadata": {},
   "source": [
    "2. $P(1\\le X\\le 1.25)$"
   ]
  },
  {
   "cell_type": "code",
   "execution_count": 48,
   "id": "435af1f5-1051-4038-8493-8e24664fc19b",
   "metadata": {},
   "outputs": [],
   "source": [
    "def F(x):\n",
    "    return (x-1)*2 if 1<=x<=1.5 else 1 if x>1.5 else 0"
   ]
  },
  {
   "cell_type": "code",
   "execution_count": 49,
   "id": "999d6a05-cbc6-4f96-8af3-bb71bf9140b3",
   "metadata": {},
   "outputs": [
    {
     "name": "stdout",
     "output_type": "stream",
     "text": [
      "0.5\n"
     ]
    }
   ],
   "source": [
    "probabilitatea = F(1.25) - F(1)\n",
    "print(probabilitatea)"
   ]
  },
  {
   "cell_type": "markdown",
   "id": "adc5f38e-f41e-49e1-b7d8-b3a898224ea1",
   "metadata": {},
   "source": [
    "3. $P(1.20 \\le X<1.5)$"
   ]
  },
  {
   "cell_type": "code",
   "execution_count": 50,
   "id": "ab614e57-f902-436c-82de-e2c5681fae89",
   "metadata": {},
   "outputs": [
    {
     "name": "stdout",
     "output_type": "stream",
     "text": [
      "0.6000000000000001\n"
     ]
    }
   ],
   "source": [
    "probab2 = F(1.5)-F(1.2)\n",
    "print(probab2)"
   ]
  },
  {
   "cell_type": "markdown",
   "id": "86108262-cf41-4c9f-a444-d2c53e9f0a18",
   "metadata": {},
   "source": [
    "4. $E(X)$"
   ]
  },
  {
   "cell_type": "code",
   "execution_count": 53,
   "id": "b1fbe076-91e1-4ce2-92b2-1e4eeca89b01",
   "metadata": {},
   "outputs": [],
   "source": [
    "def f_ori_x(x):\n",
    "    return x*f(x)"
   ]
  },
  {
   "cell_type": "code",
   "execution_count": 54,
   "id": "d20455c2-9d96-4c71-9140-275c423a5f8d",
   "metadata": {},
   "outputs": [
    {
     "name": "stdout",
     "output_type": "stream",
     "text": [
      "1.000000000000003\n"
     ]
    }
   ],
   "source": [
    "import numpy as np\n",
    "import scipy.integrate as integrate\n",
    "media=integrate.quad(f_ori_x, -np.inf, np.inf)\n",
    "print(media[0])"
   ]
  },
  {
   "cell_type": "markdown",
   "id": "568d86b6-d97c-466f-81e9-9ab5d19db522",
   "metadata": {},
   "source": [
    "5. $\\sigma(X)$"
   ]
  },
  {
   "cell_type": "code",
   "execution_count": 56,
   "id": "31786af6-ec02-4b5b-b3a4-7727fbdd4eb1",
   "metadata": {},
   "outputs": [
    {
     "name": "stdout",
     "output_type": "stream",
     "text": [
      "1.1666666666666772\n"
     ]
    }
   ],
   "source": [
    "media_2=integrate.quad(lambda x: x**2*f(x), -np.inf, np.inf)\n",
    "print(media_2[0])"
   ]
  },
  {
   "cell_type": "code",
   "execution_count": 57,
   "id": "08dc91ee-9c67-4b61-8e2a-d780cfbd4aa0",
   "metadata": {},
   "outputs": [
    {
     "name": "stdout",
     "output_type": "stream",
     "text": [
      "0.16666666666667096\n"
     ]
    }
   ],
   "source": [
    "dispersia=media_2[0]-media[0]**2\n",
    "print(dispersia)"
   ]
  },
  {
   "cell_type": "code",
   "execution_count": 58,
   "id": "e4ae5bb4-f1ff-44b1-9217-c2591b0b4b78",
   "metadata": {},
   "outputs": [
    {
     "name": "stdout",
     "output_type": "stream",
     "text": [
      "0.4082482904638683\n"
     ]
    }
   ],
   "source": [
    "sigma=np.sqrt(dispersia)\n",
    "print(sigma)"
   ]
  },
  {
   "cell_type": "code",
   "execution_count": null,
   "id": "36707082-7bcb-4de0-98d0-21f2809d2878",
   "metadata": {},
   "outputs": [],
   "source": []
  }
 ],
 "metadata": {
  "kernelspec": {
   "display_name": "Python 3 (ipykernel)",
   "language": "python",
   "name": "python3"
  },
  "language_info": {
   "codemirror_mode": {
    "name": "ipython",
    "version": 3
   },
   "file_extension": ".py",
   "mimetype": "text/x-python",
   "name": "python",
   "nbconvert_exporter": "python",
   "pygments_lexer": "ipython3",
   "version": "3.9.12"
  }
 },
 "nbformat": 4,
 "nbformat_minor": 5
}
